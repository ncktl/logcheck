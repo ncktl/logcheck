{
 "cells": [
  {
   "cell_type": "code",
   "execution_count": null,
   "outputs": [],
   "source": [
    "from string import ascii_letters\n",
    "\n",
    "# Import required libraries\n",
    "import pandas as pd\n",
    "import numpy as np\n",
    "import matplotlib.pyplot as plt\n",
    "import sklearn\n",
    "import tensorflow as tf\n",
    "\n",
    "# Import necessary modules\n",
    "from sklearn.model_selection import train_test_split\n",
    "from sklearn.metrics import mean_squared_error\n",
    "from math import sqrt\n",
    "\n",
    "# Keras specific\n",
    "import keras\n",
    "from keras.models import Sequential\n",
    "from keras.layers import Dense, LSTM, Embedding, Flatten, CuDNNLSTM, Bidirectional, Dropout\n",
    "# from keras.utils import to_categorical\n",
    "\n",
    "# Gemsim\n",
    "import gensim.models\n",
    "from gensim import utils\n",
    "\n",
    "from numpy import array\n",
    "from numpy import asarray\n",
    "from numpy import zeros\n",
    "from keras.preprocessing.text import Tokenizer\n",
    "\n",
    "from sklearn.metrics import precision_score, recall_score, f1_score, accuracy_score, confusion_matrix, ConfusionMatrixDisplay, balanced_accuracy_score\n",
    "\n",
    "# from tensorflow.keras.datasets import imdb\n",
    "# from tensorflow.keras.layers import Embedding, Dense, LSTM\n",
    "from tensorflow.keras.losses import BinaryCrossentropy\n",
    "# from tensorflow.keras.models import Sequential\n",
    "# from tensorflow.keras.optimizers import Adam\n",
    "from tensorflow.keras.preprocessing.sequence import pad_sequences\n",
    "from keras.callbacks import EarlyStopping, ModelCheckpoint"
   ],
   "metadata": {
    "collapsed": false,
    "pycharm": {
     "name": "#%%\n"
    }
   }
  },
  {
   "cell_type": "code",
   "execution_count": null,
   "outputs": [],
   "source": [
    "from platform import python_version\n",
    "\n",
    "print(python_version())"
   ],
   "metadata": {
    "collapsed": false,
    "pycharm": {
     "name": "#%%\n"
    }
   }
  },
  {
   "cell_type": "code",
   "execution_count": null,
   "outputs": [],
   "source": [
    "import tensorflow as tf\n",
    "print(\"Before:\\n\" ,tf.config.get_visible_devices('GPU'))\n",
    "gpus = tf.config.list_physical_devices('GPU')\n",
    "tf.config.experimental.set_visible_devices(gpus[1], 'GPU')\n",
    "print(\"After:\\n\" ,tf.config.get_visible_devices('GPU'))"
   ],
   "metadata": {
    "collapsed": false,
    "pycharm": {
     "name": "#%%\n"
    }
   }
  },
  {
   "cell_type": "code",
   "execution_count": null,
   "outputs": [],
   "source": [
    "class MyCorpus:\n",
    "        \"\"\"An iterator that yields sentences (lists of str).\"\"\"\n",
    "        def __init__(self, text_list: list):\n",
    "            self.text_list = text_list\n",
    "\n",
    "        def __iter__(self):\n",
    "            for line in self.text_list:\n",
    "                yield line"
   ],
   "metadata": {
    "collapsed": false,
    "pycharm": {
     "name": "#%%\n"
    }
   }
  },
  {
   "cell_type": "code",
   "execution_count": null,
   "outputs": [],
   "source": [
    "# Read the data\n",
    "df = pd.read_csv('../features/100repos_zhenhao.csv')\n",
    "print(df.shape)\n",
    "# df"
   ],
   "metadata": {
    "collapsed": false,
    "pycharm": {
     "name": "#%%\n"
    }
   }
  },
  {
   "cell_type": "code",
   "execution_count": null,
   "outputs": [],
   "source": [
    "# Split data into train and test sets\n",
    "X = df.context\n",
    "X = [list(map(lambda y: str(ascii_letters.index(y)), list(x))) for x in X]\n",
    "y = df.contains_logging\n",
    "X_train, X_test, y_train, y_test = train_test_split(X, y, test_size = 0.25, stratify=y, random_state=0)\n",
    "\n",
    "# one hot encode outputs, no longer used\n",
    "# y_train_categorical = to_categorical(y_train)\n",
    "y_train_categorical = None\n",
    "# y_test_categorical = to_categorical(y_test)\n",
    "# count_classes = y_test_categorical.shape[1]\n",
    "# assert count_classes == 2\n",
    "\n",
    "# Word2Vec Model\n",
    "sentences = MyCorpus(X)\n",
    "gensim_model = gensim.models.Word2Vec(sentences=sentences, min_count=1)\n",
    "actual_vocab_size = len(gensim_model.wv.key_to_index)\n",
    "\n",
    "# Pad the context prep\n",
    "X_train_party = np.array([list(x) for x in X_train], dtype=object)\n",
    "X_test_party = np.array([list(x) for x in X_test], dtype=object)"
   ],
   "metadata": {
    "collapsed": false,
    "pycharm": {
     "name": "#%%\n"
    }
   }
  },
  {
   "cell_type": "code",
   "execution_count": 13,
   "metadata": {
    "pycharm": {
     "name": "#%%\n"
    }
   },
   "outputs": [],
   "source": [
    "vocab_size = actual_vocab_size\n",
    "output_dims = 100\n",
    "max_length = 80\n",
    "num_epochs = 100\n",
    "batch_size = 24\n",
    "dropout = 0.2\n",
    "trainable = False\n",
    "callback = False"
   ]
  },
  {
   "cell_type": "code",
   "execution_count": 14,
   "metadata": {
    "pycharm": {
     "name": "#%%\n"
    }
   },
   "outputs": [
    {
     "data": {
      "text/plain": [
       "[('Two_CuDNNLSTM+dense_relu', 80, 30, 24, True, 0.2, True)]"
      ]
     },
     "execution_count": 14,
     "metadata": {},
     "output_type": "execute_result"
    }
   ],
   "source": [
    "# Name, max_length, vocab_size, batch_size\n",
    "# Todo: output_dims?\n",
    "\n",
    "# iterations = [\n",
    "#     (\"Standard\", 80, 30, 24),\n",
    "#     (\"len70\", 70, 30, 24),\n",
    "#     (\"len60\", 60, 30, 24),\n",
    "#     (\"len50\", 50, 30, 24),\n",
    "#     (\"len40\", 40, 30, 24),\n",
    "#     (\"len30\", 30, 30, 24),\n",
    "#     (\"Actual_vocab_size\", 80, actual_vocab_size, 24)\n",
    "# ]\n",
    "\n",
    "# iterations = [\n",
    "#     (\"Actual_vocab_size\", 80, actual_vocab_size, 24),\n",
    "#     (\"Actual_vocab_size2\", 80, actual_vocab_size, 24),\n",
    "#     (\"Actual_vocab_size3\", 80, actual_vocab_size, 24),\n",
    "#     (\"Actual_vocab_size4\", 80, actual_vocab_size, 24),\n",
    "# ]\n",
    "\n",
    "# iterations = [\n",
    "#     (\"trainable\", 80, actual_vocab_size, 24),\n",
    "#     (\"len20\", 20, actual_vocab_size, 24),\n",
    "#     (\"len25\", 25, actual_vocab_size, 24),\n",
    "#     (\"len90\", 90, actual_vocab_size, 24),\n",
    "#     (\"len110\", 110, actual_vocab_size, 24),\n",
    "#     (\"len150\", 150, actual_vocab_size, 24),\n",
    "# ]\n",
    "\n",
    "# Name, max_length, vocab_size, batch_size, trainable, dropout\n",
    "\n",
    "# iterations = []\n",
    "# for drop in [0.0, 0.2]:\n",
    "#     for train in [False, True]:\n",
    "#         name = (\"\" if drop else \"No\") + \"Drop_\" + (\"\" if train else \"No\") + \"Train\"\n",
    "#         entry = (name, 80, 30, 24, train, drop)\n",
    "#         iterations.append(entry)\n",
    "\n",
    "# Name, max_length, vocab_size, batch_size, trainable, dropout, sigmoid_output\n",
    "\n",
    "# iterations = [\n",
    "#     ('Sigmoid', 80, 30, 24, False, 0.2, True)\n",
    "# ]\n",
    "\n",
    "# iterations = [\n",
    "#     ('Two_LSTM_Layers', 80, 30, 24, False, 0.2, True),\n",
    "#     ('Two_CuDNNLSTM_Layers', 80, 30, 24, False, 0.2, True),\n",
    "#     ('Two_CuDNNLSTM+dense_relu', 80, 30, 24, False, 0.2, True)\n",
    "# ]\n",
    "\n",
    "# iterations = [\n",
    "#     ('bidirectional', 80, 30, 24, False, 0.2, True),\n",
    "#     ('bidirectional', 80, 30, 48, False, 0.2, True),\n",
    "# ]\n",
    "\n",
    "# iterations = [\n",
    "#     ('Dropout', 80, 30, 24, False, 0.2, True),\n",
    "# ]\n",
    "\n",
    "# iterations = [\n",
    "#     ('Two_CuDNNLSTM+dense_relu', 80, 30, 24, True, 0.2, True),\n",
    "#     ('Two_LSTM_Layers+dense_relu', 80, 30, 24, False, 0.2, True),\n",
    "#     ('Two_LSTM_Layers+dense_relu', 80, 30, 24, True, 0.2, True),\n",
    "# ]\n",
    "\n",
    "# Name, max_length, vocab_size, batch_size, trainable, dropout, sigmoid_out, val_split, callback\n",
    "iterations = [\n",
    "    ('D_trainable_no_callback', 80, 30, 24, True, 0.2, True, 0.0, False),\n",
    "#     ('D_untrainable_no_callback', 80, 30, 24, False, 0.2, True, 0.0, False),\n",
    "#     ('E_trainable_no_callback', 80, 30, 24, True, 0.2, True, 0.0, False),\n",
    "#     ('E_untrainable_no_callback', 80, 30, 24, False, 0.2, True, 0.0, False),\n",
    "]\n",
    "\n",
    "# Todo: Batch size\n",
    "\n",
    "all_scores = []\n",
    "iterations"
   ]
  },
  {
   "cell_type": "code",
   "execution_count": 15,
   "metadata": {
    "pycharm": {
     "name": "#%%\n"
    }
   },
   "outputs": [],
   "source": [
    "out = open(\"results.txt\", \"a\")\n",
    "# out.write(\"Name, max_length, vocab_size, batch_size, Balanced_Accuracy, Precision_Score, Recall_Score, F1_Score\")\n",
    "# out.write(\"Name, max_length, vocab_size, batch_size, trainable, dropout, sigmoid_out, Bal_Acc, Precision, Recall, F1_Score\")\n",
    "out.write(\"Name, max_length, vocab_size, batch_size, trainable, dropout, sigmoid_out, val_split, callback, Bal_Acc, Precision, Recall, F1_Score\")\n",
    "out.write(\"\\n\")\n",
    "out.close()"
   ]
  },
  {
   "cell_type": "code",
   "execution_count": 16,
   "metadata": {
    "pycharm": {
     "name": "#%%\n"
    }
   },
   "outputs": [
    {
     "name": "stdout",
     "output_type": "stream",
     "text": [
      "Two_CuDNNLSTM+dense_relu\n",
      "Epoch 1/5\n",
      "6736/6736 [==============================] - 108s 16ms/step - loss: 0.1160 - accuracy: 0.9699\n",
      "Epoch 2/5\n",
      "6736/6736 [==============================] - 106s 16ms/step - loss: 0.1107 - accuracy: 0.9702\n",
      "Epoch 3/5\n",
      "6736/6736 [==============================] - 107s 16ms/step - loss: 0.1087 - accuracy: 0.9704\n",
      "Epoch 4/5\n",
      "6736/6736 [==============================] - 107s 16ms/step - loss: 0.1069 - accuracy: 0.9706\n",
      "Epoch 5/5\n",
      "6736/6736 [==============================] - 107s 16ms/step - loss: 0.1053 - accuracy: 0.9706\n"
     ]
    }
   ],
   "source": [
    "# Build embedding matrix\n",
    "embedding_matrix = zeros((vocab_size, output_dims))\n",
    "for i in range(vocab_size):\n",
    "    embedding_vector = None\n",
    "    try:\n",
    "        embedding_vector = gensim_model.wv[str(i)]\n",
    "    except KeyError:\n",
    "        pass\n",
    "    if embedding_vector is not None:\n",
    "        embedding_matrix[i] = embedding_vector\n",
    "\n",
    "# Pad the context\n",
    "padded_inputs = pad_sequences(X_train_party, maxlen=max_length, value=0.0)  # 0.0 because it corresponds with <PAD>\n",
    "padded_inputs_test = pad_sequences(X_test_party, maxlen=max_length, value=0.0)  # 0.0 because it corresponds with <PAD>\n",
    "\n",
    "# for name, max_length, vocab_size, batch_size, trainable, dropout, sigmoid in iterations:\n",
    "for name, max_length, vocab_size, batch_size, trainable, dropout, sigmoid, val_split, callback in iterations:\n",
    "    print(name)\n",
    "\n",
    "\n",
    "    # Pad the context for different max_length\n",
    "    if max_length != 80:\n",
    "        padded_inputs = pad_sequences(X_train_party, maxlen=max_length, value=0.0)  # 0.0 because it corresponds with <PAD>\n",
    "        padded_inputs_test = pad_sequences(X_test_party, maxlen=max_length, value=0.0)  # 0.0 because it corresponds with <PAD>\n",
    "\n",
    "    # Build the model\n",
    "    model = Sequential()\n",
    "    model.add(Embedding(vocab_size, output_dims, weights=[embedding_matrix], input_length=max_length, trainable=trainable))\n",
    "\n",
    "    if name.startswith(\"A\"):\n",
    "        model.add(keras.layers.LSTM(128, dropout=dropout, return_sequences=True))\n",
    "        model.add(keras.layers.LSTM(128, dropout=dropout))\n",
    "    elif name.startswith(\"B\"):\n",
    "        model.add(keras.layers.LSTM(128, dropout=dropout, return_sequences=True))\n",
    "        model.add(keras.layers.LSTM(128, dropout=dropout))\n",
    "        model.add(Dense(32,activation='relu'))\n",
    "    elif name.startswith(\"C\"):\n",
    "        model.add(CuDNNLSTM(128, return_sequences=True))\n",
    "        model.add(CuDNNLSTM(128))\n",
    "    elif name.startswith(\"D\"):\n",
    "        model.add(CuDNNLSTM(128, return_sequences=True))\n",
    "        model.add(CuDNNLSTM(128))\n",
    "        model.add(Dense(32,activation='relu'))\n",
    "    elif name.startswith(\"E\"):\n",
    "        model.add(Bidirectional(CuDNNLSTM(128, return_sequences=True)))\n",
    "        model.add(Bidirectional(CuDNNLSTM(128)))\n",
    "        model.add(Dense(32,activation='relu'))\n",
    "    else:\n",
    "        model.add(keras.layers.LSTM(128, dropout=dropout))\n",
    "\n",
    "    # Best so far:   (Add dropout layer?)\n",
    "#     if name == \"bidirectional\":\n",
    "#         model.add(Bidirectional(CuDNNLSTM(128, return_sequences=True)))\n",
    "#         model.add(Bidirectional(CuDNNLSTM(128)))\n",
    "#     else:\n",
    "#         model.add(CuDNNLSTM(128, return_sequences=True))\n",
    "#         model.add(CuDNNLSTM(128))\n",
    "#     model.add(Dense(32,activation='relu'))\n",
    "\n",
    "    # Dropout with layer, terrible\n",
    "    # model.add(keras.layers.LSTM(128))\n",
    "    # model.add(keras.layers.Dropout(dropout))\n",
    "\n",
    "    if sigmoid:\n",
    "        model.add(Dense(1, activation='sigmoid'))\n",
    "    else:\n",
    "        model.add(Dense(2, activation='softmax'))\n",
    "    model.compile(optimizer='adam', loss='binary_crossentropy', metrics=['accuracy'])\n",
    "    if callback:\n",
    "        # es = EarlyStopping(monitor='loss', mode='auto', verbose=1, patience=4)\n",
    "        es = EarlyStopping(monitor='accuracy', mode='auto', verbose=1, patience=7, restore_best_weights=True)\n",
    "        checkpoint = ModelCheckpoint(filepath=\"hybrid_model{epoch}\", monitor=\"accuracy\", mode=\"auto\",\n",
    "                                     save_best_only=True, save_weights_only=False, save_freq=\"epoch\")\n",
    "        model.fit(padded_inputs, y_train if sigmoid else y_train_categorical,\n",
    "                  epochs=num_epochs, batch_size=batch_size, validation_split=val_split, callbacks=[es, checkpoint])\n",
    "    else:\n",
    "        model.fit(padded_inputs, y_train if sigmoid else y_train_categorical,\n",
    "                  epochs=num_epochs, batch_size=batch_size,\n",
    "                  # validation_split=val_split\n",
    "                  )\n",
    "\n",
    "    # Predict\n",
    "    # pred_train= model.predict(padded_inputs)\n",
    "    pred_test= model.predict(padded_inputs_test)\n",
    "    if sigmoid:\n",
    "        y_pred = np.round(pred_test)\n",
    "    else:\n",
    "        y_pred = []\n",
    "        for zero, one in pred_test:\n",
    "            if zero > 0.5:\n",
    "                y_pred.append(0)\n",
    "            else:\n",
    "                y_pred.append(1)\n",
    "\n",
    "    # Scores\n",
    "    scores = [\n",
    "        name,\n",
    "        max_length,\n",
    "        vocab_size,\n",
    "        batch_size,\n",
    "        trainable,\n",
    "        dropout,\n",
    "        sigmoid,\n",
    "        # val_split,\n",
    "        # callback,\n",
    "        f\"{balanced_accuracy_score(y_test, y_pred):.2f}\"[2:],\n",
    "        f\"{precision_score(y_test, y_pred):.2f}\"[2:],\n",
    "        f\"{recall_score(y_test, y_pred):.2f}\"[2:],\n",
    "        f\"{f1_score(y_test, y_pred):.2f}\"[2:],\n",
    "    ]\n",
    "    out = open(\"results.txt\", \"a\")\n",
    "    out.write(str(scores).replace(\"'\", \"\")[1:-1])\n",
    "    out.write(\"\\n\")\n",
    "    out.close()\n",
    "    all_scores.append(scores)"
   ]
  },
  {
   "cell_type": "code",
   "execution_count": 17,
   "metadata": {
    "pycharm": {
     "name": "#%%\n"
    }
   },
   "outputs": [],
   "source": [
    "# print(\"vocab_size =\", vocab_size)\n",
    "# print(\"output_dims =\", output_dims)\n",
    "# print(\"max_length =\", max_length)\n",
    "# print(\"num_epochs =\", num_epochs)\n",
    "# print(\"batch_size =\", batch_size)\n",
    "# print(\"-------------------\")\n",
    "# print(\"balanced_accuracy_score:\", balanced_accuracy_score(y_test, y_pred))\n",
    "# print(\"precision_score:\", precision_score(y_test, y_pred))\n",
    "# print(\"recall_score:\", recall_score(y_test, y_pred))\n",
    "# print(\"f1_score:\", f1_score(y_test, y_pred))"
   ]
  }
 ],
 "metadata": {
  "kernelspec": {
   "display_name": "Python 3",
   "language": "python",
   "name": "python3"
  },
  "language_info": {
   "codemirror_mode": {
    "name": "ipython",
    "version": 3
   },
   "file_extension": ".py",
   "mimetype": "text/x-python",
   "name": "python",
   "nbconvert_exporter": "python",
   "pygments_lexer": "ipython3",
   "version": "3.7.3"
  }
 },
 "nbformat": 4,
 "nbformat_minor": 1
}