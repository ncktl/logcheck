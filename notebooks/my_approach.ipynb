{
 "cells": [
  {
   "cell_type": "code",
   "execution_count": 34,
   "metadata": {
    "pycharm": {
     "name": "#%%\n"
    }
   },
   "outputs": [],
   "source": [
    "from string import ascii_letters\n",
    "import pandas as pd\n",
    "from pandas import DataFrame\n",
    "from sklearn.model_selection import train_test_split, StratifiedKFold, StratifiedShuffleSplit\n",
    "from sklearn.model_selection import RandomizedSearchCV, GridSearchCV\n",
    "from scipy.stats import randint\n",
    "\n",
    "from sklearn.metrics import precision_score, recall_score, f1_score, accuracy_score, confusion_matrix, ConfusionMatrixDisplay, balanced_accuracy_score\n",
    "import matplotlib.pyplot as plt\n",
    "from sklearn.model_selection import cross_validate\n",
    "from sklearn.ensemble import RandomForestClassifier\n",
    "from sklearn.neighbors import KNeighborsClassifier\n",
    "from sklearn.linear_model import LogisticRegression\n",
    "from sklearn.svm import LinearSVC, SVC\n",
    "from sklearn.utils import resample\n",
    "from sklearn.feature_extraction.text import TfidfVectorizer\n",
    "\n",
    "from imblearn.over_sampling import RandomOverSampler\n",
    "from imblearn.over_sampling import SMOTE\n",
    "\n",
    "# Tensorflow\n",
    "import tensorflow as tf\n",
    "from tensorflow.keras.losses import BinaryCrossentropy\n",
    "from tensorflow.keras.preprocessing.sequence import pad_sequences\n",
    "from keras.callbacks import EarlyStopping, ModelCheckpoint\n",
    "import keras\n",
    "from keras.models import Sequential\n",
    "from keras.layers import Dense, LSTM, Embedding, Flatten, CuDNNLSTM, Bidirectional, Input, concatenate, Dropout\n",
    "# from keras.utils import to_categorical\n",
    "\n",
    "# Numpy\n",
    "import numpy as np\n",
    "from numpy import zeros\n",
    "\n",
    "# Gemsim\n",
    "import gensim.models"
   ]
  },
  {
   "cell_type": "code",
   "execution_count": 35,
   "metadata": {
    "pycharm": {
     "name": "#%%\n"
    }
   },
   "outputs": [],
   "source": [
    "run_random_forests = False"
   ]
  },
  {
   "cell_type": "code",
   "execution_count": 36,
   "metadata": {
    "pycharm": {
     "name": "#%%\n"
    }
   },
   "outputs": [
    {
     "name": "stdout",
     "output_type": "stream",
     "text": [
      "[]\n"
     ]
    }
   ],
   "source": [
    "print(tf.config.list_physical_devices('GPU'))"
   ]
  },
  {
   "cell_type": "code",
   "execution_count": 37,
   "metadata": {
    "pycharm": {
     "name": "#%%\n"
    }
   },
   "outputs": [
    {
     "name": "stdout",
     "output_type": "stream",
     "text": [
      "Before:\n",
      " []\n"
     ]
    }
   ],
   "source": [
    "try:\n",
    "    print(\"Before:\\n\" ,tf.config.get_visible_devices('GPU'))\n",
    "    gpus = tf.config.list_physical_devices('GPU')\n",
    "    tf.config.experimental.set_visible_devices(gpus[1], 'GPU')\n",
    "    print(\"After:\\n\" ,tf.config.get_visible_devices('GPU'))\n",
    "except IndexError as e:\n",
    "    pass"
   ]
  },
  {
   "cell_type": "code",
   "execution_count": 38,
   "metadata": {
    "pycharm": {
     "name": "#%%\n"
    }
   },
   "outputs": [],
   "source": [
    "# Information about repositories\n",
    "#\n",
    "# repos = [\n",
    "#     \"horizon\",\n",
    "#     \"neutron\",\n",
    "#     \"nova\",\n",
    "#     \"hydra\",\n",
    "#     \"django\",\n",
    "#     \"tornado\",\n",
    "#     \"k8s\",\n",
    "#     \"pyres\",\n",
    "#     \"viewfinder\",\n",
    "#     \"web2py\",\n",
    "# ]\n",
    "# names = []\n",
    "# par_vec_counts = []\n",
    "# no_log_counts = []\n",
    "# log_counts = []\n",
    "# log_ratios = []\n",
    "#\n",
    "# from itertools import product\n",
    "# for repo, i in list(product(repos, range(2))):\n",
    "#     repo_name = repo + ('_zhenhao' if i else '')\n",
    "#     names.append(repo_name)\n",
    "#     repo_path = '../features/' + repo_name + '.csv'\n",
    "#     df = pd.read_csv(repo_path)\n",
    "#     no_log_cnt, log_cnt = df['contains_logging'].value_counts()\n",
    "#     par_vec_cnt = no_log_cnt + log_cnt\n",
    "#     log_ratio = np.round(log_cnt / par_vec_cnt * 100, 2)\n",
    "#     par_vec_counts.append(par_vec_cnt)\n",
    "#     no_log_counts.append(no_log_cnt)\n",
    "#     log_counts.append(log_cnt)\n",
    "#     log_ratios.append(log_ratio)\n",
    "#\n",
    "# results = np.array([\n",
    "#     par_vec_counts,\n",
    "#     no_log_counts,\n",
    "#     log_counts,\n",
    "#     log_ratios,\n",
    "# ], dtype=object)\n",
    "#\n",
    "# columns = [\n",
    "#     \"NumParVecs\",\n",
    "#     \"Neg\",\n",
    "#     \"Pos\",\n",
    "#     \"log_ratio\"\n",
    "# ]\n",
    "# results = pd.DataFrame(results.T,index=names, columns=columns)\n",
    "# results.loc['mean'] = results.mean()\n",
    "# results"
   ]
  },
  {
   "cell_type": "code",
   "execution_count": 39,
   "metadata": {
    "pycharm": {
     "name": "#%%\n"
    }
   },
   "outputs": [
    {
     "name": "stdout",
     "output_type": "stream",
     "text": [
      "Number of parameter vecs:\t\t715488\n",
      "without logging (negatives):\t700691\n",
      "with logging (positives):\t\t14797\n",
      "Log ratio:\t\t\t\t\t\t2.07%\n",
      "(715488, 31)\n"
     ]
    },
    {
     "data": {
      "text/plain": "  type    location parent  context  contains_class_definition  \\\n0    c  10;0-12;56      a      cdr                          0   \n1    d  11;4-12;56      c       dr                          0   \n2    d  15;0-16;67      a      dur                          0   \n3    d  19;0-21;60      a      dru                          0   \n4    d  24;0-32;77      a  dqfrqrr                          0   \n\n   contains_function_definition  contains_if_statement  \\\n0                             1                      0   \n1                             0                      0   \n2                             0                      0   \n3                             0                      0   \n4                             0                      0   \n\n   contains_for_statement  contains_match_statement  contains_while_statement  \\\n0                       0                         0                         0   \n1                       0                         0                         0   \n2                       0                         0                         0   \n3                       0                         0                         0   \n4                       1                         0                         0   \n\n   ...  contains_exec_statement  contains_future_import_statement  \\\n0  ...                        0                                 0   \n1  ...                        0                                 0   \n2  ...                        0                                 0   \n3  ...                        0                                 0   \n4  ...                        0                                 0   \n\n   contains_global_statement  contains_nonlocal_statement  \\\n0                          0                            0   \n1                          0                            0   \n2                          0                            0   \n3                          0                            0   \n4                          0                            0   \n\n   contains_print_statement  contains_assignment  contains_call  \\\n0                         0                    0              0   \n1                         0                    0              1   \n2                         0                    0              0   \n3                         0                    0              1   \n4                         0                    1              0   \n\n   contains_await  contains_yield  contains_logging  \n0               0               0                 0  \n1               0               0                 0  \n2               0               0                 0  \n3               0               0                 0  \n4               0               0                 0  \n\n[5 rows x 31 columns]",
      "text/html": "<div>\n<style scoped>\n    .dataframe tbody tr th:only-of-type {\n        vertical-align: middle;\n    }\n\n    .dataframe tbody tr th {\n        vertical-align: top;\n    }\n\n    .dataframe thead th {\n        text-align: right;\n    }\n</style>\n<table border=\"1\" class=\"dataframe\">\n  <thead>\n    <tr style=\"text-align: right;\">\n      <th></th>\n      <th>type</th>\n      <th>location</th>\n      <th>parent</th>\n      <th>context</th>\n      <th>contains_class_definition</th>\n      <th>contains_function_definition</th>\n      <th>contains_if_statement</th>\n      <th>contains_for_statement</th>\n      <th>contains_match_statement</th>\n      <th>contains_while_statement</th>\n      <th>...</th>\n      <th>contains_exec_statement</th>\n      <th>contains_future_import_statement</th>\n      <th>contains_global_statement</th>\n      <th>contains_nonlocal_statement</th>\n      <th>contains_print_statement</th>\n      <th>contains_assignment</th>\n      <th>contains_call</th>\n      <th>contains_await</th>\n      <th>contains_yield</th>\n      <th>contains_logging</th>\n    </tr>\n  </thead>\n  <tbody>\n    <tr>\n      <th>0</th>\n      <td>c</td>\n      <td>10;0-12;56</td>\n      <td>a</td>\n      <td>cdr</td>\n      <td>0</td>\n      <td>1</td>\n      <td>0</td>\n      <td>0</td>\n      <td>0</td>\n      <td>0</td>\n      <td>...</td>\n      <td>0</td>\n      <td>0</td>\n      <td>0</td>\n      <td>0</td>\n      <td>0</td>\n      <td>0</td>\n      <td>0</td>\n      <td>0</td>\n      <td>0</td>\n      <td>0</td>\n    </tr>\n    <tr>\n      <th>1</th>\n      <td>d</td>\n      <td>11;4-12;56</td>\n      <td>c</td>\n      <td>dr</td>\n      <td>0</td>\n      <td>0</td>\n      <td>0</td>\n      <td>0</td>\n      <td>0</td>\n      <td>0</td>\n      <td>...</td>\n      <td>0</td>\n      <td>0</td>\n      <td>0</td>\n      <td>0</td>\n      <td>0</td>\n      <td>0</td>\n      <td>1</td>\n      <td>0</td>\n      <td>0</td>\n      <td>0</td>\n    </tr>\n    <tr>\n      <th>2</th>\n      <td>d</td>\n      <td>15;0-16;67</td>\n      <td>a</td>\n      <td>dur</td>\n      <td>0</td>\n      <td>0</td>\n      <td>0</td>\n      <td>0</td>\n      <td>0</td>\n      <td>0</td>\n      <td>...</td>\n      <td>0</td>\n      <td>0</td>\n      <td>0</td>\n      <td>0</td>\n      <td>0</td>\n      <td>0</td>\n      <td>0</td>\n      <td>0</td>\n      <td>0</td>\n      <td>0</td>\n    </tr>\n    <tr>\n      <th>3</th>\n      <td>d</td>\n      <td>19;0-21;60</td>\n      <td>a</td>\n      <td>dru</td>\n      <td>0</td>\n      <td>0</td>\n      <td>0</td>\n      <td>0</td>\n      <td>0</td>\n      <td>0</td>\n      <td>...</td>\n      <td>0</td>\n      <td>0</td>\n      <td>0</td>\n      <td>0</td>\n      <td>0</td>\n      <td>0</td>\n      <td>1</td>\n      <td>0</td>\n      <td>0</td>\n      <td>0</td>\n    </tr>\n    <tr>\n      <th>4</th>\n      <td>d</td>\n      <td>24;0-32;77</td>\n      <td>a</td>\n      <td>dqfrqrr</td>\n      <td>0</td>\n      <td>0</td>\n      <td>0</td>\n      <td>1</td>\n      <td>0</td>\n      <td>0</td>\n      <td>...</td>\n      <td>0</td>\n      <td>0</td>\n      <td>0</td>\n      <td>0</td>\n      <td>0</td>\n      <td>1</td>\n      <td>0</td>\n      <td>0</td>\n      <td>0</td>\n      <td>0</td>\n    </tr>\n  </tbody>\n</table>\n<p>5 rows × 31 columns</p>\n</div>"
     },
     "execution_count": 39,
     "metadata": {},
     "output_type": "execute_result"
    }
   ],
   "source": [
    "# Read the data\n",
    "# df = pd.read_csv('../features/combination.csv')\n",
    "# df = pd.read_csv('../features/combination_zhenhao.csv')\n",
    "# df = pd.read_csv('../features/web2py.csv')\n",
    "# df = pd.read_csv('../features/neutron.csv')\n",
    "# df = pd.read_csv('../features/neutron_zhenhao.csv')\n",
    "# df = pd.read_csv('../features/nova.csv')\n",
    "# df = pd.read_csv('../features/nova_zhenhao.csv')\n",
    "# df = pd.read_csv('../features/django.csv')\n",
    "# df = pd.read_csv('../features/django_zhenhao.csv')\n",
    "# df = pd.read_csv('../features/tornado.csv')\n",
    "# df = pd.read_csv('../features/tornado_zhenhao.csv')\n",
    "df = pd.read_csv('../features/100repos_expanded.csv')\n",
    "\n",
    "\n",
    "\n",
    "no_log_cnt, log_cnt = df['contains_logging'].value_counts()\n",
    "par_vec_cnt = no_log_cnt + log_cnt\n",
    "log_ratio = log_cnt / par_vec_cnt\n",
    "print(f\"Number of parameter vecs:\\t\\t{par_vec_cnt}\")\n",
    "print(f\"without logging (negatives):\\t{no_log_cnt}\")\n",
    "print(f\"with logging (positives):\\t\\t{log_cnt}\")\n",
    "print(f\"Log ratio:\\t\\t\\t\\t\\t\\t{log_ratio * 100:.2f}%\")\n",
    "print(df.shape)\n",
    "df.head()"
   ]
  },
  {
   "cell_type": "code",
   "execution_count": 40,
   "metadata": {
    "pycharm": {
     "name": "#%%\n"
    }
   },
   "outputs": [
    {
     "data": {
      "text/plain": "       type       location parent  \\\n219183    d   312;4-335;75      b   \n219189    d  556;4-558;104      b   \n219190    d   560;4-561;45      b   \n219191    d   563;4-566;87      b   \n219192    d  568;4-571;102      b   \n219203    e   300;8-301;23      b   \n219214    m   303;4-306;51      b   \n261880    e   901;8-902;23      b   \n261885    m   904;4-907;51      b   \n525533    e   181;8-182;50      b   \n525547    i    200;4-214;9      b   \n525548    i    219;4-236;9      b   \n525549    i    238;4-248;9      b   \n525550    i    253;4-269;9      b   \n525551    i    271;4-283;9      b   \n525560    l    185;4-198;9      b   \n525574    m   183;4-184;12      b   \n\n                                                  context  \\\n219183                                    dqbrqrqrqqrrqrr   \n219189                                            dqbrqrb   \n219190                                                 dr   \n219191                                              dqrfr   \n219192                                              dqrfr   \n219203  abzAbAAAerzAbbbbbbbbqbrbqqqqqqqqqqqqqqqqqqqqqb...   \n219214  abzAbAAAerzAbbbbbbbbqbrbqqqqqqqqqqqqqqqqqqqqqb...   \n261880  abzAbAAAerzAbbbbbbbbqbrbqqqqqqqqqqqqqqqqqqqqqb...   \n261885  abzAbAAAerzAbbbbbbbbqbrbqqqqqqqqqqqqqqqqqqqqqb...   \n525533  aAAbbbAbbbbbAbbbbbAbbqieryrmBlqbbbbieryrmBlqbi...   \n525547  aAAbbbAbbbbbAbbbbbAbbqieryrmBlqbbbbieryrmBlqbi...   \n525548  aAAbbbAbbbbbAbbbbbAbbqieryrmBlqbbbbieryrmBlqbi...   \n525549  aAAbbbAbbbbbAbbbbbAbbqieryrmBlqbbbbieryrmBlqbi...   \n525550  aAAbbbAbbbbbAbbbbbAbbqieryrmBlqbbbbieryrmBlqbi...   \n525551  aAAbbbAbbbbbAbbbbbAbbqieryrmBlqbbbbieryrmBlqbi...   \n525560  aAAbbbAbbbbbAbbbbbAbbqieryrmBlqbbbbieryrmBlqbi...   \n525574  aAAbbbAbbbbbAbbbbbAbbqieryrmBlqbbbbieryrmBlqbi...   \n\n        contains_class_definition  contains_function_definition  \\\n219183                          0                             0   \n219189                          0                             0   \n219190                          0                             0   \n219191                          0                             0   \n219192                          0                             0   \n219203                          0                             0   \n219214                          0                             0   \n261880                          0                             0   \n261885                          0                             0   \n525533                          0                             0   \n525547                          0                             0   \n525548                          0                             0   \n525549                          0                             0   \n525550                          0                             0   \n525551                          0                             0   \n525560                          0                             0   \n525574                          0                             0   \n\n        contains_if_statement  contains_for_statement  \\\n219183                      0                       0   \n219189                      0                       0   \n219190                      0                       0   \n219191                      0                       1   \n219192                      0                       1   \n219203                      0                       0   \n219214                      1                       0   \n261880                      0                       0   \n261885                      1                       0   \n525533                      0                       0   \n525547                      1                       0   \n525548                      1                       0   \n525549                      1                       0   \n525550                      1                       0   \n525551                      1                       0   \n525560                      0                       0   \n525574                      0                       0   \n\n        contains_match_statement  contains_while_statement  ...  \\\n219183                         0                         0  ...   \n219189                         0                         0  ...   \n219190                         0                         0  ...   \n219191                         0                         0  ...   \n219192                         0                         0  ...   \n219203                         0                         0  ...   \n219214                         0                         0  ...   \n261880                         0                         0  ...   \n261885                         0                         0  ...   \n525533                         0                         0  ...   \n525547                         0                         0  ...   \n525548                         0                         0  ...   \n525549                         0                         0  ...   \n525550                         0                         0  ...   \n525551                         0                         0  ...   \n525560                         0                         0  ...   \n525574                         0                         0  ...   \n\n        contains_exec_statement  contains_future_import_statement  \\\n219183                        0                                 0   \n219189                        0                                 0   \n219190                        0                                 0   \n219191                        0                                 0   \n219192                        0                                 0   \n219203                        0                                 0   \n219214                        0                                 0   \n261880                        0                                 0   \n261885                        0                                 0   \n525533                        0                                 0   \n525547                        0                                 0   \n525548                        0                                 0   \n525549                        0                                 0   \n525550                        0                                 0   \n525551                        0                                 0   \n525560                        0                                 0   \n525574                        0                                 0   \n\n        contains_global_statement  contains_nonlocal_statement  \\\n219183                          0                            0   \n219189                          0                            0   \n219190                          0                            0   \n219191                          0                            0   \n219192                          0                            0   \n219203                          0                            0   \n219214                          0                            0   \n261880                          0                            0   \n261885                          0                            0   \n525533                          0                            0   \n525547                          0                            0   \n525548                          0                            0   \n525549                          0                            0   \n525550                          0                            0   \n525551                          0                            0   \n525560                          0                            0   \n525574                          0                            0   \n\n        contains_print_statement  contains_assignment  contains_call  \\\n219183                         0                    1              1   \n219189                         0                    1              1   \n219190                         0                    0              1   \n219191                         0                    1              1   \n219192                         0                    1              1   \n219203                         0                    0              0   \n219214                         0                    0              0   \n261880                         0                    0              0   \n261885                         0                    0              0   \n525533                         0                    0              0   \n525547                         0                    0              0   \n525548                         0                    0              0   \n525549                         0                    0              0   \n525550                         0                    0              0   \n525551                         0                    0              0   \n525560                         0                    0              0   \n525574                         0                    0              0   \n\n        contains_await  contains_yield  contains_logging  \n219183               0               0                 0  \n219189               0               0                 0  \n219190               0               0                 0  \n219191               0               0                 0  \n219192               0               0                 0  \n219203               0               0                 0  \n219214               0               0                 0  \n261880               0               0                 0  \n261885               0               0                 0  \n525533               0               0                 0  \n525547               0               0                 0  \n525548               0               0                 0  \n525549               0               0                 0  \n525550               0               0                 0  \n525551               0               0                 0  \n525560               0               0                 0  \n525574               0               0                 0  \n\n[17 rows x 31 columns]",
      "text/html": "<div>\n<style scoped>\n    .dataframe tbody tr th:only-of-type {\n        vertical-align: middle;\n    }\n\n    .dataframe tbody tr th {\n        vertical-align: top;\n    }\n\n    .dataframe thead th {\n        text-align: right;\n    }\n</style>\n<table border=\"1\" class=\"dataframe\">\n  <thead>\n    <tr style=\"text-align: right;\">\n      <th></th>\n      <th>type</th>\n      <th>location</th>\n      <th>parent</th>\n      <th>context</th>\n      <th>contains_class_definition</th>\n      <th>contains_function_definition</th>\n      <th>contains_if_statement</th>\n      <th>contains_for_statement</th>\n      <th>contains_match_statement</th>\n      <th>contains_while_statement</th>\n      <th>...</th>\n      <th>contains_exec_statement</th>\n      <th>contains_future_import_statement</th>\n      <th>contains_global_statement</th>\n      <th>contains_nonlocal_statement</th>\n      <th>contains_print_statement</th>\n      <th>contains_assignment</th>\n      <th>contains_call</th>\n      <th>contains_await</th>\n      <th>contains_yield</th>\n      <th>contains_logging</th>\n    </tr>\n  </thead>\n  <tbody>\n    <tr>\n      <th>219183</th>\n      <td>d</td>\n      <td>312;4-335;75</td>\n      <td>b</td>\n      <td>dqbrqrqrqqrrqrr</td>\n      <td>0</td>\n      <td>0</td>\n      <td>0</td>\n      <td>0</td>\n      <td>0</td>\n      <td>0</td>\n      <td>...</td>\n      <td>0</td>\n      <td>0</td>\n      <td>0</td>\n      <td>0</td>\n      <td>0</td>\n      <td>1</td>\n      <td>1</td>\n      <td>0</td>\n      <td>0</td>\n      <td>0</td>\n    </tr>\n    <tr>\n      <th>219189</th>\n      <td>d</td>\n      <td>556;4-558;104</td>\n      <td>b</td>\n      <td>dqbrqrb</td>\n      <td>0</td>\n      <td>0</td>\n      <td>0</td>\n      <td>0</td>\n      <td>0</td>\n      <td>0</td>\n      <td>...</td>\n      <td>0</td>\n      <td>0</td>\n      <td>0</td>\n      <td>0</td>\n      <td>0</td>\n      <td>1</td>\n      <td>1</td>\n      <td>0</td>\n      <td>0</td>\n      <td>0</td>\n    </tr>\n    <tr>\n      <th>219190</th>\n      <td>d</td>\n      <td>560;4-561;45</td>\n      <td>b</td>\n      <td>dr</td>\n      <td>0</td>\n      <td>0</td>\n      <td>0</td>\n      <td>0</td>\n      <td>0</td>\n      <td>0</td>\n      <td>...</td>\n      <td>0</td>\n      <td>0</td>\n      <td>0</td>\n      <td>0</td>\n      <td>0</td>\n      <td>0</td>\n      <td>1</td>\n      <td>0</td>\n      <td>0</td>\n      <td>0</td>\n    </tr>\n    <tr>\n      <th>219191</th>\n      <td>d</td>\n      <td>563;4-566;87</td>\n      <td>b</td>\n      <td>dqrfr</td>\n      <td>0</td>\n      <td>0</td>\n      <td>0</td>\n      <td>1</td>\n      <td>0</td>\n      <td>0</td>\n      <td>...</td>\n      <td>0</td>\n      <td>0</td>\n      <td>0</td>\n      <td>0</td>\n      <td>0</td>\n      <td>1</td>\n      <td>1</td>\n      <td>0</td>\n      <td>0</td>\n      <td>0</td>\n    </tr>\n    <tr>\n      <th>219192</th>\n      <td>d</td>\n      <td>568;4-571;102</td>\n      <td>b</td>\n      <td>dqrfr</td>\n      <td>0</td>\n      <td>0</td>\n      <td>0</td>\n      <td>1</td>\n      <td>0</td>\n      <td>0</td>\n      <td>...</td>\n      <td>0</td>\n      <td>0</td>\n      <td>0</td>\n      <td>0</td>\n      <td>0</td>\n      <td>1</td>\n      <td>1</td>\n      <td>0</td>\n      <td>0</td>\n      <td>0</td>\n    </tr>\n    <tr>\n      <th>219203</th>\n      <td>e</td>\n      <td>300;8-301;23</td>\n      <td>b</td>\n      <td>abzAbAAAerzAbbbbbbbbqbrbqqqqqqqqqqqqqqqqqqqqqb...</td>\n      <td>0</td>\n      <td>0</td>\n      <td>0</td>\n      <td>0</td>\n      <td>0</td>\n      <td>0</td>\n      <td>...</td>\n      <td>0</td>\n      <td>0</td>\n      <td>0</td>\n      <td>0</td>\n      <td>0</td>\n      <td>0</td>\n      <td>0</td>\n      <td>0</td>\n      <td>0</td>\n      <td>0</td>\n    </tr>\n    <tr>\n      <th>219214</th>\n      <td>m</td>\n      <td>303;4-306;51</td>\n      <td>b</td>\n      <td>abzAbAAAerzAbbbbbbbbqbrbqqqqqqqqqqqqqqqqqqqqqb...</td>\n      <td>0</td>\n      <td>0</td>\n      <td>1</td>\n      <td>0</td>\n      <td>0</td>\n      <td>0</td>\n      <td>...</td>\n      <td>0</td>\n      <td>0</td>\n      <td>0</td>\n      <td>0</td>\n      <td>0</td>\n      <td>0</td>\n      <td>0</td>\n      <td>0</td>\n      <td>0</td>\n      <td>0</td>\n    </tr>\n    <tr>\n      <th>261880</th>\n      <td>e</td>\n      <td>901;8-902;23</td>\n      <td>b</td>\n      <td>abzAbAAAerzAbbbbbbbbqbrbqqqqqqqqqqqqqqqqqqqqqb...</td>\n      <td>0</td>\n      <td>0</td>\n      <td>0</td>\n      <td>0</td>\n      <td>0</td>\n      <td>0</td>\n      <td>...</td>\n      <td>0</td>\n      <td>0</td>\n      <td>0</td>\n      <td>0</td>\n      <td>0</td>\n      <td>0</td>\n      <td>0</td>\n      <td>0</td>\n      <td>0</td>\n      <td>0</td>\n    </tr>\n    <tr>\n      <th>261885</th>\n      <td>m</td>\n      <td>904;4-907;51</td>\n      <td>b</td>\n      <td>abzAbAAAerzAbbbbbbbbqbrbqqqqqqqqqqqqqqqqqqqqqb...</td>\n      <td>0</td>\n      <td>0</td>\n      <td>1</td>\n      <td>0</td>\n      <td>0</td>\n      <td>0</td>\n      <td>...</td>\n      <td>0</td>\n      <td>0</td>\n      <td>0</td>\n      <td>0</td>\n      <td>0</td>\n      <td>0</td>\n      <td>0</td>\n      <td>0</td>\n      <td>0</td>\n      <td>0</td>\n    </tr>\n    <tr>\n      <th>525533</th>\n      <td>e</td>\n      <td>181;8-182;50</td>\n      <td>b</td>\n      <td>aAAbbbAbbbbbAbbbbbAbbqieryrmBlqbbbbieryrmBlqbi...</td>\n      <td>0</td>\n      <td>0</td>\n      <td>0</td>\n      <td>0</td>\n      <td>0</td>\n      <td>0</td>\n      <td>...</td>\n      <td>0</td>\n      <td>0</td>\n      <td>0</td>\n      <td>0</td>\n      <td>0</td>\n      <td>0</td>\n      <td>0</td>\n      <td>0</td>\n      <td>0</td>\n      <td>0</td>\n    </tr>\n    <tr>\n      <th>525547</th>\n      <td>i</td>\n      <td>200;4-214;9</td>\n      <td>b</td>\n      <td>aAAbbbAbbbbbAbbbbbAbbqieryrmBlqbbbbieryrmBlqbi...</td>\n      <td>0</td>\n      <td>0</td>\n      <td>1</td>\n      <td>0</td>\n      <td>0</td>\n      <td>0</td>\n      <td>...</td>\n      <td>0</td>\n      <td>0</td>\n      <td>0</td>\n      <td>0</td>\n      <td>0</td>\n      <td>0</td>\n      <td>0</td>\n      <td>0</td>\n      <td>0</td>\n      <td>0</td>\n    </tr>\n    <tr>\n      <th>525548</th>\n      <td>i</td>\n      <td>219;4-236;9</td>\n      <td>b</td>\n      <td>aAAbbbAbbbbbAbbbbbAbbqieryrmBlqbbbbieryrmBlqbi...</td>\n      <td>0</td>\n      <td>0</td>\n      <td>1</td>\n      <td>0</td>\n      <td>0</td>\n      <td>0</td>\n      <td>...</td>\n      <td>0</td>\n      <td>0</td>\n      <td>0</td>\n      <td>0</td>\n      <td>0</td>\n      <td>0</td>\n      <td>0</td>\n      <td>0</td>\n      <td>0</td>\n      <td>0</td>\n    </tr>\n    <tr>\n      <th>525549</th>\n      <td>i</td>\n      <td>238;4-248;9</td>\n      <td>b</td>\n      <td>aAAbbbAbbbbbAbbbbbAbbqieryrmBlqbbbbieryrmBlqbi...</td>\n      <td>0</td>\n      <td>0</td>\n      <td>1</td>\n      <td>0</td>\n      <td>0</td>\n      <td>0</td>\n      <td>...</td>\n      <td>0</td>\n      <td>0</td>\n      <td>0</td>\n      <td>0</td>\n      <td>0</td>\n      <td>0</td>\n      <td>0</td>\n      <td>0</td>\n      <td>0</td>\n      <td>0</td>\n    </tr>\n    <tr>\n      <th>525550</th>\n      <td>i</td>\n      <td>253;4-269;9</td>\n      <td>b</td>\n      <td>aAAbbbAbbbbbAbbbbbAbbqieryrmBlqbbbbieryrmBlqbi...</td>\n      <td>0</td>\n      <td>0</td>\n      <td>1</td>\n      <td>0</td>\n      <td>0</td>\n      <td>0</td>\n      <td>...</td>\n      <td>0</td>\n      <td>0</td>\n      <td>0</td>\n      <td>0</td>\n      <td>0</td>\n      <td>0</td>\n      <td>0</td>\n      <td>0</td>\n      <td>0</td>\n      <td>0</td>\n    </tr>\n    <tr>\n      <th>525551</th>\n      <td>i</td>\n      <td>271;4-283;9</td>\n      <td>b</td>\n      <td>aAAbbbAbbbbbAbbbbbAbbqieryrmBlqbbbbieryrmBlqbi...</td>\n      <td>0</td>\n      <td>0</td>\n      <td>1</td>\n      <td>0</td>\n      <td>0</td>\n      <td>0</td>\n      <td>...</td>\n      <td>0</td>\n      <td>0</td>\n      <td>0</td>\n      <td>0</td>\n      <td>0</td>\n      <td>0</td>\n      <td>0</td>\n      <td>0</td>\n      <td>0</td>\n      <td>0</td>\n    </tr>\n    <tr>\n      <th>525560</th>\n      <td>l</td>\n      <td>185;4-198;9</td>\n      <td>b</td>\n      <td>aAAbbbAbbbbbAbbbbbAbbqieryrmBlqbbbbieryrmBlqbi...</td>\n      <td>0</td>\n      <td>0</td>\n      <td>0</td>\n      <td>0</td>\n      <td>0</td>\n      <td>0</td>\n      <td>...</td>\n      <td>0</td>\n      <td>0</td>\n      <td>0</td>\n      <td>0</td>\n      <td>0</td>\n      <td>0</td>\n      <td>0</td>\n      <td>0</td>\n      <td>0</td>\n      <td>0</td>\n    </tr>\n    <tr>\n      <th>525574</th>\n      <td>m</td>\n      <td>183;4-184;12</td>\n      <td>b</td>\n      <td>aAAbbbAbbbbbAbbbbbAbbqieryrmBlqbbbbieryrmBlqbi...</td>\n      <td>0</td>\n      <td>0</td>\n      <td>0</td>\n      <td>0</td>\n      <td>0</td>\n      <td>0</td>\n      <td>...</td>\n      <td>0</td>\n      <td>0</td>\n      <td>0</td>\n      <td>0</td>\n      <td>0</td>\n      <td>0</td>\n      <td>0</td>\n      <td>0</td>\n      <td>0</td>\n      <td>0</td>\n    </tr>\n  </tbody>\n</table>\n<p>17 rows × 31 columns</p>\n</div>"
     },
     "execution_count": 40,
     "metadata": {},
     "output_type": "execute_result"
    }
   ],
   "source": [
    "# 'b' = ERROR\n",
    "df[df.parent == 'b']"
   ]
  },
  {
   "cell_type": "code",
   "execution_count": 41,
   "metadata": {
    "pycharm": {
     "name": "#%%\n"
    }
   },
   "outputs": [],
   "source": [
    "# df.context"
   ]
  },
  {
   "cell_type": "code",
   "execution_count": 42,
   "metadata": {
    "pycharm": {
     "name": "#%%\n"
    }
   },
   "outputs": [
    {
     "data": {
      "text/plain": "  type    location parent                     context  \\\n0    c  10;0-12;56      a                  [2, 3, 17]   \n1    d  11;4-12;56      c                     [3, 17]   \n2    d  15;0-16;67      a                 [3, 20, 17]   \n3    d  19;0-21;60      a                 [3, 17, 20]   \n4    d  24;0-32;77      a  [3, 16, 5, 17, 16, 17, 17]   \n\n   contains_class_definition  contains_function_definition  \\\n0                          0                             1   \n1                          0                             0   \n2                          0                             0   \n3                          0                             0   \n4                          0                             0   \n\n   contains_if_statement  contains_for_statement  contains_match_statement  \\\n0                      0                       0                         0   \n1                      0                       0                         0   \n2                      0                       0                         0   \n3                      0                       0                         0   \n4                      0                       1                         0   \n\n   contains_while_statement  ...  contains_exec_statement  \\\n0                         0  ...                        0   \n1                         0  ...                        0   \n2                         0  ...                        0   \n3                         0  ...                        0   \n4                         0  ...                        0   \n\n   contains_future_import_statement  contains_global_statement  \\\n0                                 0                          0   \n1                                 0                          0   \n2                                 0                          0   \n3                                 0                          0   \n4                                 0                          0   \n\n   contains_nonlocal_statement  contains_print_statement  contains_assignment  \\\n0                            0                         0                    0   \n1                            0                         0                    0   \n2                            0                         0                    0   \n3                            0                         0                    0   \n4                            0                         0                    1   \n\n   contains_call  contains_await  contains_yield  contains_logging  \n0              0               0               0                 0  \n1              1               0               0                 0  \n2              0               0               0                 0  \n3              1               0               0                 0  \n4              0               0               0                 0  \n\n[5 rows x 31 columns]",
      "text/html": "<div>\n<style scoped>\n    .dataframe tbody tr th:only-of-type {\n        vertical-align: middle;\n    }\n\n    .dataframe tbody tr th {\n        vertical-align: top;\n    }\n\n    .dataframe thead th {\n        text-align: right;\n    }\n</style>\n<table border=\"1\" class=\"dataframe\">\n  <thead>\n    <tr style=\"text-align: right;\">\n      <th></th>\n      <th>type</th>\n      <th>location</th>\n      <th>parent</th>\n      <th>context</th>\n      <th>contains_class_definition</th>\n      <th>contains_function_definition</th>\n      <th>contains_if_statement</th>\n      <th>contains_for_statement</th>\n      <th>contains_match_statement</th>\n      <th>contains_while_statement</th>\n      <th>...</th>\n      <th>contains_exec_statement</th>\n      <th>contains_future_import_statement</th>\n      <th>contains_global_statement</th>\n      <th>contains_nonlocal_statement</th>\n      <th>contains_print_statement</th>\n      <th>contains_assignment</th>\n      <th>contains_call</th>\n      <th>contains_await</th>\n      <th>contains_yield</th>\n      <th>contains_logging</th>\n    </tr>\n  </thead>\n  <tbody>\n    <tr>\n      <th>0</th>\n      <td>c</td>\n      <td>10;0-12;56</td>\n      <td>a</td>\n      <td>[2, 3, 17]</td>\n      <td>0</td>\n      <td>1</td>\n      <td>0</td>\n      <td>0</td>\n      <td>0</td>\n      <td>0</td>\n      <td>...</td>\n      <td>0</td>\n      <td>0</td>\n      <td>0</td>\n      <td>0</td>\n      <td>0</td>\n      <td>0</td>\n      <td>0</td>\n      <td>0</td>\n      <td>0</td>\n      <td>0</td>\n    </tr>\n    <tr>\n      <th>1</th>\n      <td>d</td>\n      <td>11;4-12;56</td>\n      <td>c</td>\n      <td>[3, 17]</td>\n      <td>0</td>\n      <td>0</td>\n      <td>0</td>\n      <td>0</td>\n      <td>0</td>\n      <td>0</td>\n      <td>...</td>\n      <td>0</td>\n      <td>0</td>\n      <td>0</td>\n      <td>0</td>\n      <td>0</td>\n      <td>0</td>\n      <td>1</td>\n      <td>0</td>\n      <td>0</td>\n      <td>0</td>\n    </tr>\n    <tr>\n      <th>2</th>\n      <td>d</td>\n      <td>15;0-16;67</td>\n      <td>a</td>\n      <td>[3, 20, 17]</td>\n      <td>0</td>\n      <td>0</td>\n      <td>0</td>\n      <td>0</td>\n      <td>0</td>\n      <td>0</td>\n      <td>...</td>\n      <td>0</td>\n      <td>0</td>\n      <td>0</td>\n      <td>0</td>\n      <td>0</td>\n      <td>0</td>\n      <td>0</td>\n      <td>0</td>\n      <td>0</td>\n      <td>0</td>\n    </tr>\n    <tr>\n      <th>3</th>\n      <td>d</td>\n      <td>19;0-21;60</td>\n      <td>a</td>\n      <td>[3, 17, 20]</td>\n      <td>0</td>\n      <td>0</td>\n      <td>0</td>\n      <td>0</td>\n      <td>0</td>\n      <td>0</td>\n      <td>...</td>\n      <td>0</td>\n      <td>0</td>\n      <td>0</td>\n      <td>0</td>\n      <td>0</td>\n      <td>0</td>\n      <td>1</td>\n      <td>0</td>\n      <td>0</td>\n      <td>0</td>\n    </tr>\n    <tr>\n      <th>4</th>\n      <td>d</td>\n      <td>24;0-32;77</td>\n      <td>a</td>\n      <td>[3, 16, 5, 17, 16, 17, 17]</td>\n      <td>0</td>\n      <td>0</td>\n      <td>0</td>\n      <td>1</td>\n      <td>0</td>\n      <td>0</td>\n      <td>...</td>\n      <td>0</td>\n      <td>0</td>\n      <td>0</td>\n      <td>0</td>\n      <td>0</td>\n      <td>1</td>\n      <td>0</td>\n      <td>0</td>\n      <td>0</td>\n      <td>0</td>\n    </tr>\n  </tbody>\n</table>\n<p>5 rows × 31 columns</p>\n</div>"
     },
     "execution_count": 42,
     "metadata": {},
     "output_type": "execute_result"
    }
   ],
   "source": [
    "# for x in df.context:\n",
    "#     listified = list(str(x))\n",
    "#     for letter in listified:\n",
    "#         try:\n",
    "#             ascii_letters.index(letter)\n",
    "#         except ValueError as e:\n",
    "#             print(\"Letter:\", letter)\n",
    "# Convert the compacted context from letters into strings of integers\n",
    "df.context = [list(map(lambda y: str(ascii_letters.index(y)), list(str(x)))) for x in df.context]\n",
    "df.head()"
   ]
  },
  {
   "cell_type": "code",
   "execution_count": 43,
   "metadata": {
    "pycharm": {
     "name": "#%%\n"
    }
   },
   "outputs": [
    {
     "data": {
      "text/plain": "34"
     },
     "execution_count": 43,
     "metadata": {},
     "output_type": "execute_result"
    }
   ],
   "source": [
    "# Word2Vec Model\n",
    "class MyCorpus:\n",
    "        \"\"\"An iterator that yields sentences (lists of str).\"\"\"\n",
    "        def __init__(self, text_list: list):\n",
    "            self.text_list = text_list\n",
    "\n",
    "        def __iter__(self):\n",
    "            for line in self.text_list:\n",
    "                yield line\n",
    "\n",
    "sentences = MyCorpus(list(df.context))\n",
    "gensim_model = gensim.models.Word2Vec(sentences=sentences, min_count=1)\n",
    "actual_vocab_size = len(gensim_model.wv.key_to_index)\n",
    "actual_vocab_size"
   ]
  },
  {
   "cell_type": "code",
   "execution_count": 44,
   "metadata": {
    "pycharm": {
     "name": "#%%\n"
    }
   },
   "outputs": [
    {
     "data": {
      "text/plain": "         c0        c1        c2        c3        c4        c5        c6  \\\n0 -0.230097  1.357690 -0.054724  0.787381 -0.583491  0.568553 -0.607659   \n1 -0.302136  0.546907 -0.077963  0.603035  0.232146 -0.097231 -0.318668   \n2  0.524284  0.088531 -0.312373 -0.014159  0.199369  0.097940 -0.890064   \n3  0.524284  0.088531 -0.312373 -0.014159  0.199369  0.097940 -0.890064   \n4 -0.317444 -0.103982 -0.407280  0.383974  0.707843 -0.525569  0.244733   \n\n         c7        c8        c9  ...       c90       c91       c92       c93  \\\n0 -0.341705 -0.293219 -0.318684  ...  0.457015 -0.267720  0.402871 -0.184077   \n1 -0.380425  0.481469  0.076474  ... -0.254732 -0.224073  0.276448 -0.332256   \n2  0.571978  0.951072 -0.493446  ... -0.041747 -0.152901  0.009333 -0.089158   \n3  0.571978  0.951072 -0.493446  ... -0.041747 -0.152901  0.009333 -0.089158   \n4 -0.568876  0.461856  0.524103  ... -0.766642 -0.111786  0.252804 -0.325927   \n\n        c94       c95       c96       c97       c98       c99  \n0 -0.225120  0.004844 -0.113994 -1.016737 -0.200488  0.549677  \n1  0.176632 -0.287678 -0.120254  0.141745  0.063738  0.327092  \n2  0.203666 -0.173905 -0.392186 -0.040864 -0.198627  0.650111  \n3  0.203666 -0.173905 -0.392186 -0.040864 -0.198627  0.650111  \n4  0.377132 -0.406103  0.008015  0.982359  0.724123 -0.025433  \n\n[5 rows x 100 columns]",
      "text/html": "<div>\n<style scoped>\n    .dataframe tbody tr th:only-of-type {\n        vertical-align: middle;\n    }\n\n    .dataframe tbody tr th {\n        vertical-align: top;\n    }\n\n    .dataframe thead th {\n        text-align: right;\n    }\n</style>\n<table border=\"1\" class=\"dataframe\">\n  <thead>\n    <tr style=\"text-align: right;\">\n      <th></th>\n      <th>c0</th>\n      <th>c1</th>\n      <th>c2</th>\n      <th>c3</th>\n      <th>c4</th>\n      <th>c5</th>\n      <th>c6</th>\n      <th>c7</th>\n      <th>c8</th>\n      <th>c9</th>\n      <th>...</th>\n      <th>c90</th>\n      <th>c91</th>\n      <th>c92</th>\n      <th>c93</th>\n      <th>c94</th>\n      <th>c95</th>\n      <th>c96</th>\n      <th>c97</th>\n      <th>c98</th>\n      <th>c99</th>\n    </tr>\n  </thead>\n  <tbody>\n    <tr>\n      <th>0</th>\n      <td>-0.230097</td>\n      <td>1.357690</td>\n      <td>-0.054724</td>\n      <td>0.787381</td>\n      <td>-0.583491</td>\n      <td>0.568553</td>\n      <td>-0.607659</td>\n      <td>-0.341705</td>\n      <td>-0.293219</td>\n      <td>-0.318684</td>\n      <td>...</td>\n      <td>0.457015</td>\n      <td>-0.267720</td>\n      <td>0.402871</td>\n      <td>-0.184077</td>\n      <td>-0.225120</td>\n      <td>0.004844</td>\n      <td>-0.113994</td>\n      <td>-1.016737</td>\n      <td>-0.200488</td>\n      <td>0.549677</td>\n    </tr>\n    <tr>\n      <th>1</th>\n      <td>-0.302136</td>\n      <td>0.546907</td>\n      <td>-0.077963</td>\n      <td>0.603035</td>\n      <td>0.232146</td>\n      <td>-0.097231</td>\n      <td>-0.318668</td>\n      <td>-0.380425</td>\n      <td>0.481469</td>\n      <td>0.076474</td>\n      <td>...</td>\n      <td>-0.254732</td>\n      <td>-0.224073</td>\n      <td>0.276448</td>\n      <td>-0.332256</td>\n      <td>0.176632</td>\n      <td>-0.287678</td>\n      <td>-0.120254</td>\n      <td>0.141745</td>\n      <td>0.063738</td>\n      <td>0.327092</td>\n    </tr>\n    <tr>\n      <th>2</th>\n      <td>0.524284</td>\n      <td>0.088531</td>\n      <td>-0.312373</td>\n      <td>-0.014159</td>\n      <td>0.199369</td>\n      <td>0.097940</td>\n      <td>-0.890064</td>\n      <td>0.571978</td>\n      <td>0.951072</td>\n      <td>-0.493446</td>\n      <td>...</td>\n      <td>-0.041747</td>\n      <td>-0.152901</td>\n      <td>0.009333</td>\n      <td>-0.089158</td>\n      <td>0.203666</td>\n      <td>-0.173905</td>\n      <td>-0.392186</td>\n      <td>-0.040864</td>\n      <td>-0.198627</td>\n      <td>0.650111</td>\n    </tr>\n    <tr>\n      <th>3</th>\n      <td>0.524284</td>\n      <td>0.088531</td>\n      <td>-0.312373</td>\n      <td>-0.014159</td>\n      <td>0.199369</td>\n      <td>0.097940</td>\n      <td>-0.890064</td>\n      <td>0.571978</td>\n      <td>0.951072</td>\n      <td>-0.493446</td>\n      <td>...</td>\n      <td>-0.041747</td>\n      <td>-0.152901</td>\n      <td>0.009333</td>\n      <td>-0.089158</td>\n      <td>0.203666</td>\n      <td>-0.173905</td>\n      <td>-0.392186</td>\n      <td>-0.040864</td>\n      <td>-0.198627</td>\n      <td>0.650111</td>\n    </tr>\n    <tr>\n      <th>4</th>\n      <td>-0.317444</td>\n      <td>-0.103982</td>\n      <td>-0.407280</td>\n      <td>0.383974</td>\n      <td>0.707843</td>\n      <td>-0.525569</td>\n      <td>0.244733</td>\n      <td>-0.568876</td>\n      <td>0.461856</td>\n      <td>0.524103</td>\n      <td>...</td>\n      <td>-0.766642</td>\n      <td>-0.111786</td>\n      <td>0.252804</td>\n      <td>-0.325927</td>\n      <td>0.377132</td>\n      <td>-0.406103</td>\n      <td>0.008015</td>\n      <td>0.982359</td>\n      <td>0.724123</td>\n      <td>-0.025433</td>\n    </tr>\n  </tbody>\n</table>\n<p>5 rows × 100 columns</p>\n</div>"
     },
     "execution_count": 44,
     "metadata": {},
     "output_type": "execute_result"
    }
   ],
   "source": [
    "# Build an embedding for each context as the mean of its words' Word2Vec vectors\n",
    "corpus_embeddings = []\n",
    "for doc in sentences:\n",
    "    doc_embedding = np.zeros((len(doc), 100), dtype=np.float32)\n",
    "    for idx, word in enumerate(doc):\n",
    "                    doc_embedding[idx] = gensim_model.wv[word]\n",
    "    doc_embedding = np.mean(doc_embedding, axis=0)\n",
    "    corpus_embeddings.append(doc_embedding)\n",
    "corpus_embeddings = np.array(corpus_embeddings)\n",
    "df_corpus_embeddings = pd.DataFrame(corpus_embeddings, columns=[\"c\"+str(i) for i in range(100)])\n",
    "df_corpus_embeddings.head()"
   ]
  },
  {
   "cell_type": "code",
   "execution_count": 45,
   "metadata": {
    "pycharm": {
     "name": "#%%\n"
    }
   },
   "outputs": [
    {
     "data": {
      "text/plain": "     0    1   10   11   12   13   14   15        16        17  ...   30   31  \\\n0  0.0  0.0  0.0  0.0  0.0  0.0  0.0  0.0  0.000000  0.288665  ...  0.0  0.0   \n1  0.0  0.0  0.0  0.0  0.0  0.0  0.0  0.0  0.000000  0.731951  ...  0.0  0.0   \n2  0.0  0.0  0.0  0.0  0.0  0.0  0.0  0.0  0.000000  0.452504  ...  0.0  0.0   \n3  0.0  0.0  0.0  0.0  0.0  0.0  0.0  0.0  0.000000  0.452504  ...  0.0  0.0   \n4  0.0  0.0  0.0  0.0  0.0  0.0  0.0  0.0  0.514081  0.684461  ...  0.0  0.0   \n\n    32   33    4         5    6    7    8    9  \n0  0.0  0.0  0.0  0.000000  0.0  0.0  0.0  0.0  \n1  0.0  0.0  0.0  0.000000  0.0  0.0  0.0  0.0  \n2  0.0  0.0  0.0  0.000000  0.0  0.0  0.0  0.0  \n3  0.0  0.0  0.0  0.000000  0.0  0.0  0.0  0.0  \n4  0.0  0.0  0.0  0.471304  0.0  0.0  0.0  0.0  \n\n[5 rows x 34 columns]",
      "text/html": "<div>\n<style scoped>\n    .dataframe tbody tr th:only-of-type {\n        vertical-align: middle;\n    }\n\n    .dataframe tbody tr th {\n        vertical-align: top;\n    }\n\n    .dataframe thead th {\n        text-align: right;\n    }\n</style>\n<table border=\"1\" class=\"dataframe\">\n  <thead>\n    <tr style=\"text-align: right;\">\n      <th></th>\n      <th>0</th>\n      <th>1</th>\n      <th>10</th>\n      <th>11</th>\n      <th>12</th>\n      <th>13</th>\n      <th>14</th>\n      <th>15</th>\n      <th>16</th>\n      <th>17</th>\n      <th>...</th>\n      <th>30</th>\n      <th>31</th>\n      <th>32</th>\n      <th>33</th>\n      <th>4</th>\n      <th>5</th>\n      <th>6</th>\n      <th>7</th>\n      <th>8</th>\n      <th>9</th>\n    </tr>\n  </thead>\n  <tbody>\n    <tr>\n      <th>0</th>\n      <td>0.0</td>\n      <td>0.0</td>\n      <td>0.0</td>\n      <td>0.0</td>\n      <td>0.0</td>\n      <td>0.0</td>\n      <td>0.0</td>\n      <td>0.0</td>\n      <td>0.000000</td>\n      <td>0.288665</td>\n      <td>...</td>\n      <td>0.0</td>\n      <td>0.0</td>\n      <td>0.0</td>\n      <td>0.0</td>\n      <td>0.0</td>\n      <td>0.000000</td>\n      <td>0.0</td>\n      <td>0.0</td>\n      <td>0.0</td>\n      <td>0.0</td>\n    </tr>\n    <tr>\n      <th>1</th>\n      <td>0.0</td>\n      <td>0.0</td>\n      <td>0.0</td>\n      <td>0.0</td>\n      <td>0.0</td>\n      <td>0.0</td>\n      <td>0.0</td>\n      <td>0.0</td>\n      <td>0.000000</td>\n      <td>0.731951</td>\n      <td>...</td>\n      <td>0.0</td>\n      <td>0.0</td>\n      <td>0.0</td>\n      <td>0.0</td>\n      <td>0.0</td>\n      <td>0.000000</td>\n      <td>0.0</td>\n      <td>0.0</td>\n      <td>0.0</td>\n      <td>0.0</td>\n    </tr>\n    <tr>\n      <th>2</th>\n      <td>0.0</td>\n      <td>0.0</td>\n      <td>0.0</td>\n      <td>0.0</td>\n      <td>0.0</td>\n      <td>0.0</td>\n      <td>0.0</td>\n      <td>0.0</td>\n      <td>0.000000</td>\n      <td>0.452504</td>\n      <td>...</td>\n      <td>0.0</td>\n      <td>0.0</td>\n      <td>0.0</td>\n      <td>0.0</td>\n      <td>0.0</td>\n      <td>0.000000</td>\n      <td>0.0</td>\n      <td>0.0</td>\n      <td>0.0</td>\n      <td>0.0</td>\n    </tr>\n    <tr>\n      <th>3</th>\n      <td>0.0</td>\n      <td>0.0</td>\n      <td>0.0</td>\n      <td>0.0</td>\n      <td>0.0</td>\n      <td>0.0</td>\n      <td>0.0</td>\n      <td>0.0</td>\n      <td>0.000000</td>\n      <td>0.452504</td>\n      <td>...</td>\n      <td>0.0</td>\n      <td>0.0</td>\n      <td>0.0</td>\n      <td>0.0</td>\n      <td>0.0</td>\n      <td>0.000000</td>\n      <td>0.0</td>\n      <td>0.0</td>\n      <td>0.0</td>\n      <td>0.0</td>\n    </tr>\n    <tr>\n      <th>4</th>\n      <td>0.0</td>\n      <td>0.0</td>\n      <td>0.0</td>\n      <td>0.0</td>\n      <td>0.0</td>\n      <td>0.0</td>\n      <td>0.0</td>\n      <td>0.0</td>\n      <td>0.514081</td>\n      <td>0.684461</td>\n      <td>...</td>\n      <td>0.0</td>\n      <td>0.0</td>\n      <td>0.0</td>\n      <td>0.0</td>\n      <td>0.0</td>\n      <td>0.471304</td>\n      <td>0.0</td>\n      <td>0.0</td>\n      <td>0.0</td>\n      <td>0.0</td>\n    </tr>\n  </tbody>\n</table>\n<p>5 rows × 34 columns</p>\n</div>"
     },
     "execution_count": 45,
     "metadata": {},
     "output_type": "execute_result"
    }
   ],
   "source": [
    "# TF-IDF\n",
    "vectorizer = TfidfVectorizer(token_pattern=\"\\w+\")\n",
    "concat_context = [\" \".join(x) for x in df.context]\n",
    "vectorize_res = vectorizer.fit_transform(concat_context)\n",
    "df_tfidf = pd.DataFrame(vectorize_res.toarray(), columns=vectorizer.get_feature_names_out())\n",
    "df_tfidf.head()"
   ]
  },
  {
   "cell_type": "code",
   "execution_count": 46,
   "metadata": {
    "pycharm": {
     "name": "#%%\n"
    }
   },
   "outputs": [],
   "source": [
    "score_names = [\n",
    "    \"Balanced accuracy score\",\n",
    "    \"Precision score\",\n",
    "    \"Recall score\",\n",
    "    \"F1 Binary\"\n",
    "]"
   ]
  },
  {
   "cell_type": "code",
   "execution_count": 47,
   "metadata": {
    "pycharm": {
     "name": "#%%\n"
    }
   },
   "outputs": [],
   "source": [
    "# Simple Random Forest Run\n",
    "\n",
    "if run_random_forests:\n",
    "    df_regular = df.drop([\"context\"], axis=1)\n",
    "    dataframes = [\n",
    "        (\"regular\", df_regular),\n",
    "        # (\"corpus\", df_corpus_embeddings.join(pd.DataFrame(df.contains_logging))),\n",
    "        # (\"tf-idf\", df_tfidf.join(pd.DataFrame(df.contains_logging))),\n",
    "        # (\"regular+corpus\", df_regular.join(df_corpus_embeddings)),\n",
    "        # (\"regular+tfidf\", df_regular.join(df_tfidf)),\n",
    "        # (\"corpus+tfidf\", df_corpus_embeddings.join(df_tfidf).join(pd.DataFrame(df.contains_logging))),\n",
    "        # (\"regular+corpus+tfidf\", df_regular.join(df_corpus_embeddings).join(df_tfidf)),\n",
    "    ]\n",
    "\n",
    "    for df_name, df_used in dataframes:\n",
    "        print(df_name)\n",
    "        # Split data into train and test sets\n",
    "        # X = df_used.drop([\"contains_logging\"], axis=1)\n",
    "        X = df_used.drop([\"contains_logging\", \"location\"], axis=1)\n",
    "        if \"regular\" in df_name:\n",
    "            X = pd.get_dummies(X, columns=[\"type\", \"parent\"])\n",
    "        y = df_used.contains_logging\n",
    "        X_train, X_test, y_train, y_test = train_test_split(X, y, test_size = 0.25, stratify=y, random_state=0)\n",
    "        # X_train.head()\n",
    "        classifier = RandomForestClassifier(n_estimators=9, random_state=0)\n",
    "        classifier.fit(X_train, y_train)\n",
    "        y_pred = classifier.predict(X_test)\n",
    "\n",
    "        scores = [\n",
    "                balanced_accuracy_score(y_test, y_pred),\n",
    "                precision_score(y_test, y_pred),\n",
    "                recall_score(y_test, y_pred),\n",
    "                f1_score(y_test, y_pred, average='binary', pos_label=True)\n",
    "        ]\n",
    "        cm = confusion_matrix(y_test, y_pred, labels=classifier.classes_)\n",
    "        score_df = pd.DataFrame([scores], columns=score_names).mean().round(3)\n",
    "        print(score_df)\n",
    "        disp = ConfusionMatrixDisplay(confusion_matrix=cm,\n",
    "                                      display_labels=classifier.classes_)\n",
    "        disp.plot(cmap=plt.cm.Blues)\n",
    "        # plt.show()\n",
    "\n",
    "        # y_proba = classifier.predict_proba(X_test)\n",
    "        # threshold = 0.5\n",
    "        # y_pred_alt = np.where(y_proba[:, 1] > threshold, 1, 0)\n",
    "        # scores_alt = [\n",
    "        #         balanced_accuracy_score(y_test, y_pred_alt),\n",
    "        #         precision_score(y_test, y_pred_alt),\n",
    "        #         recall_score(y_test, y_pred_alt),\n",
    "        #         f1_score(y_test, y_pred_alt, average='binary', pos_label=True)\n",
    "        # ]\n",
    "        # cm_alt = confusion_matrix(y_test, y_pred_alt, labels=classifier.classes_)\n",
    "        # score_df_alt = pd.DataFrame([scores_alt], columns=score_names).mean().round(3)\n",
    "        # print(score_df_alt)\n",
    "        # disp_alt = ConfusionMatrixDisplay(confusion_matrix=cm_alt,\n",
    "        #                               display_labels=classifier.classes_)\n",
    "        # disp_alt.plot(cmap=plt.cm.Blues)\n",
    "        plt.show()\n"
   ]
  },
  {
   "cell_type": "code",
   "execution_count": 48,
   "metadata": {
    "pycharm": {
     "name": "#%%\n"
    }
   },
   "outputs": [],
   "source": [
    "# Simple Random Forest Run\n",
    "\n",
    "if run_random_forests:\n",
    "    df_regular = df.drop([\"context\"], axis=1)\n",
    "    dataframes = [\n",
    "        (\"regular\", df_regular),\n",
    "        # (\"corpus\", df_corpus_embeddings.join(pd.DataFrame(df.contains_logging))),\n",
    "        # (\"tf-idf\", df_tfidf.join(pd.DataFrame(df.contains_logging))),\n",
    "        # (\"regular+corpus\", df_regular.join(df_corpus_embeddings)),\n",
    "        # (\"regular+tfidf\", df_regular.join(df_tfidf)),\n",
    "        # (\"corpus+tfidf\", df_corpus_embeddings.join(df_tfidf).join(pd.DataFrame(df.contains_logging))),\n",
    "        # (\"regular+corpus+tfidf\", df_regular.join(df_corpus_embeddings).join(df_tfidf)),\n",
    "    ]\n",
    "\n",
    "    for df_name, df_used in dataframes:\n",
    "        print(df_name)\n",
    "        # Split data into train and test sets\n",
    "        # X = df_used.drop([\"contains_logging\"], axis=1)\n",
    "        X = df_used.drop([\"contains_logging\", \"location\"], axis=1)\n",
    "        if \"regular\" in df_name:\n",
    "            X = pd.get_dummies(X, columns=[\"type\", \"parent\"])\n",
    "        y = df_used.contains_logging\n",
    "        X_train, X_test, y_train, y_test = train_test_split(X, y, test_size = 0.25, stratify=y, random_state=0)\n",
    "        # X_train.head()\n",
    "        classifier = RandomForestClassifier(n_estimators=9, random_state=0)\n",
    "        classifier.fit(X_train, y_train)\n",
    "        # y_pred = classifier.predict(X_test)\n",
    "        #\n",
    "        # scores = [\n",
    "        #         balanced_accuracy_score(y_test, y_pred),\n",
    "        #         precision_score(y_test, y_pred),\n",
    "        #         recall_score(y_test, y_pred),\n",
    "        #         f1_score(y_test, y_pred, average='binary', pos_label=True)\n",
    "        # ]\n",
    "        # cm = confusion_matrix(y_test, y_pred, labels=classifier.classes_)\n",
    "        # score_df = pd.DataFrame([scores], columns=score_names).mean().round(3)\n",
    "        # print(score_df)\n",
    "        # disp = ConfusionMatrixDisplay(confusion_matrix=cm,\n",
    "        #                               display_labels=classifier.classes_)\n",
    "        # disp.plot(cmap=plt.cm.Blues)\n",
    "\n",
    "        y_proba = classifier.predict_proba(X_test)\n",
    "        threshold = 0.99\n",
    "        y_pred_alt = np.where(y_proba[:, 1] > threshold, 1, 0)\n",
    "        scores_alt = [\n",
    "                balanced_accuracy_score(y_test, y_pred_alt),\n",
    "                precision_score(y_test, y_pred_alt),\n",
    "                recall_score(y_test, y_pred_alt),\n",
    "                f1_score(y_test, y_pred_alt, average='binary', pos_label=True)\n",
    "        ]\n",
    "        cm_alt = confusion_matrix(y_test, y_pred_alt, labels=classifier.classes_)\n",
    "        score_df_alt = pd.DataFrame([scores_alt], columns=score_names).mean().round(3)\n",
    "        print(score_df_alt)\n",
    "        disp_alt = ConfusionMatrixDisplay(confusion_matrix=cm_alt,\n",
    "                                      display_labels=classifier.classes_)\n",
    "        disp_alt.plot(cmap=plt.cm.Blues)\n",
    "\n",
    "        plt.show()\n"
   ]
  },
  {
   "cell_type": "code",
   "execution_count": 49,
   "metadata": {
    "pycharm": {
     "name": "#%%\n"
    }
   },
   "outputs": [],
   "source": [
    "# Folded Random Forest Run\n",
    "\n",
    "df_regular = df.drop([\"context\"], axis=1)\n",
    "if run_random_forests:\n",
    "    dataframes = [\n",
    "        (\"regular\", df_regular),\n",
    "        # (\"corpus\", df_corpus_embeddings.join(pd.DataFrame(df.contains_logging))),\n",
    "        # (\"tf-idf\", df_tfidf.join(pd.DataFrame(df.contains_logging))),\n",
    "        # (\"regular+corpus\", df_regular.join(df_corpus_embeddings)),\n",
    "        # (\"regular+tfidf\", df_regular.join(df_tfidf)),\n",
    "        # (\"corpus+tfidf\", df_corpus_embeddings.join(df_tfidf).join(pd.DataFrame(df.contains_logging))),\n",
    "        # (\"regular+corpus+tfidf\", df_regular.join(df_corpus_embeddings).join(df_tfidf)),\n",
    "    ]\n",
    "\n",
    "    for df_name, df_used in dataframes:\n",
    "        print(df_name)\n",
    "        all_scores = []\n",
    "        conf_matrices = []\n",
    "        # Split data into train and test sets\n",
    "        # X = df_used.drop([\"contains_logging\"], axis=1)\n",
    "        X = df_used.drop([\"contains_logging\", \"location\"], axis=1)\n",
    "        if \"regular\" in df_name:\n",
    "            X = pd.get_dummies(X, columns=[\"type\", \"parent\"])\n",
    "        y = df_used.contains_logging\n",
    "        # X_train, X_test, y_train, y_test = train_test_split(X, y, test_size = 0.25, stratify=y, random_state=0)\n",
    "        classifier = RandomForestClassifier(n_estimators=200, random_state=0)\n",
    "        # classifier = RandomForestClassifier(n_estimators=9, random_state=0)\n",
    "        skf = StratifiedShuffleSplit(n_splits=5, test_size=0.25, random_state=0)\n",
    "        for train_index, test_index in skf.split(X, y):\n",
    "            X_train, X_test = X.iloc[train_index], X.iloc[test_index]\n",
    "            y_train, y_test = y.iloc[train_index], y.iloc[test_index]\n",
    "            classifier.fit(X_train, y_train)\n",
    "            y_pred = classifier.predict(X_test)\n",
    "            scores = [\n",
    "                    balanced_accuracy_score(y_test, y_pred),\n",
    "                    precision_score(y_test, y_pred),\n",
    "                    recall_score(y_test, y_pred),\n",
    "                    f1_score(y_test, y_pred, average='binary', pos_label=True)\n",
    "            ]\n",
    "            all_scores.append(scores)\n",
    "            cm = confusion_matrix(y_test, y_pred, labels=classifier.classes_)\n",
    "            conf_matrices.append(cm)\n",
    "        score_df = pd.DataFrame(all_scores, columns=score_names).mean().round(3)\n",
    "        print(score_df)\n",
    "        avg_cm = np.mean(conf_matrices, axis=0).astype(int)\n",
    "        disp = ConfusionMatrixDisplay(confusion_matrix=avg_cm,\n",
    "                                      display_labels=classifier.classes_)\n",
    "        disp.plot(cmap=plt.cm.Blues)\n",
    "        plt.show()"
   ]
  },
  {
   "cell_type": "code",
   "execution_count": 50,
   "metadata": {
    "pycharm": {
     "name": "#%%\n"
    }
   },
   "outputs": [
    {
     "data": {
      "text/plain": "             location                                            context  \\\n585910     39;4-44;62                        [3, 16, 17, 17, 21, 21, 21]   \n577170     24;0-37;18  [3, 16, 17, 16, 17, 4, 4, 17, 17, 11, 16, 17, 20]   \n125864   124;4-125;22  [3, 8, 16, 17, 16, 17, 17, 16, 16, 17, 17, 16,...   \n169722   147;8-153;33                      [3, 5, 16, 9, 17, 17, 17, 17]   \n343689     19;0-30;46      [3, 16, 17, 4, 17, 20, 16, 4, 16, 17, 20, 17]   \n...               ...                                                ...   \n95090    289;4-299;69                            [3, 17, 16, 17, 17, 17]   \n449486  333;12-337;17  [3, 16, 5, 16, 17, 16, 9, 17, 16, 9, 17, 21, 1...   \n184605   332;4-333;63             [3, 16, 16, 4, 17, 16, 17, 16, 11, 16]   \n594435   239;4-251;34  [3, 16, 17, 16, 16, 9, 17, 17, 9, 17, 17, 9, 1...   \n375931    56;12-66;24  [3, 16, 16, 16, 17, 17, 16, 17, 17, 17, 16, 17...   \n\n        contains_class_definition  contains_function_definition  \\\n585910                          0                             0   \n577170                          0                             0   \n125864                          0                             0   \n169722                          0                             0   \n343689                          0                             0   \n...                           ...                           ...   \n95090                           0                             0   \n449486                          0                             0   \n184605                          0                             0   \n594435                          0                             0   \n375931                          0                             0   \n\n        contains_if_statement  contains_for_statement  \\\n585910                      0                       0   \n577170                      1                       0   \n125864                      0                       0   \n169722                      0                       0   \n343689                      1                       0   \n...                       ...                     ...   \n95090                       0                       0   \n449486                      0                       0   \n184605                      0                       0   \n594435                      0                       0   \n375931                      1                       0   \n\n        contains_match_statement  contains_while_statement  \\\n585910                         0                         0   \n577170                         0                         0   \n125864                         0                         0   \n169722                         0                         0   \n343689                         0                         0   \n...                          ...                       ...   \n95090                          0                         0   \n449486                         0                         0   \n184605                         0                         0   \n594435                         0                         0   \n375931                         0                         0   \n\n        contains_try_statement  contains_with_statement  ...  parent_f  \\\n585910                       0                        0  ...         0   \n577170                       0                        0  ...         0   \n125864                       0                        0  ...         0   \n169722                       0                        1  ...         0   \n343689                       0                        0  ...         0   \n...                        ...                      ...  ...       ...   \n95090                        0                        0  ...         0   \n449486                       0                        0  ...         0   \n184605                       0                        0  ...         0   \n594435                       0                        1  ...         0   \n375931                       0                        0  ...         0   \n\n        parent_g  parent_h  parent_i  parent_j  parent_k  parent_l  parent_m  \\\n585910         0         0         0         0         0         0         0   \n577170         0         0         0         0         0         0         0   \n125864         0         0         1         0         0         0         0   \n169722         0         0         0         0         0         0         0   \n343689         0         0         0         0         0         0         0   \n...          ...       ...       ...       ...       ...       ...       ...   \n95090          0         0         0         0         0         0         0   \n449486         0         0         0         1         0         0         0   \n184605         0         0         0         0         0         0         0   \n594435         0         0         0         0         0         0         0   \n375931         0         0         0         0         1         0         0   \n\n        parent_o  parent_p  \n585910         0         0  \n577170         0         0  \n125864         0         0  \n169722         0         0  \n343689         0         0  \n...          ...       ...  \n95090          0         0  \n449486         0         0  \n184605         0         0  \n594435         0         0  \n375931         0         0  \n\n[536616 rows x 57 columns]",
      "text/html": "<div>\n<style scoped>\n    .dataframe tbody tr th:only-of-type {\n        vertical-align: middle;\n    }\n\n    .dataframe tbody tr th {\n        vertical-align: top;\n    }\n\n    .dataframe thead th {\n        text-align: right;\n    }\n</style>\n<table border=\"1\" class=\"dataframe\">\n  <thead>\n    <tr style=\"text-align: right;\">\n      <th></th>\n      <th>location</th>\n      <th>context</th>\n      <th>contains_class_definition</th>\n      <th>contains_function_definition</th>\n      <th>contains_if_statement</th>\n      <th>contains_for_statement</th>\n      <th>contains_match_statement</th>\n      <th>contains_while_statement</th>\n      <th>contains_try_statement</th>\n      <th>contains_with_statement</th>\n      <th>...</th>\n      <th>parent_f</th>\n      <th>parent_g</th>\n      <th>parent_h</th>\n      <th>parent_i</th>\n      <th>parent_j</th>\n      <th>parent_k</th>\n      <th>parent_l</th>\n      <th>parent_m</th>\n      <th>parent_o</th>\n      <th>parent_p</th>\n    </tr>\n  </thead>\n  <tbody>\n    <tr>\n      <th>585910</th>\n      <td>39;4-44;62</td>\n      <td>[3, 16, 17, 17, 21, 21, 21]</td>\n      <td>0</td>\n      <td>0</td>\n      <td>0</td>\n      <td>0</td>\n      <td>0</td>\n      <td>0</td>\n      <td>0</td>\n      <td>0</td>\n      <td>...</td>\n      <td>0</td>\n      <td>0</td>\n      <td>0</td>\n      <td>0</td>\n      <td>0</td>\n      <td>0</td>\n      <td>0</td>\n      <td>0</td>\n      <td>0</td>\n      <td>0</td>\n    </tr>\n    <tr>\n      <th>577170</th>\n      <td>24;0-37;18</td>\n      <td>[3, 16, 17, 16, 17, 4, 4, 17, 17, 11, 16, 17, 20]</td>\n      <td>0</td>\n      <td>0</td>\n      <td>1</td>\n      <td>0</td>\n      <td>0</td>\n      <td>0</td>\n      <td>0</td>\n      <td>0</td>\n      <td>...</td>\n      <td>0</td>\n      <td>0</td>\n      <td>0</td>\n      <td>0</td>\n      <td>0</td>\n      <td>0</td>\n      <td>0</td>\n      <td>0</td>\n      <td>0</td>\n      <td>0</td>\n    </tr>\n    <tr>\n      <th>125864</th>\n      <td>124;4-125;22</td>\n      <td>[3, 8, 16, 17, 16, 17, 17, 16, 16, 17, 17, 16,...</td>\n      <td>0</td>\n      <td>0</td>\n      <td>0</td>\n      <td>0</td>\n      <td>0</td>\n      <td>0</td>\n      <td>0</td>\n      <td>0</td>\n      <td>...</td>\n      <td>0</td>\n      <td>0</td>\n      <td>0</td>\n      <td>1</td>\n      <td>0</td>\n      <td>0</td>\n      <td>0</td>\n      <td>0</td>\n      <td>0</td>\n      <td>0</td>\n    </tr>\n    <tr>\n      <th>169722</th>\n      <td>147;8-153;33</td>\n      <td>[3, 5, 16, 9, 17, 17, 17, 17]</td>\n      <td>0</td>\n      <td>0</td>\n      <td>0</td>\n      <td>0</td>\n      <td>0</td>\n      <td>0</td>\n      <td>0</td>\n      <td>1</td>\n      <td>...</td>\n      <td>0</td>\n      <td>0</td>\n      <td>0</td>\n      <td>0</td>\n      <td>0</td>\n      <td>0</td>\n      <td>0</td>\n      <td>0</td>\n      <td>0</td>\n      <td>0</td>\n    </tr>\n    <tr>\n      <th>343689</th>\n      <td>19;0-30;46</td>\n      <td>[3, 16, 17, 4, 17, 20, 16, 4, 16, 17, 20, 17]</td>\n      <td>0</td>\n      <td>0</td>\n      <td>1</td>\n      <td>0</td>\n      <td>0</td>\n      <td>0</td>\n      <td>0</td>\n      <td>0</td>\n      <td>...</td>\n      <td>0</td>\n      <td>0</td>\n      <td>0</td>\n      <td>0</td>\n      <td>0</td>\n      <td>0</td>\n      <td>0</td>\n      <td>0</td>\n      <td>0</td>\n      <td>0</td>\n    </tr>\n    <tr>\n      <th>...</th>\n      <td>...</td>\n      <td>...</td>\n      <td>...</td>\n      <td>...</td>\n      <td>...</td>\n      <td>...</td>\n      <td>...</td>\n      <td>...</td>\n      <td>...</td>\n      <td>...</td>\n      <td>...</td>\n      <td>...</td>\n      <td>...</td>\n      <td>...</td>\n      <td>...</td>\n      <td>...</td>\n      <td>...</td>\n      <td>...</td>\n      <td>...</td>\n      <td>...</td>\n      <td>...</td>\n    </tr>\n    <tr>\n      <th>95090</th>\n      <td>289;4-299;69</td>\n      <td>[3, 17, 16, 17, 17, 17]</td>\n      <td>0</td>\n      <td>0</td>\n      <td>0</td>\n      <td>0</td>\n      <td>0</td>\n      <td>0</td>\n      <td>0</td>\n      <td>0</td>\n      <td>...</td>\n      <td>0</td>\n      <td>0</td>\n      <td>0</td>\n      <td>0</td>\n      <td>0</td>\n      <td>0</td>\n      <td>0</td>\n      <td>0</td>\n      <td>0</td>\n      <td>0</td>\n    </tr>\n    <tr>\n      <th>449486</th>\n      <td>333;12-337;17</td>\n      <td>[3, 16, 5, 16, 17, 16, 9, 17, 16, 9, 17, 21, 1...</td>\n      <td>0</td>\n      <td>0</td>\n      <td>0</td>\n      <td>0</td>\n      <td>0</td>\n      <td>0</td>\n      <td>0</td>\n      <td>0</td>\n      <td>...</td>\n      <td>0</td>\n      <td>0</td>\n      <td>0</td>\n      <td>0</td>\n      <td>1</td>\n      <td>0</td>\n      <td>0</td>\n      <td>0</td>\n      <td>0</td>\n      <td>0</td>\n    </tr>\n    <tr>\n      <th>184605</th>\n      <td>332;4-333;63</td>\n      <td>[3, 16, 16, 4, 17, 16, 17, 16, 11, 16]</td>\n      <td>0</td>\n      <td>0</td>\n      <td>0</td>\n      <td>0</td>\n      <td>0</td>\n      <td>0</td>\n      <td>0</td>\n      <td>0</td>\n      <td>...</td>\n      <td>0</td>\n      <td>0</td>\n      <td>0</td>\n      <td>0</td>\n      <td>0</td>\n      <td>0</td>\n      <td>0</td>\n      <td>0</td>\n      <td>0</td>\n      <td>0</td>\n    </tr>\n    <tr>\n      <th>594435</th>\n      <td>239;4-251;34</td>\n      <td>[3, 16, 17, 16, 16, 9, 17, 17, 9, 17, 17, 9, 1...</td>\n      <td>0</td>\n      <td>0</td>\n      <td>0</td>\n      <td>0</td>\n      <td>0</td>\n      <td>0</td>\n      <td>0</td>\n      <td>1</td>\n      <td>...</td>\n      <td>0</td>\n      <td>0</td>\n      <td>0</td>\n      <td>0</td>\n      <td>0</td>\n      <td>0</td>\n      <td>0</td>\n      <td>0</td>\n      <td>0</td>\n      <td>0</td>\n    </tr>\n    <tr>\n      <th>375931</th>\n      <td>56;12-66;24</td>\n      <td>[3, 16, 16, 16, 17, 17, 16, 17, 17, 17, 16, 17...</td>\n      <td>0</td>\n      <td>0</td>\n      <td>1</td>\n      <td>0</td>\n      <td>0</td>\n      <td>0</td>\n      <td>0</td>\n      <td>0</td>\n      <td>...</td>\n      <td>0</td>\n      <td>0</td>\n      <td>0</td>\n      <td>0</td>\n      <td>0</td>\n      <td>1</td>\n      <td>0</td>\n      <td>0</td>\n      <td>0</td>\n      <td>0</td>\n    </tr>\n  </tbody>\n</table>\n<p>536616 rows × 57 columns</p>\n</div>"
     },
     "execution_count": 50,
     "metadata": {},
     "output_type": "execute_result"
    }
   ],
   "source": [
    "# Data split for Tensorflow\n",
    "\n",
    "X = df.drop([\"contains_logging\"], axis=1)\n",
    "X = pd.get_dummies(X, columns=[\"type\", \"parent\"])\n",
    "y = df.contains_logging\n",
    "X_train, X_test, y_train, y_test = train_test_split(X, y, test_size = 0.25, stratify=y, random_state=0)\n",
    "X_train"
   ]
  },
  {
   "cell_type": "code",
   "execution_count": 51,
   "metadata": {
    "pycharm": {
     "name": "#%%\n"
    }
   },
   "outputs": [],
   "source": [
    "vocab_size = actual_vocab_size\n",
    "output_dims = 100\n",
    "max_length = 80\n",
    "num_epochs = 100\n",
    "batch_size = 24\n",
    "dropout = 0.2"
   ]
  },
  {
   "cell_type": "code",
   "execution_count": 52,
   "metadata": {
    "pycharm": {
     "name": "#%%\n"
    }
   },
   "outputs": [
    {
     "data": {
      "text/plain": "array([[ 0.90691203,  0.90985811,  1.3578819 , ...,  3.39418697,\n        -1.23286963, -1.47876728],\n       [-0.25118244,  1.57624137, -0.87413281, ..., -1.49761927,\n        -1.23354733, -0.18435796],\n       [-0.08601976,  2.97925544, -0.00824505, ..., -3.33370137,\n        -0.72893882,  0.99484622],\n       ...,\n       [ 1.03554654,  0.2696079 ,  0.77830166, ...,  0.35817093,\n        -0.09002549, -1.72760308],\n       [-3.22901392, -0.4214204 ,  1.83062434, ..., -1.34349501,\n         0.11103494, -1.81138647],\n       [-0.63224596,  0.52436721,  0.77367264, ...,  0.35751042,\n         0.42844871,  0.25424877]])"
     },
     "execution_count": 52,
     "metadata": {},
     "output_type": "execute_result"
    }
   ],
   "source": [
    "# Build embedding matrix\n",
    "embedding_matrix = zeros((vocab_size, output_dims))\n",
    "for i in range(vocab_size):\n",
    "    embedding_vector = None\n",
    "    try:\n",
    "        embedding_vector = gensim_model.wv[str(i)]\n",
    "    except KeyError:\n",
    "        pass\n",
    "    if embedding_vector is not None:\n",
    "        embedding_matrix[i] = embedding_vector\n",
    "embedding_matrix"
   ]
  },
  {
   "cell_type": "code",
   "execution_count": 53,
   "metadata": {
    "pycharm": {
     "name": "#%%\n"
    }
   },
   "outputs": [
    {
     "data": {
      "text/plain": "array([[ 0,  0,  0, ..., 21, 21, 21],\n       [ 0,  0,  0, ..., 16, 17, 20],\n       [ 0,  0,  0, ..., 28, 14, 17],\n       ...,\n       [ 0,  0,  0, ..., 16, 11, 16],\n       [ 0,  0,  0, ...,  9, 17, 17],\n       [ 0,  0,  0, ...,  4, 17, 22]], dtype=int32)"
     },
     "execution_count": 53,
     "metadata": {},
     "output_type": "execute_result"
    }
   ],
   "source": [
    "# Pad the context to create the context input\n",
    "padded_inputs = pad_sequences(np.array(list(X_train.context), dtype=object), maxlen=max_length, value=0.0)  # 0.0 because it corresponds with <PAD>\n",
    "padded_inputs_test = pad_sequences(np.array(list(X_test.context), dtype=object), maxlen=max_length, value=0.0)  # 0.0 because it corresponds with <PAD>\n",
    "padded_inputs"
   ]
  },
  {
   "cell_type": "code",
   "execution_count": 54,
   "metadata": {
    "pycharm": {
     "name": "#%%\n"
    }
   },
   "outputs": [
    {
     "data": {
      "text/plain": "        contains_class_definition  contains_function_definition  \\\n585910                          0                             0   \n577170                          0                             0   \n125864                          0                             0   \n169722                          0                             0   \n343689                          0                             0   \n...                           ...                           ...   \n95090                           0                             0   \n449486                          0                             0   \n184605                          0                             0   \n594435                          0                             0   \n375931                          0                             0   \n\n        contains_if_statement  contains_for_statement  \\\n585910                      0                       0   \n577170                      1                       0   \n125864                      0                       0   \n169722                      0                       0   \n343689                      1                       0   \n...                       ...                     ...   \n95090                       0                       0   \n449486                      0                       0   \n184605                      0                       0   \n594435                      0                       0   \n375931                      1                       0   \n\n        contains_match_statement  contains_while_statement  \\\n585910                         0                         0   \n577170                         0                         0   \n125864                         0                         0   \n169722                         0                         0   \n343689                         0                         0   \n...                          ...                       ...   \n95090                          0                         0   \n449486                         0                         0   \n184605                         0                         0   \n594435                         0                         0   \n375931                         0                         0   \n\n        contains_try_statement  contains_with_statement  \\\n585910                       0                        0   \n577170                       0                        0   \n125864                       0                        0   \n169722                       0                        1   \n343689                       0                        0   \n...                        ...                      ...   \n95090                        0                        0   \n449486                       0                        0   \n184605                       0                        0   \n594435                       0                        1   \n375931                       0                        0   \n\n        contains_return_statement  contains_assert_statement  ...  parent_f  \\\n585910                          0                          1  ...         0   \n577170                          1                          0  ...         0   \n125864                          0                          0  ...         0   \n169722                          0                          0  ...         0   \n343689                          1                          0  ...         0   \n...                           ...                        ...  ...       ...   \n95090                           0                          0  ...         0   \n449486                          0                          1  ...         0   \n184605                          0                          0  ...         0   \n594435                          0                          0  ...         0   \n375931                          0                          0  ...         0   \n\n        parent_g  parent_h  parent_i  parent_j  parent_k  parent_l  parent_m  \\\n585910         0         0         0         0         0         0         0   \n577170         0         0         0         0         0         0         0   \n125864         0         0         1         0         0         0         0   \n169722         0         0         0         0         0         0         0   \n343689         0         0         0         0         0         0         0   \n...          ...       ...       ...       ...       ...       ...       ...   \n95090          0         0         0         0         0         0         0   \n449486         0         0         0         1         0         0         0   \n184605         0         0         0         0         0         0         0   \n594435         0         0         0         0         0         0         0   \n375931         0         0         0         0         1         0         0   \n\n        parent_o  parent_p  \n585910         0         0  \n577170         0         0  \n125864         0         0  \n169722         0         0  \n343689         0         0  \n...          ...       ...  \n95090          0         0  \n449486         0         0  \n184605         0         0  \n594435         0         0  \n375931         0         0  \n\n[536616 rows x 55 columns]",
      "text/html": "<div>\n<style scoped>\n    .dataframe tbody tr th:only-of-type {\n        vertical-align: middle;\n    }\n\n    .dataframe tbody tr th {\n        vertical-align: top;\n    }\n\n    .dataframe thead th {\n        text-align: right;\n    }\n</style>\n<table border=\"1\" class=\"dataframe\">\n  <thead>\n    <tr style=\"text-align: right;\">\n      <th></th>\n      <th>contains_class_definition</th>\n      <th>contains_function_definition</th>\n      <th>contains_if_statement</th>\n      <th>contains_for_statement</th>\n      <th>contains_match_statement</th>\n      <th>contains_while_statement</th>\n      <th>contains_try_statement</th>\n      <th>contains_with_statement</th>\n      <th>contains_return_statement</th>\n      <th>contains_assert_statement</th>\n      <th>...</th>\n      <th>parent_f</th>\n      <th>parent_g</th>\n      <th>parent_h</th>\n      <th>parent_i</th>\n      <th>parent_j</th>\n      <th>parent_k</th>\n      <th>parent_l</th>\n      <th>parent_m</th>\n      <th>parent_o</th>\n      <th>parent_p</th>\n    </tr>\n  </thead>\n  <tbody>\n    <tr>\n      <th>585910</th>\n      <td>0</td>\n      <td>0</td>\n      <td>0</td>\n      <td>0</td>\n      <td>0</td>\n      <td>0</td>\n      <td>0</td>\n      <td>0</td>\n      <td>0</td>\n      <td>1</td>\n      <td>...</td>\n      <td>0</td>\n      <td>0</td>\n      <td>0</td>\n      <td>0</td>\n      <td>0</td>\n      <td>0</td>\n      <td>0</td>\n      <td>0</td>\n      <td>0</td>\n      <td>0</td>\n    </tr>\n    <tr>\n      <th>577170</th>\n      <td>0</td>\n      <td>0</td>\n      <td>1</td>\n      <td>0</td>\n      <td>0</td>\n      <td>0</td>\n      <td>0</td>\n      <td>0</td>\n      <td>1</td>\n      <td>0</td>\n      <td>...</td>\n      <td>0</td>\n      <td>0</td>\n      <td>0</td>\n      <td>0</td>\n      <td>0</td>\n      <td>0</td>\n      <td>0</td>\n      <td>0</td>\n      <td>0</td>\n      <td>0</td>\n    </tr>\n    <tr>\n      <th>125864</th>\n      <td>0</td>\n      <td>0</td>\n      <td>0</td>\n      <td>0</td>\n      <td>0</td>\n      <td>0</td>\n      <td>0</td>\n      <td>0</td>\n      <td>0</td>\n      <td>0</td>\n      <td>...</td>\n      <td>0</td>\n      <td>0</td>\n      <td>0</td>\n      <td>1</td>\n      <td>0</td>\n      <td>0</td>\n      <td>0</td>\n      <td>0</td>\n      <td>0</td>\n      <td>0</td>\n    </tr>\n    <tr>\n      <th>169722</th>\n      <td>0</td>\n      <td>0</td>\n      <td>0</td>\n      <td>0</td>\n      <td>0</td>\n      <td>0</td>\n      <td>0</td>\n      <td>1</td>\n      <td>0</td>\n      <td>0</td>\n      <td>...</td>\n      <td>0</td>\n      <td>0</td>\n      <td>0</td>\n      <td>0</td>\n      <td>0</td>\n      <td>0</td>\n      <td>0</td>\n      <td>0</td>\n      <td>0</td>\n      <td>0</td>\n    </tr>\n    <tr>\n      <th>343689</th>\n      <td>0</td>\n      <td>0</td>\n      <td>1</td>\n      <td>0</td>\n      <td>0</td>\n      <td>0</td>\n      <td>0</td>\n      <td>0</td>\n      <td>1</td>\n      <td>0</td>\n      <td>...</td>\n      <td>0</td>\n      <td>0</td>\n      <td>0</td>\n      <td>0</td>\n      <td>0</td>\n      <td>0</td>\n      <td>0</td>\n      <td>0</td>\n      <td>0</td>\n      <td>0</td>\n    </tr>\n    <tr>\n      <th>...</th>\n      <td>...</td>\n      <td>...</td>\n      <td>...</td>\n      <td>...</td>\n      <td>...</td>\n      <td>...</td>\n      <td>...</td>\n      <td>...</td>\n      <td>...</td>\n      <td>...</td>\n      <td>...</td>\n      <td>...</td>\n      <td>...</td>\n      <td>...</td>\n      <td>...</td>\n      <td>...</td>\n      <td>...</td>\n      <td>...</td>\n      <td>...</td>\n      <td>...</td>\n      <td>...</td>\n    </tr>\n    <tr>\n      <th>95090</th>\n      <td>0</td>\n      <td>0</td>\n      <td>0</td>\n      <td>0</td>\n      <td>0</td>\n      <td>0</td>\n      <td>0</td>\n      <td>0</td>\n      <td>0</td>\n      <td>0</td>\n      <td>...</td>\n      <td>0</td>\n      <td>0</td>\n      <td>0</td>\n      <td>0</td>\n      <td>0</td>\n      <td>0</td>\n      <td>0</td>\n      <td>0</td>\n      <td>0</td>\n      <td>0</td>\n    </tr>\n    <tr>\n      <th>449486</th>\n      <td>0</td>\n      <td>0</td>\n      <td>0</td>\n      <td>0</td>\n      <td>0</td>\n      <td>0</td>\n      <td>0</td>\n      <td>0</td>\n      <td>0</td>\n      <td>1</td>\n      <td>...</td>\n      <td>0</td>\n      <td>0</td>\n      <td>0</td>\n      <td>0</td>\n      <td>1</td>\n      <td>0</td>\n      <td>0</td>\n      <td>0</td>\n      <td>0</td>\n      <td>0</td>\n    </tr>\n    <tr>\n      <th>184605</th>\n      <td>0</td>\n      <td>0</td>\n      <td>0</td>\n      <td>0</td>\n      <td>0</td>\n      <td>0</td>\n      <td>0</td>\n      <td>0</td>\n      <td>0</td>\n      <td>0</td>\n      <td>...</td>\n      <td>0</td>\n      <td>0</td>\n      <td>0</td>\n      <td>0</td>\n      <td>0</td>\n      <td>0</td>\n      <td>0</td>\n      <td>0</td>\n      <td>0</td>\n      <td>0</td>\n    </tr>\n    <tr>\n      <th>594435</th>\n      <td>0</td>\n      <td>0</td>\n      <td>0</td>\n      <td>0</td>\n      <td>0</td>\n      <td>0</td>\n      <td>0</td>\n      <td>1</td>\n      <td>0</td>\n      <td>0</td>\n      <td>...</td>\n      <td>0</td>\n      <td>0</td>\n      <td>0</td>\n      <td>0</td>\n      <td>0</td>\n      <td>0</td>\n      <td>0</td>\n      <td>0</td>\n      <td>0</td>\n      <td>0</td>\n    </tr>\n    <tr>\n      <th>375931</th>\n      <td>0</td>\n      <td>0</td>\n      <td>1</td>\n      <td>0</td>\n      <td>0</td>\n      <td>0</td>\n      <td>0</td>\n      <td>0</td>\n      <td>0</td>\n      <td>0</td>\n      <td>...</td>\n      <td>0</td>\n      <td>0</td>\n      <td>0</td>\n      <td>0</td>\n      <td>0</td>\n      <td>1</td>\n      <td>0</td>\n      <td>0</td>\n      <td>0</td>\n      <td>0</td>\n    </tr>\n  </tbody>\n</table>\n<p>536616 rows × 55 columns</p>\n</div>"
     },
     "execution_count": 54,
     "metadata": {},
     "output_type": "execute_result"
    }
   ],
   "source": [
    "# Prepare the \"other\" input\n",
    "regular_inputs = X_train.drop([\"context\", \"location\"], axis=1)\n",
    "regular_inputs_test = X_test.drop([\"context\", \"location\"], axis=1)\n",
    "regular_inputs"
   ]
  },
  {
   "cell_type": "code",
   "execution_count": 55,
   "metadata": {
    "pycharm": {
     "name": "#%%\n"
    }
   },
   "outputs": [
    {
     "name": "stderr",
     "output_type": "stream",
     "text": [
      "2022-11-02 01:22:42.674005: I tensorflow/core/platform/cpu_feature_guard.cc:193] This TensorFlow binary is optimized with oneAPI Deep Neural Network Library (oneDNN) to use the following CPU instructions in performance-critical operations:  AVX2 FMA\n",
      "To enable them in other operations, rebuild TensorFlow with the appropriate compiler flags.\n"
     ]
    },
    {
     "name": "stdout",
     "output_type": "stream",
     "text": [
      "Epoch 1/2\n"
     ]
    },
    {
     "ename": "InvalidArgumentError",
     "evalue": "No OpKernel was registered to support Op 'CudnnRNNV2' used by {{node model/cu_dnnlstm/CudnnRNNV2}} with these attrs: [dropout=0, seed=0, T=DT_FLOAT, input_mode=\"linear_input\", direction=\"unidirectional\", rnn_mode=\"lstm\", is_training=true, seed2=0]\nRegistered devices: [CPU]\nRegistered kernels:\n  <no registered kernels>\n\n\t [[model/cu_dnnlstm/CudnnRNNV2]] [Op:__inference_train_function_2744]",
     "output_type": "error",
     "traceback": [
      "\u001B[0;31m---------------------------------------------------------------------------\u001B[0m",
      "\u001B[0;31mInvalidArgumentError\u001B[0m                      Traceback (most recent call last)",
      "Input \u001B[0;32mIn [55]\u001B[0m, in \u001B[0;36m<cell line: 33>\u001B[0;34m()\u001B[0m\n\u001B[1;32m     29\u001B[0m es \u001B[38;5;241m=\u001B[39m EarlyStopping(monitor\u001B[38;5;241m=\u001B[39m\u001B[38;5;124m'\u001B[39m\u001B[38;5;124maccuracy\u001B[39m\u001B[38;5;124m'\u001B[39m, mode\u001B[38;5;241m=\u001B[39m\u001B[38;5;124m'\u001B[39m\u001B[38;5;124mauto\u001B[39m\u001B[38;5;124m'\u001B[39m, verbose\u001B[38;5;241m=\u001B[39m\u001B[38;5;241m1\u001B[39m, patience\u001B[38;5;241m=\u001B[39m\u001B[38;5;241m7\u001B[39m, restore_best_weights\u001B[38;5;241m=\u001B[39m\u001B[38;5;28;01mTrue\u001B[39;00m)\n\u001B[1;32m     30\u001B[0m checkpoint \u001B[38;5;241m=\u001B[39m ModelCheckpoint(filepath\u001B[38;5;241m=\u001B[39m\u001B[38;5;124m\"\u001B[39m\u001B[38;5;124mhybrid_model\u001B[39m\u001B[38;5;132;01m{epoch}\u001B[39;00m\u001B[38;5;124m\"\u001B[39m, monitor\u001B[38;5;241m=\u001B[39m\u001B[38;5;124m\"\u001B[39m\u001B[38;5;124maccuracy\u001B[39m\u001B[38;5;124m\"\u001B[39m, mode\u001B[38;5;241m=\u001B[39m\u001B[38;5;124m\"\u001B[39m\u001B[38;5;124mauto\u001B[39m\u001B[38;5;124m\"\u001B[39m,\n\u001B[1;32m     31\u001B[0m                              save_best_only\u001B[38;5;241m=\u001B[39m\u001B[38;5;28;01mTrue\u001B[39;00m, save_weights_only\u001B[38;5;241m=\u001B[39m\u001B[38;5;28;01mFalse\u001B[39;00m, save_freq\u001B[38;5;241m=\u001B[39m\u001B[38;5;124m\"\u001B[39m\u001B[38;5;124mepoch\u001B[39m\u001B[38;5;124m\"\u001B[39m)\n\u001B[0;32m---> 33\u001B[0m \u001B[43mmodel\u001B[49m\u001B[38;5;241;43m.\u001B[39;49m\u001B[43mfit\u001B[49m\u001B[43m(\u001B[49m\n\u001B[1;32m     34\u001B[0m \u001B[43m    \u001B[49m\u001B[43m{\u001B[49m\u001B[38;5;124;43m\"\u001B[39;49m\u001B[38;5;124;43mcontext\u001B[39;49m\u001B[38;5;124;43m\"\u001B[39;49m\u001B[43m:\u001B[49m\u001B[43m \u001B[49m\u001B[43mpadded_inputs\u001B[49m\u001B[43m,\u001B[49m\u001B[43m \u001B[49m\u001B[38;5;124;43m\"\u001B[39;49m\u001B[38;5;124;43mother\u001B[39;49m\u001B[38;5;124;43m\"\u001B[39;49m\u001B[43m:\u001B[49m\u001B[43m \u001B[49m\u001B[43mregular_inputs\u001B[49m\u001B[43m}\u001B[49m\u001B[43m,\u001B[49m\n\u001B[1;32m     35\u001B[0m \u001B[43m    \u001B[49m\u001B[43m{\u001B[49m\u001B[38;5;124;43m\"\u001B[39;49m\u001B[38;5;124;43mlogging\u001B[39;49m\u001B[38;5;124;43m\"\u001B[39;49m\u001B[43m:\u001B[49m\u001B[43m \u001B[49m\u001B[43my_train\u001B[49m\u001B[43m}\u001B[49m\u001B[43m,\u001B[49m\n\u001B[1;32m     36\u001B[0m \u001B[43m    \u001B[49m\u001B[43mepochs\u001B[49m\u001B[38;5;241;43m=\u001B[39;49m\u001B[43mnum_epochs\u001B[49m\u001B[43m,\u001B[49m\n\u001B[1;32m     37\u001B[0m \u001B[43m    \u001B[49m\u001B[43mbatch_size\u001B[49m\u001B[38;5;241;43m=\u001B[39;49m\u001B[43mbatch_size\u001B[49m\u001B[43m,\u001B[49m\n\u001B[1;32m     38\u001B[0m \u001B[43m    \u001B[49m\u001B[43mcallbacks\u001B[49m\u001B[38;5;241;43m=\u001B[39;49m\u001B[43m[\u001B[49m\u001B[43mes\u001B[49m\u001B[43m,\u001B[49m\u001B[43m \u001B[49m\u001B[43mcheckpoint\u001B[49m\u001B[43m]\u001B[49m\u001B[43m,\u001B[49m\n\u001B[1;32m     39\u001B[0m \u001B[38;5;66;43;03m#     callbacks=[es]\u001B[39;49;00m\n\u001B[1;32m     40\u001B[0m \u001B[43m)\u001B[49m\n\u001B[1;32m     41\u001B[0m pred_test\u001B[38;5;241m=\u001B[39m model\u001B[38;5;241m.\u001B[39mpredict({\u001B[38;5;124m\"\u001B[39m\u001B[38;5;124mcontext\u001B[39m\u001B[38;5;124m\"\u001B[39m: padded_inputs_test, \u001B[38;5;124m\"\u001B[39m\u001B[38;5;124mother\u001B[39m\u001B[38;5;124m\"\u001B[39m: regular_inputs_test})\n\u001B[1;32m     42\u001B[0m y_pred \u001B[38;5;241m=\u001B[39m np\u001B[38;5;241m.\u001B[39mround(pred_test)\n",
      "File \u001B[0;32m/usr/local/Cellar/python@3.9/3.9.0_2/Frameworks/Python.framework/Versions/3.9/lib/python3.9/site-packages/keras/utils/traceback_utils.py:67\u001B[0m, in \u001B[0;36mfilter_traceback.<locals>.error_handler\u001B[0;34m(*args, **kwargs)\u001B[0m\n\u001B[1;32m     65\u001B[0m \u001B[38;5;28;01mexcept\u001B[39;00m \u001B[38;5;167;01mException\u001B[39;00m \u001B[38;5;28;01mas\u001B[39;00m e:  \u001B[38;5;66;03m# pylint: disable=broad-except\u001B[39;00m\n\u001B[1;32m     66\u001B[0m   filtered_tb \u001B[38;5;241m=\u001B[39m _process_traceback_frames(e\u001B[38;5;241m.\u001B[39m__traceback__)\n\u001B[0;32m---> 67\u001B[0m   \u001B[38;5;28;01mraise\u001B[39;00m e\u001B[38;5;241m.\u001B[39mwith_traceback(filtered_tb) \u001B[38;5;28;01mfrom\u001B[39;00m \u001B[38;5;28mNone\u001B[39m\n\u001B[1;32m     68\u001B[0m \u001B[38;5;28;01mfinally\u001B[39;00m:\n\u001B[1;32m     69\u001B[0m   \u001B[38;5;28;01mdel\u001B[39;00m filtered_tb\n",
      "File \u001B[0;32m/usr/local/Cellar/python@3.9/3.9.0_2/Frameworks/Python.framework/Versions/3.9/lib/python3.9/site-packages/tensorflow/python/eager/execute.py:54\u001B[0m, in \u001B[0;36mquick_execute\u001B[0;34m(op_name, num_outputs, inputs, attrs, ctx, name)\u001B[0m\n\u001B[1;32m     52\u001B[0m \u001B[38;5;28;01mtry\u001B[39;00m:\n\u001B[1;32m     53\u001B[0m   ctx\u001B[38;5;241m.\u001B[39mensure_initialized()\n\u001B[0;32m---> 54\u001B[0m   tensors \u001B[38;5;241m=\u001B[39m pywrap_tfe\u001B[38;5;241m.\u001B[39mTFE_Py_Execute(ctx\u001B[38;5;241m.\u001B[39m_handle, device_name, op_name,\n\u001B[1;32m     55\u001B[0m                                       inputs, attrs, num_outputs)\n\u001B[1;32m     56\u001B[0m \u001B[38;5;28;01mexcept\u001B[39;00m core\u001B[38;5;241m.\u001B[39m_NotOkStatusException \u001B[38;5;28;01mas\u001B[39;00m e:\n\u001B[1;32m     57\u001B[0m   \u001B[38;5;28;01mif\u001B[39;00m name \u001B[38;5;129;01mis\u001B[39;00m \u001B[38;5;129;01mnot\u001B[39;00m \u001B[38;5;28;01mNone\u001B[39;00m:\n",
      "\u001B[0;31mInvalidArgumentError\u001B[0m: No OpKernel was registered to support Op 'CudnnRNNV2' used by {{node model/cu_dnnlstm/CudnnRNNV2}} with these attrs: [dropout=0, seed=0, T=DT_FLOAT, input_mode=\"linear_input\", direction=\"unidirectional\", rnn_mode=\"lstm\", is_training=true, seed2=0]\nRegistered devices: [CPU]\nRegistered kernels:\n  <no registered kernels>\n\n\t [[model/cu_dnnlstm/CudnnRNNV2]] [Op:__inference_train_function_2744]"
     ]
    }
   ],
   "source": [
    "# Build and run the tensorflow model using both the context and the other features as inputs\n",
    "\n",
    "context_input = keras.Input(shape=(max_length,), name=\"context\")\n",
    "other_input = keras.Input(shape=(regular_inputs.shape[1],), name=\"other\")\n",
    "\n",
    "context_features = keras.layers.Embedding(vocab_size, output_dims, weights=[embedding_matrix], trainable=False)(context_input) # input_length?\n",
    "# context_features = keras.layers.LSTM(128, return_sequences=True)(context_features) # dropout?\n",
    "# context_features = keras.layers.LSTM(128)(context_features)\n",
    "context_features = keras.layers.CuDNNLSTM(128, return_sequences=True)(context_features) # dropout?\n",
    "context_features = keras.layers.CuDNNLSTM(128)(context_features)\n",
    "context_features = keras.layers.Dense(32)(context_features)\n",
    "\n",
    "other_features = keras.layers.Dense(300, activation='relu')(other_input)\n",
    "other_features = keras.layers.Dense(100, activation='relu')(other_features)\n",
    "other_features = keras.layers.Dense(32, activation='relu')(other_features)\n",
    "\n",
    "x = keras.layers.concatenate([context_features, other_features])\n",
    "\n",
    "logging_pred = keras.layers.Dense(1, name=\"logging\", activation='sigmoid')(x) # Sigmoid?\n",
    "\n",
    "model = keras.Model(\n",
    "    inputs=[context_input, other_input],\n",
    "    outputs=[logging_pred],\n",
    ")\n",
    "# model.summary()\n",
    "model.compile(optimizer='adam', loss='binary_crossentropy', metrics=['accuracy'])\n",
    "\n",
    "# Callbacks\n",
    "es = EarlyStopping(monitor='accuracy', mode='auto', verbose=1, patience=7, restore_best_weights=True)\n",
    "checkpoint = ModelCheckpoint(filepath=\"hybrid_model{epoch}\", monitor=\"accuracy\", mode=\"auto\",\n",
    "                             save_best_only=True, save_weights_only=False, save_freq=\"epoch\")\n",
    "\n",
    "model.fit(\n",
    "    {\"context\": padded_inputs, \"other\": regular_inputs},\n",
    "    {\"logging\": y_train},\n",
    "    epochs=num_epochs,\n",
    "    batch_size=batch_size,\n",
    "    callbacks=[es, checkpoint],\n",
    "#     callbacks=[es]\n",
    ")\n",
    "pred_test= model.predict({\"context\": padded_inputs_test, \"other\": regular_inputs_test})\n",
    "y_pred = np.round(pred_test)\n",
    "scores = [\n",
    "        \"100repos_hybrid\",\n",
    "        max_length,\n",
    "        vocab_size,\n",
    "        batch_size,\n",
    "        # trainable,\n",
    "        dropout,\n",
    "        # sigmoid,\n",
    "        # val_split,\n",
    "        # callback,\n",
    "        f\"{balanced_accuracy_score(y_test, y_pred):.2f}\"[2:],\n",
    "        f\"{precision_score(y_test, y_pred):.2f}\"[2:],\n",
    "        f\"{recall_score(y_test, y_pred):.2f}\"[2:],\n",
    "        f\"{f1_score(y_test, y_pred):.2f}\"[2:],\n",
    "    ]\n",
    "out = open(\"results.txt\", \"a\")\n",
    "out.write(\"Name, max_length, vocab_size, batch_size, dropout, Bal_Acc, Precision, Recall, F1_Score\")\n",
    "out.write(\"\\n\")\n",
    "out.write(str(scores).replace(\"'\", \"\")[1:-1])\n",
    "out.write(\"\\n\")\n",
    "out.close()"
   ]
  },
  {
   "cell_type": "code",
   "execution_count": null,
   "metadata": {
    "pycharm": {
     "name": "#%%\n"
    }
   },
   "outputs": [],
   "source": []
  }
 ],
 "metadata": {
  "kernelspec": {
   "display_name": "Python 3",
   "language": "python",
   "name": "python3"
  },
  "language_info": {
   "codemirror_mode": {
    "name": "ipython",
    "version": 3
   },
   "file_extension": ".py",
   "mimetype": "text/x-python",
   "name": "python",
   "nbconvert_exporter": "python",
   "pygments_lexer": "ipython3",
   "version": "3.7.3"
  }
 },
 "nbformat": 4,
 "nbformat_minor": 1
}