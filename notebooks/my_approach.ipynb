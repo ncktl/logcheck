{
 "cells": [
  {
   "cell_type": "code",
   "execution_count": 1,
   "outputs": [],
   "source": [
    "from string import ascii_letters\n",
    "import pandas as pd\n",
    "from pandas import DataFrame\n",
    "from sklearn.model_selection import train_test_split, StratifiedKFold, StratifiedShuffleSplit\n",
    "from sklearn.model_selection import RandomizedSearchCV, GridSearchCV\n",
    "from scipy.stats import randint\n",
    "\n",
    "from sklearn.metrics import precision_score, recall_score, f1_score, accuracy_score, confusion_matrix, ConfusionMatrixDisplay, balanced_accuracy_score\n",
    "import matplotlib.pyplot as plt\n",
    "from sklearn.model_selection import cross_validate\n",
    "from sklearn.ensemble import RandomForestClassifier\n",
    "from sklearn.neighbors import KNeighborsClassifier\n",
    "from sklearn.linear_model import LogisticRegression\n",
    "from sklearn.svm import LinearSVC, SVC\n",
    "from sklearn.utils import resample\n",
    "from sklearn.feature_extraction.text import TfidfVectorizer\n",
    "\n",
    "from imblearn.over_sampling import RandomOverSampler\n",
    "from imblearn.over_sampling import SMOTE\n",
    "\n",
    "# Tensorflow\n",
    "import tensorflow as tf\n",
    "from tensorflow.keras.losses import BinaryCrossentropy\n",
    "from tensorflow.keras.preprocessing.sequence import pad_sequences\n",
    "from keras.callbacks import EarlyStopping\n",
    "import keras\n",
    "from keras.models import Sequential\n",
    "from keras.layers import Dense, LSTM, Embedding, Flatten, CuDNNLSTM, Bidirectional, Input, concatenate, Dropout\n",
    "from keras.utils import to_categorical\n",
    "\n",
    "# Numpy\n",
    "import numpy as np\n",
    "from numpy import zeros\n",
    "\n",
    "# Gemsim\n",
    "import gensim.models"
   ],
   "metadata": {
    "collapsed": false,
    "pycharm": {
     "name": "#%%\n"
    }
   }
  },
  {
   "cell_type": "code",
   "execution_count": 2,
   "outputs": [],
   "source": [
    "run_random_forests = True"
   ],
   "metadata": {
    "collapsed": false,
    "pycharm": {
     "name": "#%%\n"
    }
   }
  },
  {
   "cell_type": "code",
   "execution_count": 3,
   "outputs": [
    {
     "name": "stdout",
     "output_type": "stream",
     "text": [
      "[]\n"
     ]
    }
   ],
   "source": [
    "print(tf.config.list_physical_devices('GPU'))"
   ],
   "metadata": {
    "collapsed": false,
    "pycharm": {
     "name": "#%%\n"
    }
   }
  },
  {
   "cell_type": "code",
   "execution_count": 4,
   "outputs": [
    {
     "name": "stdout",
     "output_type": "stream",
     "text": [
      "Before:\n",
      " []\n"
     ]
    },
    {
     "ename": "IndexError",
     "evalue": "list index out of range",
     "output_type": "error",
     "traceback": [
      "\u001B[0;31m---------------------------------------------------------------------------\u001B[0m",
      "\u001B[0;31mIndexError\u001B[0m                                Traceback (most recent call last)",
      "Input \u001B[0;32mIn [4]\u001B[0m, in \u001B[0;36m<cell line: 3>\u001B[0;34m()\u001B[0m\n\u001B[1;32m      1\u001B[0m \u001B[38;5;28mprint\u001B[39m(\u001B[38;5;124m\"\u001B[39m\u001B[38;5;124mBefore:\u001B[39m\u001B[38;5;130;01m\\n\u001B[39;00m\u001B[38;5;124m\"\u001B[39m ,tf\u001B[38;5;241m.\u001B[39mconfig\u001B[38;5;241m.\u001B[39mget_visible_devices(\u001B[38;5;124m'\u001B[39m\u001B[38;5;124mGPU\u001B[39m\u001B[38;5;124m'\u001B[39m))\n\u001B[1;32m      2\u001B[0m gpus \u001B[38;5;241m=\u001B[39m tf\u001B[38;5;241m.\u001B[39mconfig\u001B[38;5;241m.\u001B[39mlist_physical_devices(\u001B[38;5;124m'\u001B[39m\u001B[38;5;124mGPU\u001B[39m\u001B[38;5;124m'\u001B[39m)\n\u001B[0;32m----> 3\u001B[0m tf\u001B[38;5;241m.\u001B[39mconfig\u001B[38;5;241m.\u001B[39mexperimental\u001B[38;5;241m.\u001B[39mset_visible_devices(\u001B[43mgpus\u001B[49m\u001B[43m[\u001B[49m\u001B[38;5;241;43m1\u001B[39;49m\u001B[43m]\u001B[49m, \u001B[38;5;124m'\u001B[39m\u001B[38;5;124mGPU\u001B[39m\u001B[38;5;124m'\u001B[39m)\n\u001B[1;32m      4\u001B[0m \u001B[38;5;28mprint\u001B[39m(\u001B[38;5;124m\"\u001B[39m\u001B[38;5;124mAfter:\u001B[39m\u001B[38;5;130;01m\\n\u001B[39;00m\u001B[38;5;124m\"\u001B[39m ,tf\u001B[38;5;241m.\u001B[39mconfig\u001B[38;5;241m.\u001B[39mget_visible_devices(\u001B[38;5;124m'\u001B[39m\u001B[38;5;124mGPU\u001B[39m\u001B[38;5;124m'\u001B[39m))\n",
      "\u001B[0;31mIndexError\u001B[0m: list index out of range"
     ]
    }
   ],
   "source": [
    "print(\"Before:\\n\" ,tf.config.get_visible_devices('GPU'))\n",
    "gpus = tf.config.list_physical_devices('GPU')\n",
    "tf.config.experimental.set_visible_devices(gpus[1], 'GPU')\n",
    "print(\"After:\\n\" ,tf.config.get_visible_devices('GPU'))"
   ],
   "metadata": {
    "collapsed": false,
    "pycharm": {
     "name": "#%%\n"
    }
   }
  },
  {
   "cell_type": "code",
   "execution_count": 77,
   "outputs": [
    {
     "data": {
      "text/plain": "                   NumParVecs      Neg     Pos log_ratio\nhorizon                 14755    14517     238      1.61\nhorizon_zhenhao         12945    12703     242      1.87\nneutron                 47553    45487    2066      4.34\nneutron_zhenhao         45052    42953    2099      4.66\nnova                    55041    52616    2425      4.41\nnova_zhenhao            54294    51754    2540      4.68\nhydra                    4098     3970     128      3.12\nhydra_zhenhao            3634     3506     128      3.52\ndjango                  63374    63193     181      0.29\ndjango_zhenhao          57824    57643     181      0.31\ntornado                  7126     7003     123      1.73\ntornado_zhenhao          6933     6807     126      1.82\nk8s                       693      593     100     14.43\nk8s_zhenhao               662      562     100     15.11\npyres                     581      529      52      8.95\npyres_zhenhao             513      461      52     10.14\nviewfinder              15062    14421     641      4.26\nviewfinder_zhenhao      15783    15032     751      4.76\nweb2py                  18293    17982     311       1.7\nweb2py_zhenhao          17895    17568     327      1.83\nmean                 22105.55  21465.0  640.55     4.677",
      "text/html": "<div>\n<style scoped>\n    .dataframe tbody tr th:only-of-type {\n        vertical-align: middle;\n    }\n\n    .dataframe tbody tr th {\n        vertical-align: top;\n    }\n\n    .dataframe thead th {\n        text-align: right;\n    }\n</style>\n<table border=\"1\" class=\"dataframe\">\n  <thead>\n    <tr style=\"text-align: right;\">\n      <th></th>\n      <th>NumParVecs</th>\n      <th>Neg</th>\n      <th>Pos</th>\n      <th>log_ratio</th>\n    </tr>\n  </thead>\n  <tbody>\n    <tr>\n      <th>horizon</th>\n      <td>14755</td>\n      <td>14517</td>\n      <td>238</td>\n      <td>1.61</td>\n    </tr>\n    <tr>\n      <th>horizon_zhenhao</th>\n      <td>12945</td>\n      <td>12703</td>\n      <td>242</td>\n      <td>1.87</td>\n    </tr>\n    <tr>\n      <th>neutron</th>\n      <td>47553</td>\n      <td>45487</td>\n      <td>2066</td>\n      <td>4.34</td>\n    </tr>\n    <tr>\n      <th>neutron_zhenhao</th>\n      <td>45052</td>\n      <td>42953</td>\n      <td>2099</td>\n      <td>4.66</td>\n    </tr>\n    <tr>\n      <th>nova</th>\n      <td>55041</td>\n      <td>52616</td>\n      <td>2425</td>\n      <td>4.41</td>\n    </tr>\n    <tr>\n      <th>nova_zhenhao</th>\n      <td>54294</td>\n      <td>51754</td>\n      <td>2540</td>\n      <td>4.68</td>\n    </tr>\n    <tr>\n      <th>hydra</th>\n      <td>4098</td>\n      <td>3970</td>\n      <td>128</td>\n      <td>3.12</td>\n    </tr>\n    <tr>\n      <th>hydra_zhenhao</th>\n      <td>3634</td>\n      <td>3506</td>\n      <td>128</td>\n      <td>3.52</td>\n    </tr>\n    <tr>\n      <th>django</th>\n      <td>63374</td>\n      <td>63193</td>\n      <td>181</td>\n      <td>0.29</td>\n    </tr>\n    <tr>\n      <th>django_zhenhao</th>\n      <td>57824</td>\n      <td>57643</td>\n      <td>181</td>\n      <td>0.31</td>\n    </tr>\n    <tr>\n      <th>tornado</th>\n      <td>7126</td>\n      <td>7003</td>\n      <td>123</td>\n      <td>1.73</td>\n    </tr>\n    <tr>\n      <th>tornado_zhenhao</th>\n      <td>6933</td>\n      <td>6807</td>\n      <td>126</td>\n      <td>1.82</td>\n    </tr>\n    <tr>\n      <th>k8s</th>\n      <td>693</td>\n      <td>593</td>\n      <td>100</td>\n      <td>14.43</td>\n    </tr>\n    <tr>\n      <th>k8s_zhenhao</th>\n      <td>662</td>\n      <td>562</td>\n      <td>100</td>\n      <td>15.11</td>\n    </tr>\n    <tr>\n      <th>pyres</th>\n      <td>581</td>\n      <td>529</td>\n      <td>52</td>\n      <td>8.95</td>\n    </tr>\n    <tr>\n      <th>pyres_zhenhao</th>\n      <td>513</td>\n      <td>461</td>\n      <td>52</td>\n      <td>10.14</td>\n    </tr>\n    <tr>\n      <th>viewfinder</th>\n      <td>15062</td>\n      <td>14421</td>\n      <td>641</td>\n      <td>4.26</td>\n    </tr>\n    <tr>\n      <th>viewfinder_zhenhao</th>\n      <td>15783</td>\n      <td>15032</td>\n      <td>751</td>\n      <td>4.76</td>\n    </tr>\n    <tr>\n      <th>web2py</th>\n      <td>18293</td>\n      <td>17982</td>\n      <td>311</td>\n      <td>1.7</td>\n    </tr>\n    <tr>\n      <th>web2py_zhenhao</th>\n      <td>17895</td>\n      <td>17568</td>\n      <td>327</td>\n      <td>1.83</td>\n    </tr>\n    <tr>\n      <th>mean</th>\n      <td>22105.55</td>\n      <td>21465.0</td>\n      <td>640.55</td>\n      <td>4.677</td>\n    </tr>\n  </tbody>\n</table>\n</div>"
     },
     "execution_count": 77,
     "metadata": {},
     "output_type": "execute_result"
    }
   ],
   "source": [
    "# Information about repositories\n",
    "#\n",
    "# repos = [\n",
    "#     \"horizon\",\n",
    "#     \"neutron\",\n",
    "#     \"nova\",\n",
    "#     \"hydra\",\n",
    "#     \"django\",\n",
    "#     \"tornado\",\n",
    "#     \"k8s\",\n",
    "#     \"pyres\",\n",
    "#     \"viewfinder\",\n",
    "#     \"web2py\",\n",
    "# ]\n",
    "# names = []\n",
    "# par_vec_counts = []\n",
    "# no_log_counts = []\n",
    "# log_counts = []\n",
    "# log_ratios = []\n",
    "#\n",
    "# from itertools import product\n",
    "# for repo, i in list(product(repos, range(2))):\n",
    "#     repo_name = repo + ('_zhenhao' if i else '')\n",
    "#     names.append(repo_name)\n",
    "#     repo_path = '../features/' + repo_name + '.csv'\n",
    "#     df = pd.read_csv(repo_path)\n",
    "#     no_log_cnt, log_cnt = df['contains_logging'].value_counts()\n",
    "#     par_vec_cnt = no_log_cnt + log_cnt\n",
    "#     log_ratio = np.round(log_cnt / par_vec_cnt * 100, 2)\n",
    "#     par_vec_counts.append(par_vec_cnt)\n",
    "#     no_log_counts.append(no_log_cnt)\n",
    "#     log_counts.append(log_cnt)\n",
    "#     log_ratios.append(log_ratio)\n",
    "#\n",
    "# results = np.array([\n",
    "#     par_vec_counts,\n",
    "#     no_log_counts,\n",
    "#     log_counts,\n",
    "#     log_ratios,\n",
    "# ], dtype=object)\n",
    "#\n",
    "# columns = [\n",
    "#     \"NumParVecs\",\n",
    "#     \"Neg\",\n",
    "#     \"Pos\",\n",
    "#     \"log_ratio\"\n",
    "# ]\n",
    "# results = pd.DataFrame(results.T,index=names, columns=columns)\n",
    "# results.loc['mean'] = results.mean()\n",
    "# results"
   ],
   "metadata": {
    "collapsed": false,
    "pycharm": {
     "name": "#%%\n"
    }
   }
  },
  {
   "cell_type": "code",
   "execution_count": 5,
   "outputs": [
    {
     "name": "stdout",
     "output_type": "stream",
     "text": [
      "Number of parameter vecs:\t\t715488\n",
      "without logging (negatives):\t700691\n",
      "with logging (positives):\t\t14797\n",
      "Log ratio:\t\t\t\t\t\t2.07%\n",
      "(715488, 31)\n"
     ]
    },
    {
     "data": {
      "text/plain": "  type    location parent  context  contains_class_definition  \\\n0    c  10;0-12;56      a      cdr                          0   \n1    d  11;4-12;56      c       dr                          0   \n2    d  15;0-16;67      a      dur                          0   \n3    d  19;0-21;60      a      dru                          0   \n4    d  24;0-32;77      a  dqfrqrr                          0   \n\n   contains_function_definition  contains_if_statement  \\\n0                             1                      0   \n1                             0                      0   \n2                             0                      0   \n3                             0                      0   \n4                             0                      0   \n\n   contains_for_statement  contains_match_statement  contains_while_statement  \\\n0                       0                         0                         0   \n1                       0                         0                         0   \n2                       0                         0                         0   \n3                       0                         0                         0   \n4                       1                         0                         0   \n\n   ...  contains_exec_statement  contains_future_import_statement  \\\n0  ...                        0                                 0   \n1  ...                        0                                 0   \n2  ...                        0                                 0   \n3  ...                        0                                 0   \n4  ...                        0                                 0   \n\n   contains_global_statement  contains_nonlocal_statement  \\\n0                          0                            0   \n1                          0                            0   \n2                          0                            0   \n3                          0                            0   \n4                          0                            0   \n\n   contains_print_statement  contains_assignment  contains_call  \\\n0                         0                    0              0   \n1                         0                    0              1   \n2                         0                    0              0   \n3                         0                    0              1   \n4                         0                    1              0   \n\n   contains_await  contains_yield  contains_logging  \n0               0               0                 0  \n1               0               0                 0  \n2               0               0                 0  \n3               0               0                 0  \n4               0               0                 0  \n\n[5 rows x 31 columns]",
      "text/html": "<div>\n<style scoped>\n    .dataframe tbody tr th:only-of-type {\n        vertical-align: middle;\n    }\n\n    .dataframe tbody tr th {\n        vertical-align: top;\n    }\n\n    .dataframe thead th {\n        text-align: right;\n    }\n</style>\n<table border=\"1\" class=\"dataframe\">\n  <thead>\n    <tr style=\"text-align: right;\">\n      <th></th>\n      <th>type</th>\n      <th>location</th>\n      <th>parent</th>\n      <th>context</th>\n      <th>contains_class_definition</th>\n      <th>contains_function_definition</th>\n      <th>contains_if_statement</th>\n      <th>contains_for_statement</th>\n      <th>contains_match_statement</th>\n      <th>contains_while_statement</th>\n      <th>...</th>\n      <th>contains_exec_statement</th>\n      <th>contains_future_import_statement</th>\n      <th>contains_global_statement</th>\n      <th>contains_nonlocal_statement</th>\n      <th>contains_print_statement</th>\n      <th>contains_assignment</th>\n      <th>contains_call</th>\n      <th>contains_await</th>\n      <th>contains_yield</th>\n      <th>contains_logging</th>\n    </tr>\n  </thead>\n  <tbody>\n    <tr>\n      <th>0</th>\n      <td>c</td>\n      <td>10;0-12;56</td>\n      <td>a</td>\n      <td>cdr</td>\n      <td>0</td>\n      <td>1</td>\n      <td>0</td>\n      <td>0</td>\n      <td>0</td>\n      <td>0</td>\n      <td>...</td>\n      <td>0</td>\n      <td>0</td>\n      <td>0</td>\n      <td>0</td>\n      <td>0</td>\n      <td>0</td>\n      <td>0</td>\n      <td>0</td>\n      <td>0</td>\n      <td>0</td>\n    </tr>\n    <tr>\n      <th>1</th>\n      <td>d</td>\n      <td>11;4-12;56</td>\n      <td>c</td>\n      <td>dr</td>\n      <td>0</td>\n      <td>0</td>\n      <td>0</td>\n      <td>0</td>\n      <td>0</td>\n      <td>0</td>\n      <td>...</td>\n      <td>0</td>\n      <td>0</td>\n      <td>0</td>\n      <td>0</td>\n      <td>0</td>\n      <td>0</td>\n      <td>1</td>\n      <td>0</td>\n      <td>0</td>\n      <td>0</td>\n    </tr>\n    <tr>\n      <th>2</th>\n      <td>d</td>\n      <td>15;0-16;67</td>\n      <td>a</td>\n      <td>dur</td>\n      <td>0</td>\n      <td>0</td>\n      <td>0</td>\n      <td>0</td>\n      <td>0</td>\n      <td>0</td>\n      <td>...</td>\n      <td>0</td>\n      <td>0</td>\n      <td>0</td>\n      <td>0</td>\n      <td>0</td>\n      <td>0</td>\n      <td>0</td>\n      <td>0</td>\n      <td>0</td>\n      <td>0</td>\n    </tr>\n    <tr>\n      <th>3</th>\n      <td>d</td>\n      <td>19;0-21;60</td>\n      <td>a</td>\n      <td>dru</td>\n      <td>0</td>\n      <td>0</td>\n      <td>0</td>\n      <td>0</td>\n      <td>0</td>\n      <td>0</td>\n      <td>...</td>\n      <td>0</td>\n      <td>0</td>\n      <td>0</td>\n      <td>0</td>\n      <td>0</td>\n      <td>0</td>\n      <td>1</td>\n      <td>0</td>\n      <td>0</td>\n      <td>0</td>\n    </tr>\n    <tr>\n      <th>4</th>\n      <td>d</td>\n      <td>24;0-32;77</td>\n      <td>a</td>\n      <td>dqfrqrr</td>\n      <td>0</td>\n      <td>0</td>\n      <td>0</td>\n      <td>1</td>\n      <td>0</td>\n      <td>0</td>\n      <td>...</td>\n      <td>0</td>\n      <td>0</td>\n      <td>0</td>\n      <td>0</td>\n      <td>0</td>\n      <td>1</td>\n      <td>0</td>\n      <td>0</td>\n      <td>0</td>\n      <td>0</td>\n    </tr>\n  </tbody>\n</table>\n<p>5 rows × 31 columns</p>\n</div>"
     },
     "execution_count": 5,
     "metadata": {},
     "output_type": "execute_result"
    }
   ],
   "source": [
    "# Read the data\n",
    "# df = pd.read_csv('../features/combination.csv')\n",
    "# df = pd.read_csv('../features/combination_zhenhao.csv')\n",
    "# df = pd.read_csv('../features/web2py.csv')\n",
    "# df = pd.read_csv('../features/neutron.csv')\n",
    "# df = pd.read_csv('../features/neutron_zhenhao.csv')\n",
    "# df = pd.read_csv('../features/nova.csv')\n",
    "# df = pd.read_csv('../features/nova_zhenhao.csv')\n",
    "# df = pd.read_csv('../features/django.csv')\n",
    "# df = pd.read_csv('../features/django_zhenhao.csv')\n",
    "# df = pd.read_csv('../features/tornado.csv')\n",
    "# df = pd.read_csv('../features/tornado_zhenhao.csv')\n",
    "df = pd.read_csv('../features/100repos_expanded.csv')\n",
    "\n",
    "\n",
    "\n",
    "no_log_cnt, log_cnt = df['contains_logging'].value_counts()\n",
    "par_vec_cnt = no_log_cnt + log_cnt\n",
    "log_ratio = log_cnt / par_vec_cnt\n",
    "print(f\"Number of parameter vecs:\\t\\t{par_vec_cnt}\")\n",
    "print(f\"without logging (negatives):\\t{no_log_cnt}\")\n",
    "print(f\"with logging (positives):\\t\\t{log_cnt}\")\n",
    "print(f\"Log ratio:\\t\\t\\t\\t\\t\\t{log_ratio * 100:.2f}%\")\n",
    "print(df.shape)\n",
    "df.head()"
   ],
   "metadata": {
    "collapsed": false,
    "pycharm": {
     "name": "#%%\n"
    }
   }
  },
  {
   "cell_type": "code",
   "execution_count": 6,
   "outputs": [
    {
     "data": {
      "text/plain": "       type       location parent  \\\n219183    d   312;4-335;75      b   \n219189    d  556;4-558;104      b   \n219190    d   560;4-561;45      b   \n219191    d   563;4-566;87      b   \n219192    d  568;4-571;102      b   \n219203    e   300;8-301;23      b   \n219214    m   303;4-306;51      b   \n261880    e   901;8-902;23      b   \n261885    m   904;4-907;51      b   \n525533    e   181;8-182;50      b   \n525547    i    200;4-214;9      b   \n525548    i    219;4-236;9      b   \n525549    i    238;4-248;9      b   \n525550    i    253;4-269;9      b   \n525551    i    271;4-283;9      b   \n525560    l    185;4-198;9      b   \n525574    m   183;4-184;12      b   \n\n                                                  context  \\\n219183                                    dqbrqrqrqqrrqrr   \n219189                                            dqbrqrb   \n219190                                                 dr   \n219191                                              dqrfr   \n219192                                              dqrfr   \n219203  abzAbAAAerzAbbbbbbbbqbrbqqqqqqqqqqqqqqqqqqqqqb...   \n219214  abzAbAAAerzAbbbbbbbbqbrbqqqqqqqqqqqqqqqqqqqqqb...   \n261880  abzAbAAAerzAbbbbbbbbqbrbqqqqqqqqqqqqqqqqqqqqqb...   \n261885  abzAbAAAerzAbbbbbbbbqbrbqqqqqqqqqqqqqqqqqqqqqb...   \n525533  aAAbbbAbbbbbAbbbbbAbbqieryrmBlqbbbbieryrmBlqbi...   \n525547  aAAbbbAbbbbbAbbbbbAbbqieryrmBlqbbbbieryrmBlqbi...   \n525548  aAAbbbAbbbbbAbbbbbAbbqieryrmBlqbbbbieryrmBlqbi...   \n525549  aAAbbbAbbbbbAbbbbbAbbqieryrmBlqbbbbieryrmBlqbi...   \n525550  aAAbbbAbbbbbAbbbbbAbbqieryrmBlqbbbbieryrmBlqbi...   \n525551  aAAbbbAbbbbbAbbbbbAbbqieryrmBlqbbbbieryrmBlqbi...   \n525560  aAAbbbAbbbbbAbbbbbAbbqieryrmBlqbbbbieryrmBlqbi...   \n525574  aAAbbbAbbbbbAbbbbbAbbqieryrmBlqbbbbieryrmBlqbi...   \n\n        contains_class_definition  contains_function_definition  \\\n219183                          0                             0   \n219189                          0                             0   \n219190                          0                             0   \n219191                          0                             0   \n219192                          0                             0   \n219203                          0                             0   \n219214                          0                             0   \n261880                          0                             0   \n261885                          0                             0   \n525533                          0                             0   \n525547                          0                             0   \n525548                          0                             0   \n525549                          0                             0   \n525550                          0                             0   \n525551                          0                             0   \n525560                          0                             0   \n525574                          0                             0   \n\n        contains_if_statement  contains_for_statement  \\\n219183                      0                       0   \n219189                      0                       0   \n219190                      0                       0   \n219191                      0                       1   \n219192                      0                       1   \n219203                      0                       0   \n219214                      1                       0   \n261880                      0                       0   \n261885                      1                       0   \n525533                      0                       0   \n525547                      1                       0   \n525548                      1                       0   \n525549                      1                       0   \n525550                      1                       0   \n525551                      1                       0   \n525560                      0                       0   \n525574                      0                       0   \n\n        contains_match_statement  contains_while_statement  ...  \\\n219183                         0                         0  ...   \n219189                         0                         0  ...   \n219190                         0                         0  ...   \n219191                         0                         0  ...   \n219192                         0                         0  ...   \n219203                         0                         0  ...   \n219214                         0                         0  ...   \n261880                         0                         0  ...   \n261885                         0                         0  ...   \n525533                         0                         0  ...   \n525547                         0                         0  ...   \n525548                         0                         0  ...   \n525549                         0                         0  ...   \n525550                         0                         0  ...   \n525551                         0                         0  ...   \n525560                         0                         0  ...   \n525574                         0                         0  ...   \n\n        contains_exec_statement  contains_future_import_statement  \\\n219183                        0                                 0   \n219189                        0                                 0   \n219190                        0                                 0   \n219191                        0                                 0   \n219192                        0                                 0   \n219203                        0                                 0   \n219214                        0                                 0   \n261880                        0                                 0   \n261885                        0                                 0   \n525533                        0                                 0   \n525547                        0                                 0   \n525548                        0                                 0   \n525549                        0                                 0   \n525550                        0                                 0   \n525551                        0                                 0   \n525560                        0                                 0   \n525574                        0                                 0   \n\n        contains_global_statement  contains_nonlocal_statement  \\\n219183                          0                            0   \n219189                          0                            0   \n219190                          0                            0   \n219191                          0                            0   \n219192                          0                            0   \n219203                          0                            0   \n219214                          0                            0   \n261880                          0                            0   \n261885                          0                            0   \n525533                          0                            0   \n525547                          0                            0   \n525548                          0                            0   \n525549                          0                            0   \n525550                          0                            0   \n525551                          0                            0   \n525560                          0                            0   \n525574                          0                            0   \n\n        contains_print_statement  contains_assignment  contains_call  \\\n219183                         0                    1              1   \n219189                         0                    1              1   \n219190                         0                    0              1   \n219191                         0                    1              1   \n219192                         0                    1              1   \n219203                         0                    0              0   \n219214                         0                    0              0   \n261880                         0                    0              0   \n261885                         0                    0              0   \n525533                         0                    0              0   \n525547                         0                    0              0   \n525548                         0                    0              0   \n525549                         0                    0              0   \n525550                         0                    0              0   \n525551                         0                    0              0   \n525560                         0                    0              0   \n525574                         0                    0              0   \n\n        contains_await  contains_yield  contains_logging  \n219183               0               0                 0  \n219189               0               0                 0  \n219190               0               0                 0  \n219191               0               0                 0  \n219192               0               0                 0  \n219203               0               0                 0  \n219214               0               0                 0  \n261880               0               0                 0  \n261885               0               0                 0  \n525533               0               0                 0  \n525547               0               0                 0  \n525548               0               0                 0  \n525549               0               0                 0  \n525550               0               0                 0  \n525551               0               0                 0  \n525560               0               0                 0  \n525574               0               0                 0  \n\n[17 rows x 31 columns]",
      "text/html": "<div>\n<style scoped>\n    .dataframe tbody tr th:only-of-type {\n        vertical-align: middle;\n    }\n\n    .dataframe tbody tr th {\n        vertical-align: top;\n    }\n\n    .dataframe thead th {\n        text-align: right;\n    }\n</style>\n<table border=\"1\" class=\"dataframe\">\n  <thead>\n    <tr style=\"text-align: right;\">\n      <th></th>\n      <th>type</th>\n      <th>location</th>\n      <th>parent</th>\n      <th>context</th>\n      <th>contains_class_definition</th>\n      <th>contains_function_definition</th>\n      <th>contains_if_statement</th>\n      <th>contains_for_statement</th>\n      <th>contains_match_statement</th>\n      <th>contains_while_statement</th>\n      <th>...</th>\n      <th>contains_exec_statement</th>\n      <th>contains_future_import_statement</th>\n      <th>contains_global_statement</th>\n      <th>contains_nonlocal_statement</th>\n      <th>contains_print_statement</th>\n      <th>contains_assignment</th>\n      <th>contains_call</th>\n      <th>contains_await</th>\n      <th>contains_yield</th>\n      <th>contains_logging</th>\n    </tr>\n  </thead>\n  <tbody>\n    <tr>\n      <th>219183</th>\n      <td>d</td>\n      <td>312;4-335;75</td>\n      <td>b</td>\n      <td>dqbrqrqrqqrrqrr</td>\n      <td>0</td>\n      <td>0</td>\n      <td>0</td>\n      <td>0</td>\n      <td>0</td>\n      <td>0</td>\n      <td>...</td>\n      <td>0</td>\n      <td>0</td>\n      <td>0</td>\n      <td>0</td>\n      <td>0</td>\n      <td>1</td>\n      <td>1</td>\n      <td>0</td>\n      <td>0</td>\n      <td>0</td>\n    </tr>\n    <tr>\n      <th>219189</th>\n      <td>d</td>\n      <td>556;4-558;104</td>\n      <td>b</td>\n      <td>dqbrqrb</td>\n      <td>0</td>\n      <td>0</td>\n      <td>0</td>\n      <td>0</td>\n      <td>0</td>\n      <td>0</td>\n      <td>...</td>\n      <td>0</td>\n      <td>0</td>\n      <td>0</td>\n      <td>0</td>\n      <td>0</td>\n      <td>1</td>\n      <td>1</td>\n      <td>0</td>\n      <td>0</td>\n      <td>0</td>\n    </tr>\n    <tr>\n      <th>219190</th>\n      <td>d</td>\n      <td>560;4-561;45</td>\n      <td>b</td>\n      <td>dr</td>\n      <td>0</td>\n      <td>0</td>\n      <td>0</td>\n      <td>0</td>\n      <td>0</td>\n      <td>0</td>\n      <td>...</td>\n      <td>0</td>\n      <td>0</td>\n      <td>0</td>\n      <td>0</td>\n      <td>0</td>\n      <td>0</td>\n      <td>1</td>\n      <td>0</td>\n      <td>0</td>\n      <td>0</td>\n    </tr>\n    <tr>\n      <th>219191</th>\n      <td>d</td>\n      <td>563;4-566;87</td>\n      <td>b</td>\n      <td>dqrfr</td>\n      <td>0</td>\n      <td>0</td>\n      <td>0</td>\n      <td>1</td>\n      <td>0</td>\n      <td>0</td>\n      <td>...</td>\n      <td>0</td>\n      <td>0</td>\n      <td>0</td>\n      <td>0</td>\n      <td>0</td>\n      <td>1</td>\n      <td>1</td>\n      <td>0</td>\n      <td>0</td>\n      <td>0</td>\n    </tr>\n    <tr>\n      <th>219192</th>\n      <td>d</td>\n      <td>568;4-571;102</td>\n      <td>b</td>\n      <td>dqrfr</td>\n      <td>0</td>\n      <td>0</td>\n      <td>0</td>\n      <td>1</td>\n      <td>0</td>\n      <td>0</td>\n      <td>...</td>\n      <td>0</td>\n      <td>0</td>\n      <td>0</td>\n      <td>0</td>\n      <td>0</td>\n      <td>1</td>\n      <td>1</td>\n      <td>0</td>\n      <td>0</td>\n      <td>0</td>\n    </tr>\n    <tr>\n      <th>219203</th>\n      <td>e</td>\n      <td>300;8-301;23</td>\n      <td>b</td>\n      <td>abzAbAAAerzAbbbbbbbbqbrbqqqqqqqqqqqqqqqqqqqqqb...</td>\n      <td>0</td>\n      <td>0</td>\n      <td>0</td>\n      <td>0</td>\n      <td>0</td>\n      <td>0</td>\n      <td>...</td>\n      <td>0</td>\n      <td>0</td>\n      <td>0</td>\n      <td>0</td>\n      <td>0</td>\n      <td>0</td>\n      <td>0</td>\n      <td>0</td>\n      <td>0</td>\n      <td>0</td>\n    </tr>\n    <tr>\n      <th>219214</th>\n      <td>m</td>\n      <td>303;4-306;51</td>\n      <td>b</td>\n      <td>abzAbAAAerzAbbbbbbbbqbrbqqqqqqqqqqqqqqqqqqqqqb...</td>\n      <td>0</td>\n      <td>0</td>\n      <td>1</td>\n      <td>0</td>\n      <td>0</td>\n      <td>0</td>\n      <td>...</td>\n      <td>0</td>\n      <td>0</td>\n      <td>0</td>\n      <td>0</td>\n      <td>0</td>\n      <td>0</td>\n      <td>0</td>\n      <td>0</td>\n      <td>0</td>\n      <td>0</td>\n    </tr>\n    <tr>\n      <th>261880</th>\n      <td>e</td>\n      <td>901;8-902;23</td>\n      <td>b</td>\n      <td>abzAbAAAerzAbbbbbbbbqbrbqqqqqqqqqqqqqqqqqqqqqb...</td>\n      <td>0</td>\n      <td>0</td>\n      <td>0</td>\n      <td>0</td>\n      <td>0</td>\n      <td>0</td>\n      <td>...</td>\n      <td>0</td>\n      <td>0</td>\n      <td>0</td>\n      <td>0</td>\n      <td>0</td>\n      <td>0</td>\n      <td>0</td>\n      <td>0</td>\n      <td>0</td>\n      <td>0</td>\n    </tr>\n    <tr>\n      <th>261885</th>\n      <td>m</td>\n      <td>904;4-907;51</td>\n      <td>b</td>\n      <td>abzAbAAAerzAbbbbbbbbqbrbqqqqqqqqqqqqqqqqqqqqqb...</td>\n      <td>0</td>\n      <td>0</td>\n      <td>1</td>\n      <td>0</td>\n      <td>0</td>\n      <td>0</td>\n      <td>...</td>\n      <td>0</td>\n      <td>0</td>\n      <td>0</td>\n      <td>0</td>\n      <td>0</td>\n      <td>0</td>\n      <td>0</td>\n      <td>0</td>\n      <td>0</td>\n      <td>0</td>\n    </tr>\n    <tr>\n      <th>525533</th>\n      <td>e</td>\n      <td>181;8-182;50</td>\n      <td>b</td>\n      <td>aAAbbbAbbbbbAbbbbbAbbqieryrmBlqbbbbieryrmBlqbi...</td>\n      <td>0</td>\n      <td>0</td>\n      <td>0</td>\n      <td>0</td>\n      <td>0</td>\n      <td>0</td>\n      <td>...</td>\n      <td>0</td>\n      <td>0</td>\n      <td>0</td>\n      <td>0</td>\n      <td>0</td>\n      <td>0</td>\n      <td>0</td>\n      <td>0</td>\n      <td>0</td>\n      <td>0</td>\n    </tr>\n    <tr>\n      <th>525547</th>\n      <td>i</td>\n      <td>200;4-214;9</td>\n      <td>b</td>\n      <td>aAAbbbAbbbbbAbbbbbAbbqieryrmBlqbbbbieryrmBlqbi...</td>\n      <td>0</td>\n      <td>0</td>\n      <td>1</td>\n      <td>0</td>\n      <td>0</td>\n      <td>0</td>\n      <td>...</td>\n      <td>0</td>\n      <td>0</td>\n      <td>0</td>\n      <td>0</td>\n      <td>0</td>\n      <td>0</td>\n      <td>0</td>\n      <td>0</td>\n      <td>0</td>\n      <td>0</td>\n    </tr>\n    <tr>\n      <th>525548</th>\n      <td>i</td>\n      <td>219;4-236;9</td>\n      <td>b</td>\n      <td>aAAbbbAbbbbbAbbbbbAbbqieryrmBlqbbbbieryrmBlqbi...</td>\n      <td>0</td>\n      <td>0</td>\n      <td>1</td>\n      <td>0</td>\n      <td>0</td>\n      <td>0</td>\n      <td>...</td>\n      <td>0</td>\n      <td>0</td>\n      <td>0</td>\n      <td>0</td>\n      <td>0</td>\n      <td>0</td>\n      <td>0</td>\n      <td>0</td>\n      <td>0</td>\n      <td>0</td>\n    </tr>\n    <tr>\n      <th>525549</th>\n      <td>i</td>\n      <td>238;4-248;9</td>\n      <td>b</td>\n      <td>aAAbbbAbbbbbAbbbbbAbbqieryrmBlqbbbbieryrmBlqbi...</td>\n      <td>0</td>\n      <td>0</td>\n      <td>1</td>\n      <td>0</td>\n      <td>0</td>\n      <td>0</td>\n      <td>...</td>\n      <td>0</td>\n      <td>0</td>\n      <td>0</td>\n      <td>0</td>\n      <td>0</td>\n      <td>0</td>\n      <td>0</td>\n      <td>0</td>\n      <td>0</td>\n      <td>0</td>\n    </tr>\n    <tr>\n      <th>525550</th>\n      <td>i</td>\n      <td>253;4-269;9</td>\n      <td>b</td>\n      <td>aAAbbbAbbbbbAbbbbbAbbqieryrmBlqbbbbieryrmBlqbi...</td>\n      <td>0</td>\n      <td>0</td>\n      <td>1</td>\n      <td>0</td>\n      <td>0</td>\n      <td>0</td>\n      <td>...</td>\n      <td>0</td>\n      <td>0</td>\n      <td>0</td>\n      <td>0</td>\n      <td>0</td>\n      <td>0</td>\n      <td>0</td>\n      <td>0</td>\n      <td>0</td>\n      <td>0</td>\n    </tr>\n    <tr>\n      <th>525551</th>\n      <td>i</td>\n      <td>271;4-283;9</td>\n      <td>b</td>\n      <td>aAAbbbAbbbbbAbbbbbAbbqieryrmBlqbbbbieryrmBlqbi...</td>\n      <td>0</td>\n      <td>0</td>\n      <td>1</td>\n      <td>0</td>\n      <td>0</td>\n      <td>0</td>\n      <td>...</td>\n      <td>0</td>\n      <td>0</td>\n      <td>0</td>\n      <td>0</td>\n      <td>0</td>\n      <td>0</td>\n      <td>0</td>\n      <td>0</td>\n      <td>0</td>\n      <td>0</td>\n    </tr>\n    <tr>\n      <th>525560</th>\n      <td>l</td>\n      <td>185;4-198;9</td>\n      <td>b</td>\n      <td>aAAbbbAbbbbbAbbbbbAbbqieryrmBlqbbbbieryrmBlqbi...</td>\n      <td>0</td>\n      <td>0</td>\n      <td>0</td>\n      <td>0</td>\n      <td>0</td>\n      <td>0</td>\n      <td>...</td>\n      <td>0</td>\n      <td>0</td>\n      <td>0</td>\n      <td>0</td>\n      <td>0</td>\n      <td>0</td>\n      <td>0</td>\n      <td>0</td>\n      <td>0</td>\n      <td>0</td>\n    </tr>\n    <tr>\n      <th>525574</th>\n      <td>m</td>\n      <td>183;4-184;12</td>\n      <td>b</td>\n      <td>aAAbbbAbbbbbAbbbbbAbbqieryrmBlqbbbbieryrmBlqbi...</td>\n      <td>0</td>\n      <td>0</td>\n      <td>0</td>\n      <td>0</td>\n      <td>0</td>\n      <td>0</td>\n      <td>...</td>\n      <td>0</td>\n      <td>0</td>\n      <td>0</td>\n      <td>0</td>\n      <td>0</td>\n      <td>0</td>\n      <td>0</td>\n      <td>0</td>\n      <td>0</td>\n      <td>0</td>\n    </tr>\n  </tbody>\n</table>\n<p>17 rows × 31 columns</p>\n</div>"
     },
     "execution_count": 6,
     "metadata": {},
     "output_type": "execute_result"
    }
   ],
   "source": [
    "# 'b' = ERROR\n",
    "df[df.parent == 'b']"
   ],
   "metadata": {
    "collapsed": false,
    "pycharm": {
     "name": "#%%\n"
    }
   }
  },
  {
   "cell_type": "code",
   "execution_count": 235,
   "outputs": [
    {
     "data": {
      "text/plain": "          0    1        10   11        12        13   15        16   17   18  \\\n0  0.475286  0.0  0.000000  0.0  0.000000  0.000000  0.0  0.000000  0.0  0.0   \n1  0.425020  0.0  0.252546  0.0  0.000000  0.000000  0.0  0.000000  0.0  0.0   \n2  0.438380  0.0  0.000000  0.0  0.000000  0.202452  0.0  0.000000  0.0  0.0   \n3  0.000000  0.0  0.000000  0.0  0.663635  0.522289  0.0  0.116316  0.0  0.0   \n4  0.000000  0.0  0.000000  0.0  0.730347  0.000000  0.0  0.288020  0.0  0.0   \n\n   ...   26   27   29         3         4    5         6         7         8  \\\n0  ...  0.0  0.0  0.0  0.000000  0.000000  0.0  0.248167  0.000000  0.000000   \n1  ...  0.0  0.0  0.0  0.000000  0.000000  0.0  0.221921  0.000000  0.000000   \n2  ...  0.0  0.0  0.0  0.136074  0.000000  0.0  0.000000  0.000000  0.000000   \n3  ...  0.0  0.0  0.0  0.175523  0.139186  0.0  0.000000  0.229972  0.178180   \n4  ...  0.0  0.0  0.0  0.217313  0.000000  0.0  0.000000  0.000000  0.441206   \n\n          9  \n0  0.000000  \n1  0.000000  \n2  0.000000  \n3  0.138757  \n4  0.343588  \n\n[5 rows x 27 columns]",
      "text/html": "<div>\n<style scoped>\n    .dataframe tbody tr th:only-of-type {\n        vertical-align: middle;\n    }\n\n    .dataframe tbody tr th {\n        vertical-align: top;\n    }\n\n    .dataframe thead th {\n        text-align: right;\n    }\n</style>\n<table border=\"1\" class=\"dataframe\">\n  <thead>\n    <tr style=\"text-align: right;\">\n      <th></th>\n      <th>0</th>\n      <th>1</th>\n      <th>10</th>\n      <th>11</th>\n      <th>12</th>\n      <th>13</th>\n      <th>15</th>\n      <th>16</th>\n      <th>17</th>\n      <th>18</th>\n      <th>...</th>\n      <th>26</th>\n      <th>27</th>\n      <th>29</th>\n      <th>3</th>\n      <th>4</th>\n      <th>5</th>\n      <th>6</th>\n      <th>7</th>\n      <th>8</th>\n      <th>9</th>\n    </tr>\n  </thead>\n  <tbody>\n    <tr>\n      <th>0</th>\n      <td>0.475286</td>\n      <td>0.0</td>\n      <td>0.000000</td>\n      <td>0.0</td>\n      <td>0.000000</td>\n      <td>0.000000</td>\n      <td>0.0</td>\n      <td>0.000000</td>\n      <td>0.0</td>\n      <td>0.0</td>\n      <td>...</td>\n      <td>0.0</td>\n      <td>0.0</td>\n      <td>0.0</td>\n      <td>0.000000</td>\n      <td>0.000000</td>\n      <td>0.0</td>\n      <td>0.248167</td>\n      <td>0.000000</td>\n      <td>0.000000</td>\n      <td>0.000000</td>\n    </tr>\n    <tr>\n      <th>1</th>\n      <td>0.425020</td>\n      <td>0.0</td>\n      <td>0.252546</td>\n      <td>0.0</td>\n      <td>0.000000</td>\n      <td>0.000000</td>\n      <td>0.0</td>\n      <td>0.000000</td>\n      <td>0.0</td>\n      <td>0.0</td>\n      <td>...</td>\n      <td>0.0</td>\n      <td>0.0</td>\n      <td>0.0</td>\n      <td>0.000000</td>\n      <td>0.000000</td>\n      <td>0.0</td>\n      <td>0.221921</td>\n      <td>0.000000</td>\n      <td>0.000000</td>\n      <td>0.000000</td>\n    </tr>\n    <tr>\n      <th>2</th>\n      <td>0.438380</td>\n      <td>0.0</td>\n      <td>0.000000</td>\n      <td>0.0</td>\n      <td>0.000000</td>\n      <td>0.202452</td>\n      <td>0.0</td>\n      <td>0.000000</td>\n      <td>0.0</td>\n      <td>0.0</td>\n      <td>...</td>\n      <td>0.0</td>\n      <td>0.0</td>\n      <td>0.0</td>\n      <td>0.136074</td>\n      <td>0.000000</td>\n      <td>0.0</td>\n      <td>0.000000</td>\n      <td>0.000000</td>\n      <td>0.000000</td>\n      <td>0.000000</td>\n    </tr>\n    <tr>\n      <th>3</th>\n      <td>0.000000</td>\n      <td>0.0</td>\n      <td>0.000000</td>\n      <td>0.0</td>\n      <td>0.663635</td>\n      <td>0.522289</td>\n      <td>0.0</td>\n      <td>0.116316</td>\n      <td>0.0</td>\n      <td>0.0</td>\n      <td>...</td>\n      <td>0.0</td>\n      <td>0.0</td>\n      <td>0.0</td>\n      <td>0.175523</td>\n      <td>0.139186</td>\n      <td>0.0</td>\n      <td>0.000000</td>\n      <td>0.229972</td>\n      <td>0.178180</td>\n      <td>0.138757</td>\n    </tr>\n    <tr>\n      <th>4</th>\n      <td>0.000000</td>\n      <td>0.0</td>\n      <td>0.000000</td>\n      <td>0.0</td>\n      <td>0.730347</td>\n      <td>0.000000</td>\n      <td>0.0</td>\n      <td>0.288020</td>\n      <td>0.0</td>\n      <td>0.0</td>\n      <td>...</td>\n      <td>0.0</td>\n      <td>0.0</td>\n      <td>0.0</td>\n      <td>0.217313</td>\n      <td>0.000000</td>\n      <td>0.0</td>\n      <td>0.000000</td>\n      <td>0.000000</td>\n      <td>0.441206</td>\n      <td>0.343588</td>\n    </tr>\n  </tbody>\n</table>\n<p>5 rows × 27 columns</p>\n</div>"
     },
     "execution_count": 235,
     "metadata": {},
     "output_type": "execute_result"
    }
   ],
   "source": [
    "# Convert the compacted context from letters into strings of integers\n",
    "df.context = [list(map(lambda y: str(ascii_letters.index(y)), list(str(x)))) for x in df.context]\n",
    "df.head()\n",
    "# Word2Vec Model\n",
    "class MyCorpus:\n",
    "        \"\"\"An iterator that yields sentences (lists of str).\"\"\"\n",
    "        def __init__(self, text_list: list):\n",
    "            self.text_list = text_list\n",
    "\n",
    "        def __iter__(self):\n",
    "            for line in self.text_list:\n",
    "                yield line\n",
    "\n",
    "sentences = MyCorpus(list(df.context))\n",
    "gensim_model = gensim.models.Word2Vec(sentences=sentences, min_count=1)\n",
    "actual_vocab_size = len(gensim_model.wv.key_to_index)\n",
    "actual_vocab_size\n",
    "# Build an embedding for each context as the mean of its words' Word2Vec vectors\n",
    "corpus_embeddings = []\n",
    "for doc in sentences:\n",
    "    doc_embedding = np.zeros((len(doc), 100), dtype=np.float32)\n",
    "    for idx, word in enumerate(doc):\n",
    "                    doc_embedding[idx] = gensim_model.wv[word]\n",
    "    doc_embedding = np.mean(doc_embedding, axis=0)\n",
    "    corpus_embeddings.append(doc_embedding)\n",
    "corpus_embeddings = np.array(corpus_embeddings)\n",
    "df_corpus_embeddings = pd.DataFrame(corpus_embeddings, columns=[\"c\"+str(i) for i in range(100)])\n",
    "df_corpus_embeddings.head()\n",
    "# TF-IDF\n",
    "vectorizer = TfidfVectorizer(token_pattern=\"\\w+\")\n",
    "concat_context = [\" \".join(x) for x in df.context]\n",
    "vectorize_res = vectorizer.fit_transform(concat_context)\n",
    "df_tfidf = pd.DataFrame(vectorize_res.toarray(), columns=vectorizer.get_feature_names_out())\n",
    "df_tfidf.head()"
   ],
   "metadata": {
    "collapsed": false,
    "pycharm": {
     "name": "#%%\n"
    }
   }
  },
  {
   "cell_type": "code",
   "execution_count": 7,
   "outputs": [],
   "source": [
    "score_names = [\n",
    "    \"Balanced accuracy score\",\n",
    "    \"Precision score\",\n",
    "    \"Recall score\",\n",
    "    \"F1 Binary\"\n",
    "]"
   ],
   "metadata": {
    "collapsed": false,
    "pycharm": {
     "name": "#%%\n"
    }
   }
  },
  {
   "cell_type": "code",
   "execution_count": 13,
   "outputs": [
    {
     "name": "stdout",
     "output_type": "stream",
     "text": [
      "regular\n",
      "Balanced accuracy score    0.608\n",
      "Precision score            0.914\n",
      "Recall score               0.215\n",
      "F1 Binary                  0.349\n",
      "dtype: float64\n"
     ]
    },
    {
     "data": {
      "text/plain": "<Figure size 432x288 with 2 Axes>",
      "image/png": "[encoded data removed]"
     },
     "metadata": {
      "needs_background": "light"
     },
     "output_type": "display_data"
    }
   ],
   "source": [
    "# Simple Random Forest Run\n",
    "\n",
    "if run_random_forests:\n",
    "    df_regular = df.drop([\"context\"], axis=1)\n",
    "    dataframes = [\n",
    "        (\"regular\", df_regular),\n",
    "        # (\"corpus\", df_corpus_embeddings.join(pd.DataFrame(df.contains_logging))),\n",
    "        # (\"tf-idf\", df_tfidf.join(pd.DataFrame(df.contains_logging))),\n",
    "        # (\"regular+corpus\", df_regular.join(df_corpus_embeddings)),\n",
    "        # (\"regular+tfidf\", df_regular.join(df_tfidf)),\n",
    "        # (\"corpus+tfidf\", df_corpus_embeddings.join(df_tfidf).join(pd.DataFrame(df.contains_logging))),\n",
    "        # (\"regular+corpus+tfidf\", df_regular.join(df_corpus_embeddings).join(df_tfidf)),\n",
    "    ]\n",
    "\n",
    "    for df_name, df_used in dataframes:\n",
    "        print(df_name)\n",
    "        # Split data into train and test sets\n",
    "        # X = df_used.drop([\"contains_logging\"], axis=1)\n",
    "        X = df_used.drop([\"contains_logging\", \"location\"], axis=1)\n",
    "        if \"regular\" in df_name:\n",
    "            X = pd.get_dummies(X, columns=[\"type\", \"parent\"])\n",
    "        y = df_used.contains_logging\n",
    "        X_train, X_test, y_train, y_test = train_test_split(X, y, test_size = 0.25, stratify=y, random_state=0)\n",
    "        # X_train.head()\n",
    "        classifier = RandomForestClassifier(n_estimators=9, random_state=0)\n",
    "        classifier.fit(X_train, y_train)\n",
    "        y_pred = classifier.predict(X_test)\n",
    "\n",
    "        scores = [\n",
    "                balanced_accuracy_score(y_test, y_pred),\n",
    "                precision_score(y_test, y_pred),\n",
    "                recall_score(y_test, y_pred),\n",
    "                f1_score(y_test, y_pred, average='binary', pos_label=True)\n",
    "        ]\n",
    "        cm = confusion_matrix(y_test, y_pred, labels=classifier.classes_)\n",
    "        score_df = pd.DataFrame([scores], columns=score_names).mean().round(3)\n",
    "        print(score_df)\n",
    "        disp = ConfusionMatrixDisplay(confusion_matrix=cm,\n",
    "                                      display_labels=classifier.classes_)\n",
    "        disp.plot(cmap=plt.cm.Blues)\n",
    "        # plt.show()\n",
    "\n",
    "        # y_proba = classifier.predict_proba(X_test)\n",
    "        # threshold = 0.5\n",
    "        # y_pred_alt = np.where(y_proba[:, 1] > threshold, 1, 0)\n",
    "        # scores_alt = [\n",
    "        #         balanced_accuracy_score(y_test, y_pred_alt),\n",
    "        #         precision_score(y_test, y_pred_alt),\n",
    "        #         recall_score(y_test, y_pred_alt),\n",
    "        #         f1_score(y_test, y_pred_alt, average='binary', pos_label=True)\n",
    "        # ]\n",
    "        # cm_alt = confusion_matrix(y_test, y_pred_alt, labels=classifier.classes_)\n",
    "        # score_df_alt = pd.DataFrame([scores_alt], columns=score_names).mean().round(3)\n",
    "        # print(score_df_alt)\n",
    "        # disp_alt = ConfusionMatrixDisplay(confusion_matrix=cm_alt,\n",
    "        #                               display_labels=classifier.classes_)\n",
    "        # disp_alt.plot(cmap=plt.cm.Blues)\n",
    "        plt.show()\n"
   ],
   "metadata": {
    "collapsed": false,
    "pycharm": {
     "name": "#%%\n"
    }
   }
  },
  {
   "cell_type": "code",
   "execution_count": 15,
   "outputs": [
    {
     "name": "stdout",
     "output_type": "stream",
     "text": [
      "regular\n",
      "Balanced accuracy score    0.544\n",
      "Precision score            0.982\n",
      "Recall score               0.087\n",
      "F1 Binary                  0.160\n",
      "dtype: float64\n"
     ]
    },
    {
     "data": {
      "text/plain": "<Figure size 432x288 with 2 Axes>",
      "image/png": "[encoded data removed]"
     },
     "metadata": {
      "needs_background": "light"
     },
     "output_type": "display_data"
    }
   ],
   "source": [
    "# Simple Random Forest Run\n",
    "\n",
    "if run_random_forests:\n",
    "    df_regular = df.drop([\"context\"], axis=1)\n",
    "    dataframes = [\n",
    "        (\"regular\", df_regular),\n",
    "        # (\"corpus\", df_corpus_embeddings.join(pd.DataFrame(df.contains_logging))),\n",
    "        # (\"tf-idf\", df_tfidf.join(pd.DataFrame(df.contains_logging))),\n",
    "        # (\"regular+corpus\", df_regular.join(df_corpus_embeddings)),\n",
    "        # (\"regular+tfidf\", df_regular.join(df_tfidf)),\n",
    "        # (\"corpus+tfidf\", df_corpus_embeddings.join(df_tfidf).join(pd.DataFrame(df.contains_logging))),\n",
    "        # (\"regular+corpus+tfidf\", df_regular.join(df_corpus_embeddings).join(df_tfidf)),\n",
    "    ]\n",
    "\n",
    "    for df_name, df_used in dataframes:\n",
    "        print(df_name)\n",
    "        # Split data into train and test sets\n",
    "        # X = df_used.drop([\"contains_logging\"], axis=1)\n",
    "        X = df_used.drop([\"contains_logging\", \"location\"], axis=1)\n",
    "        if \"regular\" in df_name:\n",
    "            X = pd.get_dummies(X, columns=[\"type\", \"parent\"])\n",
    "        y = df_used.contains_logging\n",
    "        X_train, X_test, y_train, y_test = train_test_split(X, y, test_size = 0.25, stratify=y, random_state=0)\n",
    "        # X_train.head()\n",
    "        classifier = RandomForestClassifier(n_estimators=9, random_state=0)\n",
    "        classifier.fit(X_train, y_train)\n",
    "        # y_pred = classifier.predict(X_test)\n",
    "        #\n",
    "        # scores = [\n",
    "        #         balanced_accuracy_score(y_test, y_pred),\n",
    "        #         precision_score(y_test, y_pred),\n",
    "        #         recall_score(y_test, y_pred),\n",
    "        #         f1_score(y_test, y_pred, average='binary', pos_label=True)\n",
    "        # ]\n",
    "        # cm = confusion_matrix(y_test, y_pred, labels=classifier.classes_)\n",
    "        # score_df = pd.DataFrame([scores], columns=score_names).mean().round(3)\n",
    "        # print(score_df)\n",
    "        # disp = ConfusionMatrixDisplay(confusion_matrix=cm,\n",
    "        #                               display_labels=classifier.classes_)\n",
    "        # disp.plot(cmap=plt.cm.Blues)\n",
    "\n",
    "        y_proba = classifier.predict_proba(X_test)\n",
    "        threshold = 0.99\n",
    "        y_pred_alt = np.where(y_proba[:, 1] > threshold, 1, 0)\n",
    "        scores_alt = [\n",
    "                balanced_accuracy_score(y_test, y_pred_alt),\n",
    "                precision_score(y_test, y_pred_alt),\n",
    "                recall_score(y_test, y_pred_alt),\n",
    "                f1_score(y_test, y_pred_alt, average='binary', pos_label=True)\n",
    "        ]\n",
    "        cm_alt = confusion_matrix(y_test, y_pred_alt, labels=classifier.classes_)\n",
    "        score_df_alt = pd.DataFrame([scores_alt], columns=score_names).mean().round(3)\n",
    "        print(score_df_alt)\n",
    "        disp_alt = ConfusionMatrixDisplay(confusion_matrix=cm_alt,\n",
    "                                      display_labels=classifier.classes_)\n",
    "        disp_alt.plot(cmap=plt.cm.Blues)\n",
    "\n",
    "        plt.show()\n"
   ],
   "metadata": {
    "collapsed": false,
    "pycharm": {
     "name": "#%%\n"
    }
   }
  },
  {
   "cell_type": "code",
   "execution_count": 25,
   "outputs": [
    {
     "name": "stdout",
     "output_type": "stream",
     "text": [
      "regular\n",
      "Balanced accuracy score    0.608\n",
      "Precision score            0.919\n",
      "Recall score               0.216\n",
      "F1 Binary                  0.350\n",
      "dtype: float64\n"
     ]
    },
    {
     "data": {
      "text/plain": "<Figure size 432x288 with 2 Axes>",
      "image/png": "[encoded data removed]"
     },
     "metadata": {
      "needs_background": "light"
     },
     "output_type": "display_data"
    }
   ],
   "source": [
    "# Folded Random Forest Run\n",
    "\n",
    "df_regular = df.drop([\"context\"], axis=1)\n",
    "if run_random_forests:\n",
    "    dataframes = [\n",
    "        (\"regular\", df_regular),\n",
    "        # (\"corpus\", df_corpus_embeddings.join(pd.DataFrame(df.contains_logging))),\n",
    "        # (\"tf-idf\", df_tfidf.join(pd.DataFrame(df.contains_logging))),\n",
    "        # (\"regular+corpus\", df_regular.join(df_corpus_embeddings)),\n",
    "        # (\"regular+tfidf\", df_regular.join(df_tfidf)),\n",
    "        # (\"corpus+tfidf\", df_corpus_embeddings.join(df_tfidf).join(pd.DataFrame(df.contains_logging))),\n",
    "        # (\"regular+corpus+tfidf\", df_regular.join(df_corpus_embeddings).join(df_tfidf)),\n",
    "    ]\n",
    "\n",
    "    for df_name, df_used in dataframes:\n",
    "        print(df_name)\n",
    "        all_scores = []\n",
    "        conf_matrices = []\n",
    "        # Split data into train and test sets\n",
    "        # X = df_used.drop([\"contains_logging\"], axis=1)\n",
    "        X = df_used.drop([\"contains_logging\", \"location\"], axis=1)\n",
    "        if \"regular\" in df_name:\n",
    "            X = pd.get_dummies(X, columns=[\"type\", \"parent\"])\n",
    "        y = df_used.contains_logging\n",
    "        # X_train, X_test, y_train, y_test = train_test_split(X, y, test_size = 0.25, stratify=y, random_state=0)\n",
    "        classifier = RandomForestClassifier(n_estimators=200, random_state=0)\n",
    "        # classifier = RandomForestClassifier(n_estimators=9, random_state=0)\n",
    "        skf = StratifiedShuffleSplit(n_splits=5, test_size=0.25, random_state=0)\n",
    "        for train_index, test_index in skf.split(X, y):\n",
    "            X_train, X_test = X.iloc[train_index], X.iloc[test_index]\n",
    "            y_train, y_test = y.iloc[train_index], y.iloc[test_index]\n",
    "            classifier.fit(X_train, y_train)\n",
    "            y_pred = classifier.predict(X_test)\n",
    "            scores = [\n",
    "                    balanced_accuracy_score(y_test, y_pred),\n",
    "                    precision_score(y_test, y_pred),\n",
    "                    recall_score(y_test, y_pred),\n",
    "                    f1_score(y_test, y_pred, average='binary', pos_label=True)\n",
    "            ]\n",
    "            all_scores.append(scores)\n",
    "            cm = confusion_matrix(y_test, y_pred, labels=classifier.classes_)\n",
    "            conf_matrices.append(cm)\n",
    "        score_df = pd.DataFrame(all_scores, columns=score_names).mean().round(3)\n",
    "        print(score_df)\n",
    "        avg_cm = np.mean(conf_matrices, axis=0).astype(int)\n",
    "        disp = ConfusionMatrixDisplay(confusion_matrix=avg_cm,\n",
    "                                      display_labels=classifier.classes_)\n",
    "        disp.plot(cmap=plt.cm.Blues)\n",
    "        plt.show()"
   ],
   "metadata": {
    "collapsed": false,
    "pycharm": {
     "name": "#%%\n"
    }
   }
  },
  {
   "cell_type": "code",
   "execution_count": 243,
   "outputs": [
    {
     "data": {
      "text/plain": "                                                 context  \\\n13543   [2, 12, 13, 3, 12, 12, 13, 12, 13, 3, 13, 9, 13]   \n35966                             [2, 12, 3, 13, 16, 13]   \n21749  [2, 2, 12, 13, 12, 13, 12, 13, 12, 13, 2, 12, ...   \n8961                                             [2, 16]   \n2679                                         [2, 16, 13]   \n...                                                  ...   \n36468  [2, 13, 2, 3, 13, 13, 16, 13, 13, 9, 16, 2, 3,...   \n31183  [2, 3, 3, 12, 13, 3, 3, 13, 12, 13, 9, 12, 13,...   \n8459   [2, 12, 13, 12, 13, 12, 13, 13, 12, 13, 12, 13...   \n20681                      [2, 12, 4, 13, 3, 13, 12, 18]   \n31349                                        [2, 13, 13]   \n\n       contains_class_definition  contains_function_definition  \\\n13543                          0                             0   \n35966                          0                             0   \n21749                          0                             0   \n8961                           0                             0   \n2679                           0                             0   \n...                          ...                           ...   \n36468                          0                             0   \n31183                          0                             0   \n8459                           0                             0   \n20681                          0                             0   \n31349                          0                             0   \n\n       contains_if_statement  contains_for_statement  \\\n13543                      0                       0   \n35966                      0                       0   \n21749                      1                       1   \n8961                       0                       0   \n2679                       0                       0   \n...                      ...                     ...   \n36468                      0                       0   \n31183                      1                       0   \n8459                       0                       0   \n20681                      0                       0   \n31349                      0                       0   \n\n       contains_while_statement  contains_try_statement  \\\n13543                         0                       0   \n35966                         0                       0   \n21749                         0                       1   \n8961                          0                       0   \n2679                          0                       0   \n...                         ...                     ...   \n36468                         0                       0   \n31183                         0                       0   \n8459                          0                       0   \n20681                         0                       0   \n31349                         0                       0   \n\n       contains_with_statement  contains_return_statement  \\\n13543                        0                          0   \n35966                        0                          1   \n21749                        0                          0   \n8961                         0                          1   \n2679                         0                          1   \n...                        ...                        ...   \n36468                        0                          0   \n31183                        0                          1   \n8459                         0                          0   \n20681                        0                          0   \n31349                        0                          0   \n\n       contains_assert_statement  ...  parent_c  parent_d  parent_e  parent_f  \\\n13543                          0  ...         0         1         0         0   \n35966                          0  ...         1         0         0         0   \n21749                          0  ...         1         0         0         0   \n8961                           0  ...         0         0         0         0   \n2679                           0  ...         0         0         0         0   \n...                          ...  ...       ...       ...       ...       ...   \n36468                          0  ...         0         0         0         0   \n31183                          0  ...         0         1         0         0   \n8459                           0  ...         1         0         0         0   \n20681                          0  ...         0         0         1         0   \n31349                          0  ...         0         0         0         0   \n\n       parent_g  parent_h  parent_i  parent_j  parent_k  parent_l  \n13543         0         0         0         0         0         0  \n35966         0         0         0         0         0         0  \n21749         0         0         0         0         0         0  \n8961          0         0         0         0         0         0  \n2679          0         0         0         0         0         0  \n...         ...       ...       ...       ...       ...       ...  \n36468         1         0         0         0         0         0  \n31183         0         0         0         0         0         0  \n8459          0         0         0         0         0         0  \n20681         0         0         0         0         0         0  \n31349         0         0         0         0         0         0  \n\n[40111 rows x 49 columns]",
      "text/html": "<div>\n<style scoped>\n    .dataframe tbody tr th:only-of-type {\n        vertical-align: middle;\n    }\n\n    .dataframe tbody tr th {\n        vertical-align: top;\n    }\n\n    .dataframe thead th {\n        text-align: right;\n    }\n</style>\n<table border=\"1\" class=\"dataframe\">\n  <thead>\n    <tr style=\"text-align: right;\">\n      <th></th>\n      <th>context</th>\n      <th>contains_class_definition</th>\n      <th>contains_function_definition</th>\n      <th>contains_if_statement</th>\n      <th>contains_for_statement</th>\n      <th>contains_while_statement</th>\n      <th>contains_try_statement</th>\n      <th>contains_with_statement</th>\n      <th>contains_return_statement</th>\n      <th>contains_assert_statement</th>\n      <th>...</th>\n      <th>parent_c</th>\n      <th>parent_d</th>\n      <th>parent_e</th>\n      <th>parent_f</th>\n      <th>parent_g</th>\n      <th>parent_h</th>\n      <th>parent_i</th>\n      <th>parent_j</th>\n      <th>parent_k</th>\n      <th>parent_l</th>\n    </tr>\n  </thead>\n  <tbody>\n    <tr>\n      <th>13543</th>\n      <td>[2, 12, 13, 3, 12, 12, 13, 12, 13, 3, 13, 9, 13]</td>\n      <td>0</td>\n      <td>0</td>\n      <td>0</td>\n      <td>0</td>\n      <td>0</td>\n      <td>0</td>\n      <td>0</td>\n      <td>0</td>\n      <td>0</td>\n      <td>...</td>\n      <td>0</td>\n      <td>1</td>\n      <td>0</td>\n      <td>0</td>\n      <td>0</td>\n      <td>0</td>\n      <td>0</td>\n      <td>0</td>\n      <td>0</td>\n      <td>0</td>\n    </tr>\n    <tr>\n      <th>35966</th>\n      <td>[2, 12, 3, 13, 16, 13]</td>\n      <td>0</td>\n      <td>0</td>\n      <td>0</td>\n      <td>0</td>\n      <td>0</td>\n      <td>0</td>\n      <td>0</td>\n      <td>1</td>\n      <td>0</td>\n      <td>...</td>\n      <td>1</td>\n      <td>0</td>\n      <td>0</td>\n      <td>0</td>\n      <td>0</td>\n      <td>0</td>\n      <td>0</td>\n      <td>0</td>\n      <td>0</td>\n      <td>0</td>\n    </tr>\n    <tr>\n      <th>21749</th>\n      <td>[2, 2, 12, 13, 12, 13, 12, 13, 12, 13, 2, 12, ...</td>\n      <td>0</td>\n      <td>0</td>\n      <td>1</td>\n      <td>1</td>\n      <td>0</td>\n      <td>1</td>\n      <td>0</td>\n      <td>0</td>\n      <td>0</td>\n      <td>...</td>\n      <td>1</td>\n      <td>0</td>\n      <td>0</td>\n      <td>0</td>\n      <td>0</td>\n      <td>0</td>\n      <td>0</td>\n      <td>0</td>\n      <td>0</td>\n      <td>0</td>\n    </tr>\n    <tr>\n      <th>8961</th>\n      <td>[2, 16]</td>\n      <td>0</td>\n      <td>0</td>\n      <td>0</td>\n      <td>0</td>\n      <td>0</td>\n      <td>0</td>\n      <td>0</td>\n      <td>1</td>\n      <td>0</td>\n      <td>...</td>\n      <td>0</td>\n      <td>0</td>\n      <td>0</td>\n      <td>0</td>\n      <td>0</td>\n      <td>0</td>\n      <td>0</td>\n      <td>0</td>\n      <td>0</td>\n      <td>0</td>\n    </tr>\n    <tr>\n      <th>2679</th>\n      <td>[2, 16, 13]</td>\n      <td>0</td>\n      <td>0</td>\n      <td>0</td>\n      <td>0</td>\n      <td>0</td>\n      <td>0</td>\n      <td>0</td>\n      <td>1</td>\n      <td>0</td>\n      <td>...</td>\n      <td>0</td>\n      <td>0</td>\n      <td>0</td>\n      <td>0</td>\n      <td>0</td>\n      <td>0</td>\n      <td>0</td>\n      <td>0</td>\n      <td>0</td>\n      <td>0</td>\n    </tr>\n    <tr>\n      <th>...</th>\n      <td>...</td>\n      <td>...</td>\n      <td>...</td>\n      <td>...</td>\n      <td>...</td>\n      <td>...</td>\n      <td>...</td>\n      <td>...</td>\n      <td>...</td>\n      <td>...</td>\n      <td>...</td>\n      <td>...</td>\n      <td>...</td>\n      <td>...</td>\n      <td>...</td>\n      <td>...</td>\n      <td>...</td>\n      <td>...</td>\n      <td>...</td>\n      <td>...</td>\n      <td>...</td>\n    </tr>\n    <tr>\n      <th>36468</th>\n      <td>[2, 13, 2, 3, 13, 13, 16, 13, 13, 9, 16, 2, 3,...</td>\n      <td>0</td>\n      <td>0</td>\n      <td>0</td>\n      <td>0</td>\n      <td>0</td>\n      <td>0</td>\n      <td>0</td>\n      <td>0</td>\n      <td>0</td>\n      <td>...</td>\n      <td>0</td>\n      <td>0</td>\n      <td>0</td>\n      <td>0</td>\n      <td>1</td>\n      <td>0</td>\n      <td>0</td>\n      <td>0</td>\n      <td>0</td>\n      <td>0</td>\n    </tr>\n    <tr>\n      <th>31183</th>\n      <td>[2, 3, 3, 12, 13, 3, 3, 13, 12, 13, 9, 12, 13,...</td>\n      <td>0</td>\n      <td>0</td>\n      <td>1</td>\n      <td>0</td>\n      <td>0</td>\n      <td>0</td>\n      <td>0</td>\n      <td>1</td>\n      <td>0</td>\n      <td>...</td>\n      <td>0</td>\n      <td>1</td>\n      <td>0</td>\n      <td>0</td>\n      <td>0</td>\n      <td>0</td>\n      <td>0</td>\n      <td>0</td>\n      <td>0</td>\n      <td>0</td>\n    </tr>\n    <tr>\n      <th>8459</th>\n      <td>[2, 12, 13, 12, 13, 12, 13, 13, 12, 13, 12, 13...</td>\n      <td>0</td>\n      <td>0</td>\n      <td>0</td>\n      <td>0</td>\n      <td>0</td>\n      <td>0</td>\n      <td>0</td>\n      <td>0</td>\n      <td>0</td>\n      <td>...</td>\n      <td>1</td>\n      <td>0</td>\n      <td>0</td>\n      <td>0</td>\n      <td>0</td>\n      <td>0</td>\n      <td>0</td>\n      <td>0</td>\n      <td>0</td>\n      <td>0</td>\n    </tr>\n    <tr>\n      <th>20681</th>\n      <td>[2, 12, 4, 13, 3, 13, 12, 18]</td>\n      <td>0</td>\n      <td>0</td>\n      <td>0</td>\n      <td>0</td>\n      <td>0</td>\n      <td>0</td>\n      <td>0</td>\n      <td>0</td>\n      <td>0</td>\n      <td>...</td>\n      <td>0</td>\n      <td>0</td>\n      <td>1</td>\n      <td>0</td>\n      <td>0</td>\n      <td>0</td>\n      <td>0</td>\n      <td>0</td>\n      <td>0</td>\n      <td>0</td>\n    </tr>\n    <tr>\n      <th>31349</th>\n      <td>[2, 13, 13]</td>\n      <td>0</td>\n      <td>0</td>\n      <td>0</td>\n      <td>0</td>\n      <td>0</td>\n      <td>0</td>\n      <td>0</td>\n      <td>0</td>\n      <td>0</td>\n      <td>...</td>\n      <td>0</td>\n      <td>0</td>\n      <td>0</td>\n      <td>0</td>\n      <td>0</td>\n      <td>0</td>\n      <td>0</td>\n      <td>0</td>\n      <td>0</td>\n      <td>0</td>\n    </tr>\n  </tbody>\n</table>\n<p>40111 rows × 49 columns</p>\n</div>"
     },
     "execution_count": 243,
     "metadata": {},
     "output_type": "execute_result"
    }
   ],
   "source": [
    "# Data split for Tensorflow\n",
    "\n",
    "X = df.drop([\"contains_logging\"], axis=1)\n",
    "X = pd.get_dummies(X, columns=[\"type\", \"parent\"])\n",
    "y = df.contains_logging\n",
    "X_train, X_test, y_train, y_test = train_test_split(X, y, test_size = 0.25, stratify=y, random_state=0)\n",
    "X_train"
   ],
   "metadata": {
    "collapsed": false,
    "pycharm": {
     "name": "#%%\n"
    }
   }
  },
  {
   "cell_type": "code",
   "execution_count": 250,
   "outputs": [],
   "source": [
    "vocab_size = 30\n",
    "output_dims = 100\n",
    "max_length = 80\n",
    "num_epochs = 100\n",
    "batch_size = 24\n",
    "dropout = 0.2"
   ],
   "metadata": {
    "collapsed": false,
    "pycharm": {
     "name": "#%%\n"
    }
   }
  },
  {
   "cell_type": "code",
   "execution_count": 253,
   "outputs": [
    {
     "data": {
      "text/plain": "array([[ 2.16098040e-01,  1.48762751e+00,  1.79505408e+00, ...,\n        -1.23306799e+00, -3.75583619e-01, -1.42227471e+00],\n       [ 3.96291353e-02,  6.78083241e-01,  7.14575797e-02, ...,\n        -6.67472899e-01,  6.30375564e-01,  1.38690042e+00],\n       [ 2.12420344e-01,  3.97649050e-01,  4.06255201e-02, ...,\n         9.37355235e-02,  4.76882905e-01,  1.98397607e-01],\n       ...,\n       [-6.46759495e-02,  2.55506575e-01,  2.05601677e-01, ...,\n        -1.34416616e+00, -7.60651648e-01, -1.46729290e-03],\n       [ 0.00000000e+00,  0.00000000e+00,  0.00000000e+00, ...,\n         0.00000000e+00,  0.00000000e+00,  0.00000000e+00],\n       [ 4.09221411e-01,  5.91012895e-01,  3.35809052e-01, ...,\n         3.63320202e-01, -1.07530165e+00,  1.01342940e+00]])"
     },
     "execution_count": 253,
     "metadata": {},
     "output_type": "execute_result"
    }
   ],
   "source": [
    "# Build embedding matrix\n",
    "embedding_matrix = zeros((vocab_size, output_dims))\n",
    "for i in range(vocab_size):\n",
    "    embedding_vector = None\n",
    "    try:\n",
    "        embedding_vector = gensim_model.wv[str(i)]\n",
    "    except KeyError:\n",
    "        pass\n",
    "    if embedding_vector is not None:\n",
    "        embedding_matrix[i] = embedding_vector\n",
    "# embedding_matrix"
   ],
   "metadata": {
    "collapsed": false,
    "pycharm": {
     "name": "#%%\n"
    }
   }
  },
  {
   "cell_type": "code",
   "execution_count": 252,
   "outputs": [
    {
     "data": {
      "text/plain": "array([[ 0,  0,  0, ..., 13,  9, 13],\n       [ 0,  0,  0, ..., 13, 16, 13],\n       [13, 13,  3, ..., 12,  9, 18],\n       ...,\n       [ 0,  0,  0, ..., 12, 13, 13],\n       [ 0,  0,  0, ..., 13, 12, 18],\n       [ 0,  0,  0, ...,  2, 13, 13]], dtype=int32)"
     },
     "execution_count": 252,
     "metadata": {},
     "output_type": "execute_result"
    }
   ],
   "source": [
    "# Pad the context to create the context input\n",
    "padded_inputs = pad_sequences(np.array(list(X_train.context), dtype=object), maxlen=max_length, value=0.0)  # 0.0 because it corresponds with <PAD>\n",
    "padded_inputs_test = pad_sequences(np.array(list(X_test.context), dtype=object), maxlen=max_length, value=0.0)  # 0.0 because it corresponds with <PAD>\n",
    "# padded_inputs"
   ],
   "metadata": {
    "collapsed": false,
    "pycharm": {
     "name": "#%%\n"
    }
   }
  },
  {
   "cell_type": "code",
   "execution_count": 266,
   "outputs": [
    {
     "data": {
      "text/plain": "       contains_class_definition  contains_function_definition  \\\n13543                          0                             0   \n35966                          0                             0   \n21749                          0                             0   \n8961                           0                             0   \n2679                           0                             0   \n...                          ...                           ...   \n36468                          0                             0   \n31183                          0                             0   \n8459                           0                             0   \n20681                          0                             0   \n31349                          0                             0   \n\n       contains_if_statement  contains_for_statement  \\\n13543                      0                       0   \n35966                      0                       0   \n21749                      1                       1   \n8961                       0                       0   \n2679                       0                       0   \n...                      ...                     ...   \n36468                      0                       0   \n31183                      1                       0   \n8459                       0                       0   \n20681                      0                       0   \n31349                      0                       0   \n\n       contains_while_statement  contains_try_statement  \\\n13543                         0                       0   \n35966                         0                       0   \n21749                         0                       1   \n8961                          0                       0   \n2679                          0                       0   \n...                         ...                     ...   \n36468                         0                       0   \n31183                         0                       0   \n8459                          0                       0   \n20681                         0                       0   \n31349                         0                       0   \n\n       contains_with_statement  contains_return_statement  \\\n13543                        0                          0   \n35966                        0                          1   \n21749                        0                          0   \n8961                         0                          1   \n2679                         0                          1   \n...                        ...                        ...   \n36468                        0                          0   \n31183                        0                          1   \n8459                         0                          0   \n20681                        0                          0   \n31349                        0                          0   \n\n       contains_assert_statement  contains_break_statement  ...  parent_c  \\\n13543                          0                         0  ...         0   \n35966                          0                         0  ...         1   \n21749                          0                         0  ...         1   \n8961                           0                         0  ...         0   \n2679                           0                         0  ...         0   \n...                          ...                       ...  ...       ...   \n36468                          0                         0  ...         0   \n31183                          0                         0  ...         0   \n8459                           0                         0  ...         1   \n20681                          0                         1  ...         0   \n31349                          0                         0  ...         0   \n\n       parent_d  parent_e  parent_f  parent_g  parent_h  parent_i  parent_j  \\\n13543         1         0         0         0         0         0         0   \n35966         0         0         0         0         0         0         0   \n21749         0         0         0         0         0         0         0   \n8961          0         0         0         0         0         0         0   \n2679          0         0         0         0         0         0         0   \n...         ...       ...       ...       ...       ...       ...       ...   \n36468         0         0         0         1         0         0         0   \n31183         1         0         0         0         0         0         0   \n8459          0         0         0         0         0         0         0   \n20681         0         1         0         0         0         0         0   \n31349         0         0         0         0         0         0         0   \n\n       parent_k  parent_l  \n13543         0         0  \n35966         0         0  \n21749         0         0  \n8961          0         0  \n2679          0         0  \n...         ...       ...  \n36468         0         0  \n31183         0         0  \n8459          0         0  \n20681         0         0  \n31349         0         0  \n\n[40111 rows x 48 columns]",
      "text/html": "<div>\n<style scoped>\n    .dataframe tbody tr th:only-of-type {\n        vertical-align: middle;\n    }\n\n    .dataframe tbody tr th {\n        vertical-align: top;\n    }\n\n    .dataframe thead th {\n        text-align: right;\n    }\n</style>\n<table border=\"1\" class=\"dataframe\">\n  <thead>\n    <tr style=\"text-align: right;\">\n      <th></th>\n      <th>contains_class_definition</th>\n      <th>contains_function_definition</th>\n      <th>contains_if_statement</th>\n      <th>contains_for_statement</th>\n      <th>contains_while_statement</th>\n      <th>contains_try_statement</th>\n      <th>contains_with_statement</th>\n      <th>contains_return_statement</th>\n      <th>contains_assert_statement</th>\n      <th>contains_break_statement</th>\n      <th>...</th>\n      <th>parent_c</th>\n      <th>parent_d</th>\n      <th>parent_e</th>\n      <th>parent_f</th>\n      <th>parent_g</th>\n      <th>parent_h</th>\n      <th>parent_i</th>\n      <th>parent_j</th>\n      <th>parent_k</th>\n      <th>parent_l</th>\n    </tr>\n  </thead>\n  <tbody>\n    <tr>\n      <th>13543</th>\n      <td>0</td>\n      <td>0</td>\n      <td>0</td>\n      <td>0</td>\n      <td>0</td>\n      <td>0</td>\n      <td>0</td>\n      <td>0</td>\n      <td>0</td>\n      <td>0</td>\n      <td>...</td>\n      <td>0</td>\n      <td>1</td>\n      <td>0</td>\n      <td>0</td>\n      <td>0</td>\n      <td>0</td>\n      <td>0</td>\n      <td>0</td>\n      <td>0</td>\n      <td>0</td>\n    </tr>\n    <tr>\n      <th>35966</th>\n      <td>0</td>\n      <td>0</td>\n      <td>0</td>\n      <td>0</td>\n      <td>0</td>\n      <td>0</td>\n      <td>0</td>\n      <td>1</td>\n      <td>0</td>\n      <td>0</td>\n      <td>...</td>\n      <td>1</td>\n      <td>0</td>\n      <td>0</td>\n      <td>0</td>\n      <td>0</td>\n      <td>0</td>\n      <td>0</td>\n      <td>0</td>\n      <td>0</td>\n      <td>0</td>\n    </tr>\n    <tr>\n      <th>21749</th>\n      <td>0</td>\n      <td>0</td>\n      <td>1</td>\n      <td>1</td>\n      <td>0</td>\n      <td>1</td>\n      <td>0</td>\n      <td>0</td>\n      <td>0</td>\n      <td>0</td>\n      <td>...</td>\n      <td>1</td>\n      <td>0</td>\n      <td>0</td>\n      <td>0</td>\n      <td>0</td>\n      <td>0</td>\n      <td>0</td>\n      <td>0</td>\n      <td>0</td>\n      <td>0</td>\n    </tr>\n    <tr>\n      <th>8961</th>\n      <td>0</td>\n      <td>0</td>\n      <td>0</td>\n      <td>0</td>\n      <td>0</td>\n      <td>0</td>\n      <td>0</td>\n      <td>1</td>\n      <td>0</td>\n      <td>0</td>\n      <td>...</td>\n      <td>0</td>\n      <td>0</td>\n      <td>0</td>\n      <td>0</td>\n      <td>0</td>\n      <td>0</td>\n      <td>0</td>\n      <td>0</td>\n      <td>0</td>\n      <td>0</td>\n    </tr>\n    <tr>\n      <th>2679</th>\n      <td>0</td>\n      <td>0</td>\n      <td>0</td>\n      <td>0</td>\n      <td>0</td>\n      <td>0</td>\n      <td>0</td>\n      <td>1</td>\n      <td>0</td>\n      <td>0</td>\n      <td>...</td>\n      <td>0</td>\n      <td>0</td>\n      <td>0</td>\n      <td>0</td>\n      <td>0</td>\n      <td>0</td>\n      <td>0</td>\n      <td>0</td>\n      <td>0</td>\n      <td>0</td>\n    </tr>\n    <tr>\n      <th>...</th>\n      <td>...</td>\n      <td>...</td>\n      <td>...</td>\n      <td>...</td>\n      <td>...</td>\n      <td>...</td>\n      <td>...</td>\n      <td>...</td>\n      <td>...</td>\n      <td>...</td>\n      <td>...</td>\n      <td>...</td>\n      <td>...</td>\n      <td>...</td>\n      <td>...</td>\n      <td>...</td>\n      <td>...</td>\n      <td>...</td>\n      <td>...</td>\n      <td>...</td>\n      <td>...</td>\n    </tr>\n    <tr>\n      <th>36468</th>\n      <td>0</td>\n      <td>0</td>\n      <td>0</td>\n      <td>0</td>\n      <td>0</td>\n      <td>0</td>\n      <td>0</td>\n      <td>0</td>\n      <td>0</td>\n      <td>0</td>\n      <td>...</td>\n      <td>0</td>\n      <td>0</td>\n      <td>0</td>\n      <td>0</td>\n      <td>1</td>\n      <td>0</td>\n      <td>0</td>\n      <td>0</td>\n      <td>0</td>\n      <td>0</td>\n    </tr>\n    <tr>\n      <th>31183</th>\n      <td>0</td>\n      <td>0</td>\n      <td>1</td>\n      <td>0</td>\n      <td>0</td>\n      <td>0</td>\n      <td>0</td>\n      <td>1</td>\n      <td>0</td>\n      <td>0</td>\n      <td>...</td>\n      <td>0</td>\n      <td>1</td>\n      <td>0</td>\n      <td>0</td>\n      <td>0</td>\n      <td>0</td>\n      <td>0</td>\n      <td>0</td>\n      <td>0</td>\n      <td>0</td>\n    </tr>\n    <tr>\n      <th>8459</th>\n      <td>0</td>\n      <td>0</td>\n      <td>0</td>\n      <td>0</td>\n      <td>0</td>\n      <td>0</td>\n      <td>0</td>\n      <td>0</td>\n      <td>0</td>\n      <td>0</td>\n      <td>...</td>\n      <td>1</td>\n      <td>0</td>\n      <td>0</td>\n      <td>0</td>\n      <td>0</td>\n      <td>0</td>\n      <td>0</td>\n      <td>0</td>\n      <td>0</td>\n      <td>0</td>\n    </tr>\n    <tr>\n      <th>20681</th>\n      <td>0</td>\n      <td>0</td>\n      <td>0</td>\n      <td>0</td>\n      <td>0</td>\n      <td>0</td>\n      <td>0</td>\n      <td>0</td>\n      <td>0</td>\n      <td>1</td>\n      <td>...</td>\n      <td>0</td>\n      <td>0</td>\n      <td>1</td>\n      <td>0</td>\n      <td>0</td>\n      <td>0</td>\n      <td>0</td>\n      <td>0</td>\n      <td>0</td>\n      <td>0</td>\n    </tr>\n    <tr>\n      <th>31349</th>\n      <td>0</td>\n      <td>0</td>\n      <td>0</td>\n      <td>0</td>\n      <td>0</td>\n      <td>0</td>\n      <td>0</td>\n      <td>0</td>\n      <td>0</td>\n      <td>0</td>\n      <td>...</td>\n      <td>0</td>\n      <td>0</td>\n      <td>0</td>\n      <td>0</td>\n      <td>0</td>\n      <td>0</td>\n      <td>0</td>\n      <td>0</td>\n      <td>0</td>\n      <td>0</td>\n    </tr>\n  </tbody>\n</table>\n<p>40111 rows × 48 columns</p>\n</div>"
     },
     "execution_count": 266,
     "metadata": {},
     "output_type": "execute_result"
    }
   ],
   "source": [
    "# Prepare the \"other\" input\n",
    "regular_inputs = X_train.drop([\"context\"], axis=1)\n",
    "regular_inputs_test = X_test.drop([\"context\"], axis=1)\n",
    "# regular_inputs"
   ],
   "metadata": {
    "collapsed": false,
    "pycharm": {
     "name": "#%%\n"
    }
   }
  },
  {
   "cell_type": "code",
   "execution_count": null,
   "outputs": [],
   "source": [
    "# Build and run the tensorflow model using both the context and the other features as inputs\n",
    "\n",
    "context_input = keras.Input(shape=(max_length,), name=\"context\")\n",
    "other_input = keras.Input(shape=(regular_inputs.shape[1],), name=\"other\")\n",
    "\n",
    "context_features = keras.layers.Embedding(vocab_size, output_dims, weights=[embedding_matrix], trainable=False)(context_input) # input_length?\n",
    "# context_features = keras.layers.LSTM(128, return_sequences=True)(context_features) # dropout?\n",
    "# context_features = keras.layers.LSTM(128)(context_features)\n",
    "context_features = keras.layers.CuDNNLSTM(128, return_sequences=True)(context_features) # dropout?\n",
    "context_features = keras.layers.CuDNNLSTM(128)(context_features)\n",
    "context_features = keras.layers.Dense(32)(context_features)\n",
    "\n",
    "other_features = keras.layers.Dense(300, activation='relu')(other_input)\n",
    "other_features = keras.layers.Dense(100, activation='relu')(other_features)\n",
    "other_features = keras.layers.Dense(40, activation='relu')(other_features)\n",
    "\n",
    "x = keras.layers.concatenate([context_features, other_features])\n",
    "\n",
    "logging_pred = keras.layers.Dense(1, name=\"logging\", activation='sigmoid')(x) # Sigmoid?\n",
    "\n",
    "model = keras.Model(\n",
    "    inputs=[context_input, other_input],\n",
    "    outputs=[logging_pred],\n",
    ")\n",
    "# model.summary()\n",
    "model.compile(optimizer='adam', loss='binary_crossentropy', metrics=['accuracy'])\n",
    "model.fit(\n",
    "    {\"context\": padded_inputs, \"other\": regular_inputs},\n",
    "    {\"logging\": y_train},\n",
    "    epochs=num_epochs,\n",
    "    batch_size=batch_size,\n",
    ")\n",
    "pred_test= model.predict({\"context\": padded_inputs_test, \"other\": regular_inputs_test})\n",
    "y_pred = np.round(pred_test)\n",
    "scores = [\n",
    "        \"100repos_hybrid\",\n",
    "        max_length,\n",
    "        vocab_size,\n",
    "        batch_size,\n",
    "        # trainable,\n",
    "        dropout,\n",
    "        # sigmoid,\n",
    "        # val_split,\n",
    "        # callback,\n",
    "        f\"{balanced_accuracy_score(y_test, y_pred):.2f}\"[2:],\n",
    "        f\"{precision_score(y_test, y_pred):.2f}\"[2:],\n",
    "        f\"{recall_score(y_test, y_pred):.2f}\"[2:],\n",
    "        f\"{f1_score(y_test, y_pred):.2f}\"[2:],\n",
    "    ]\n",
    "out = open(\"results.txt\", \"a\")\n",
    "out.write(\"Name, max_length, vocab_size, batch_size, dropout, Bal_Acc, Precision, Recall, F1_Score\")\n",
    "out.write(\"\\n\")\n",
    "out.write(str(scores).replace(\"'\", \"\")[1:-1])\n",
    "out.write(\"\\n\")\n",
    "out.close()"
   ],
   "metadata": {
    "collapsed": false,
    "pycharm": {
     "name": "#%%\n"
    }
   }
  }
 ],
 "metadata": {
  "kernelspec": {
   "display_name": "Python 3",
   "language": "python",
   "name": "python3"
  },
  "language_info": {
   "codemirror_mode": {
    "name": "ipython",
    "version": 2
   },
   "file_extension": ".py",
   "mimetype": "text/x-python",
   "name": "python",
   "nbconvert_exporter": "python",
   "pygments_lexer": "ipython2",
   "version": "2.7.6"
  }
 },
 "nbformat": 4,
 "nbformat_minor": 0
}