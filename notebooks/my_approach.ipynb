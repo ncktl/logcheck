{
 "cells": [
  {
   "cell_type": "code",
   "execution_count": 1,
   "metadata": {
    "pycharm": {
     "name": "#%%\n"
    }
   },
   "outputs": [],
   "source": [
    "from sklearn.ensemble import RandomForestClassifier\n",
    "from sklearn.feature_extraction.text import TfidfVectorizer\n",
    "from notebook_helper import MyCorpus, build_hybrid_model, build_callbacks, build_embedding_matrix, iteration_features\n",
    "from imblearn.combine import SMOTETomek, SMOTEENN\n",
    "from imblearn.over_sampling import SMOTE, RandomOverSampler\n",
    "from imblearn.under_sampling import RandomUnderSampler\n",
    "from imblearn.pipeline import Pipeline\n",
    "\n",
    "from string import ascii_letters\n",
    "import time\n",
    "\n",
    "# Import required libraries\n",
    "import pandas as pd\n",
    "import numpy as np\n",
    "import matplotlib.pyplot as plt\n",
    "import tensorflow as tf\n",
    "import tensorflow_addons as tfa\n",
    "\n",
    "# Import necessary modules\n",
    "from sklearn.model_selection import train_test_split, StratifiedKFold, StratifiedShuffleSplit\n",
    "\n",
    "# Keras specific\n",
    "\n",
    "#### CHANGED from import keras:\n",
    "import tensorflow.keras as keras\n",
    "from tensorflow.keras.preprocessing.text import Tokenizer\n",
    "from tensorflow.keras.callbacks import EarlyStopping, ModelCheckpoint\n",
    "from tensorflow.keras.models import Sequential\n",
    "#####\n",
    "from keras.layers import Dense, LSTM, Embedding, Flatten, CuDNNLSTM, Bidirectional, Dropout\n",
    "\n",
    "\n",
    "# from keras.utils import to_categorical\n",
    "\n",
    "# Gemsim\n",
    "import gensim.models\n",
    "from gensim import utils\n",
    "\n",
    "from numpy import array\n",
    "from numpy import asarray\n",
    "from numpy import zeros\n",
    "\n",
    "\n",
    "from sklearn.metrics import precision_score, recall_score, f1_score, accuracy_score, confusion_matrix, ConfusionMatrixDisplay, balanced_accuracy_score\n",
    "\n",
    "# from tensorflow.keras.layers import Embedding, Dense, LSTM\n",
    "from tensorflow.keras.losses import BinaryCrossentropy\n",
    "# from tensorflow.keras.models import Sequential\n",
    "# from tensorflow.keras.optimizers import Adam\n",
    "from tensorflow.keras.preprocessing.sequence import pad_sequences"
   ]
  },
  {
   "cell_type": "code",
   "execution_count": 2,
   "metadata": {
    "pycharm": {
     "name": "#%%\n"
    }
   },
   "outputs": [],
   "source": [
    "run_random_forests = False"
   ]
  },
  {
   "cell_type": "code",
   "execution_count": 3,
   "metadata": {
    "pycharm": {
     "name": "#%%\n"
    }
   },
   "outputs": [
    {
     "name": "stdout",
     "output_type": "stream",
     "text": [
      "Before:\n",
      " []\n"
     ]
    }
   ],
   "source": [
    "try:\n",
    "    print(\"Before:\\n\" ,tf.config.get_visible_devices('GPU'))\n",
    "    gpus = tf.config.list_physical_devices('GPU')\n",
    "    tf.config.experimental.set_visible_devices(gpus[1], 'GPU')\n",
    "    print(\"After:\\n\" ,tf.config.get_visible_devices('GPU'))\n",
    "except IndexError as e:\n",
    "    pass"
   ]
  },
  {
   "cell_type": "code",
   "execution_count": 4,
   "metadata": {
    "pycharm": {
     "name": "#%%\n"
    }
   },
   "outputs": [
    {
     "name": "stdout",
     "output_type": "stream",
     "text": [
      "Number of parameter vecs:\t\t117736\n",
      "without logging (negatives):\t112767\n",
      "with logging (positives):\t\t4969\n",
      "Log ratio:\t\t\t\t\t\t4.22%\n",
      "(117736, 29)\n"
     ]
    },
    {
     "data": {
      "text/plain": "  type parent                      context  contains_class_definition  \\\n0    g      a                         avgv                          0   \n1    k      g                       avgvkx                          0   \n2    d      a                      avvwdnn                          0   \n3    c      a  cmmenhnmnmnndximjtmndmnnmmq                          0   \n4    c      a                    cmdmimjmq                          0   \n\n   contains_function_definition  contains_if_statement  \\\n0                             0                      0   \n1                             0                      0   \n2                             0                      0   \n3                             0                      0   \n4                             0                      1   \n\n   contains_for_statement  contains_while_statement  contains_try_statement  \\\n0                       0                         0                       0   \n1                       0                         0                       0   \n2                       0                         0                       0   \n3                       1                         0                       0   \n4                       0                         0                       0   \n\n   contains_with_statement  ...  contains_exec_statement  \\\n0                        0  ...                        0   \n1                        0  ...                        0   \n2                        0  ...                        0   \n3                        0  ...                        0   \n4                        0  ...                        0   \n\n   contains_future_import_statement  contains_global_statement  \\\n0                                 0                          0   \n1                                 0                          0   \n2                                 0                          0   \n3                                 0                          0   \n4                                 0                          0   \n\n   contains_nonlocal_statement  contains_print_statement  contains_assignment  \\\n0                            0                         0                    0   \n1                            0                         0                    0   \n2                            0                         0                    0   \n3                            0                         0                    1   \n4                            0                         0                    1   \n\n   contains_call  contains_await  contains_yield  contains_logging  \n0              0               0               0                 0  \n1              0               0               0                 0  \n2              1               0               0                 0  \n3              0               0               0                 0  \n4              0               0               0                 0  \n\n[5 rows x 29 columns]",
      "text/html": "<div>\n<style scoped>\n    .dataframe tbody tr th:only-of-type {\n        vertical-align: middle;\n    }\n\n    .dataframe tbody tr th {\n        vertical-align: top;\n    }\n\n    .dataframe thead th {\n        text-align: right;\n    }\n</style>\n<table border=\"1\" class=\"dataframe\">\n  <thead>\n    <tr style=\"text-align: right;\">\n      <th></th>\n      <th>type</th>\n      <th>parent</th>\n      <th>context</th>\n      <th>contains_class_definition</th>\n      <th>contains_function_definition</th>\n      <th>contains_if_statement</th>\n      <th>contains_for_statement</th>\n      <th>contains_while_statement</th>\n      <th>contains_try_statement</th>\n      <th>contains_with_statement</th>\n      <th>...</th>\n      <th>contains_exec_statement</th>\n      <th>contains_future_import_statement</th>\n      <th>contains_global_statement</th>\n      <th>contains_nonlocal_statement</th>\n      <th>contains_print_statement</th>\n      <th>contains_assignment</th>\n      <th>contains_call</th>\n      <th>contains_await</th>\n      <th>contains_yield</th>\n      <th>contains_logging</th>\n    </tr>\n  </thead>\n  <tbody>\n    <tr>\n      <th>0</th>\n      <td>g</td>\n      <td>a</td>\n      <td>avgv</td>\n      <td>0</td>\n      <td>0</td>\n      <td>0</td>\n      <td>0</td>\n      <td>0</td>\n      <td>0</td>\n      <td>0</td>\n      <td>...</td>\n      <td>0</td>\n      <td>0</td>\n      <td>0</td>\n      <td>0</td>\n      <td>0</td>\n      <td>0</td>\n      <td>0</td>\n      <td>0</td>\n      <td>0</td>\n      <td>0</td>\n    </tr>\n    <tr>\n      <th>1</th>\n      <td>k</td>\n      <td>g</td>\n      <td>avgvkx</td>\n      <td>0</td>\n      <td>0</td>\n      <td>0</td>\n      <td>0</td>\n      <td>0</td>\n      <td>0</td>\n      <td>0</td>\n      <td>...</td>\n      <td>0</td>\n      <td>0</td>\n      <td>0</td>\n      <td>0</td>\n      <td>0</td>\n      <td>0</td>\n      <td>0</td>\n      <td>0</td>\n      <td>0</td>\n      <td>0</td>\n    </tr>\n    <tr>\n      <th>2</th>\n      <td>d</td>\n      <td>a</td>\n      <td>avvwdnn</td>\n      <td>0</td>\n      <td>0</td>\n      <td>0</td>\n      <td>0</td>\n      <td>0</td>\n      <td>0</td>\n      <td>0</td>\n      <td>...</td>\n      <td>0</td>\n      <td>0</td>\n      <td>0</td>\n      <td>0</td>\n      <td>0</td>\n      <td>0</td>\n      <td>1</td>\n      <td>0</td>\n      <td>0</td>\n      <td>0</td>\n    </tr>\n    <tr>\n      <th>3</th>\n      <td>c</td>\n      <td>a</td>\n      <td>cmmenhnmnmnndximjtmndmnnmmq</td>\n      <td>0</td>\n      <td>0</td>\n      <td>0</td>\n      <td>1</td>\n      <td>0</td>\n      <td>0</td>\n      <td>0</td>\n      <td>...</td>\n      <td>0</td>\n      <td>0</td>\n      <td>0</td>\n      <td>0</td>\n      <td>0</td>\n      <td>1</td>\n      <td>0</td>\n      <td>0</td>\n      <td>0</td>\n      <td>0</td>\n    </tr>\n    <tr>\n      <th>4</th>\n      <td>c</td>\n      <td>a</td>\n      <td>cmdmimjmq</td>\n      <td>0</td>\n      <td>0</td>\n      <td>1</td>\n      <td>0</td>\n      <td>0</td>\n      <td>0</td>\n      <td>0</td>\n      <td>...</td>\n      <td>0</td>\n      <td>0</td>\n      <td>0</td>\n      <td>0</td>\n      <td>0</td>\n      <td>1</td>\n      <td>0</td>\n      <td>0</td>\n      <td>0</td>\n      <td>0</td>\n    </tr>\n  </tbody>\n</table>\n<p>5 rows × 29 columns</p>\n</div>"
     },
     "execution_count": 4,
     "metadata": {},
     "output_type": "execute_result"
    }
   ],
   "source": [
    "# Read the data\n",
    "min_val = 50\n",
    "repo_name = f\"174repos_min{min_val}_max1000000\"\n",
    "# repo_name = f\"300repos_min{min_val}_max1000000\"\n",
    "# repo_name = f\"combination\"\n",
    "df = pd.read_csv('../features/'+ repo_name +'_expanded.csv')\n",
    "# df = pd.read_csv('../features/combination.csv')\n",
    "\n",
    "# Remove errors\n",
    "df = df[df.parent != 'b']\n",
    "df = df[df.type != 'b']\n",
    "\n",
    "no_log_cnt, log_cnt = df['contains_logging'].value_counts()\n",
    "par_vec_cnt = no_log_cnt + log_cnt\n",
    "log_ratio = log_cnt / par_vec_cnt\n",
    "print(f\"Number of parameter vecs:\\t\\t{par_vec_cnt}\")\n",
    "print(f\"without logging (negatives):\\t{no_log_cnt}\")\n",
    "print(f\"with logging (positives):\\t\\t{log_cnt}\")\n",
    "print(f\"Log ratio:\\t\\t\\t\\t\\t\\t{log_ratio * 100:.2f}%\")\n",
    "print(df.shape)\n",
    "df.head()"
   ]
  },
  {
   "cell_type": "code",
   "execution_count": 5,
   "metadata": {
    "pycharm": {
     "name": "#%%\n"
    }
   },
   "outputs": [
    {
     "data": {
      "text/plain": "  type parent                                            context  \\\n0    g      a                                     [0, 21, 6, 21]   \n1    k      g                             [0, 21, 6, 21, 10, 23]   \n2    d      a                         [0, 21, 21, 22, 3, 13, 13]   \n3    c      a  [2, 12, 12, 4, 13, 7, 13, 12, 13, 12, 13, 13, ...   \n4    c      a                   [2, 12, 3, 12, 8, 12, 9, 12, 16]   \n\n   contains_class_definition  contains_function_definition  \\\n0                          0                             0   \n1                          0                             0   \n2                          0                             0   \n3                          0                             0   \n4                          0                             0   \n\n   contains_if_statement  contains_for_statement  contains_while_statement  \\\n0                      0                       0                         0   \n1                      0                       0                         0   \n2                      0                       0                         0   \n3                      0                       1                         0   \n4                      1                       0                         0   \n\n   contains_try_statement  contains_with_statement  ...  \\\n0                       0                        0  ...   \n1                       0                        0  ...   \n2                       0                        0  ...   \n3                       0                        0  ...   \n4                       0                        0  ...   \n\n   contains_exec_statement  contains_future_import_statement  \\\n0                        0                                 0   \n1                        0                                 0   \n2                        0                                 0   \n3                        0                                 0   \n4                        0                                 0   \n\n   contains_global_statement  contains_nonlocal_statement  \\\n0                          0                            0   \n1                          0                            0   \n2                          0                            0   \n3                          0                            0   \n4                          0                            0   \n\n   contains_print_statement  contains_assignment  contains_call  \\\n0                         0                    0              0   \n1                         0                    0              0   \n2                         0                    0              1   \n3                         0                    1              0   \n4                         0                    1              0   \n\n   contains_await  contains_yield  contains_logging  \n0               0               0                 0  \n1               0               0                 0  \n2               0               0                 0  \n3               0               0                 0  \n4               0               0                 0  \n\n[5 rows x 29 columns]",
      "text/html": "<div>\n<style scoped>\n    .dataframe tbody tr th:only-of-type {\n        vertical-align: middle;\n    }\n\n    .dataframe tbody tr th {\n        vertical-align: top;\n    }\n\n    .dataframe thead th {\n        text-align: right;\n    }\n</style>\n<table border=\"1\" class=\"dataframe\">\n  <thead>\n    <tr style=\"text-align: right;\">\n      <th></th>\n      <th>type</th>\n      <th>parent</th>\n      <th>context</th>\n      <th>contains_class_definition</th>\n      <th>contains_function_definition</th>\n      <th>contains_if_statement</th>\n      <th>contains_for_statement</th>\n      <th>contains_while_statement</th>\n      <th>contains_try_statement</th>\n      <th>contains_with_statement</th>\n      <th>...</th>\n      <th>contains_exec_statement</th>\n      <th>contains_future_import_statement</th>\n      <th>contains_global_statement</th>\n      <th>contains_nonlocal_statement</th>\n      <th>contains_print_statement</th>\n      <th>contains_assignment</th>\n      <th>contains_call</th>\n      <th>contains_await</th>\n      <th>contains_yield</th>\n      <th>contains_logging</th>\n    </tr>\n  </thead>\n  <tbody>\n    <tr>\n      <th>0</th>\n      <td>g</td>\n      <td>a</td>\n      <td>[0, 21, 6, 21]</td>\n      <td>0</td>\n      <td>0</td>\n      <td>0</td>\n      <td>0</td>\n      <td>0</td>\n      <td>0</td>\n      <td>0</td>\n      <td>...</td>\n      <td>0</td>\n      <td>0</td>\n      <td>0</td>\n      <td>0</td>\n      <td>0</td>\n      <td>0</td>\n      <td>0</td>\n      <td>0</td>\n      <td>0</td>\n      <td>0</td>\n    </tr>\n    <tr>\n      <th>1</th>\n      <td>k</td>\n      <td>g</td>\n      <td>[0, 21, 6, 21, 10, 23]</td>\n      <td>0</td>\n      <td>0</td>\n      <td>0</td>\n      <td>0</td>\n      <td>0</td>\n      <td>0</td>\n      <td>0</td>\n      <td>...</td>\n      <td>0</td>\n      <td>0</td>\n      <td>0</td>\n      <td>0</td>\n      <td>0</td>\n      <td>0</td>\n      <td>0</td>\n      <td>0</td>\n      <td>0</td>\n      <td>0</td>\n    </tr>\n    <tr>\n      <th>2</th>\n      <td>d</td>\n      <td>a</td>\n      <td>[0, 21, 21, 22, 3, 13, 13]</td>\n      <td>0</td>\n      <td>0</td>\n      <td>0</td>\n      <td>0</td>\n      <td>0</td>\n      <td>0</td>\n      <td>0</td>\n      <td>...</td>\n      <td>0</td>\n      <td>0</td>\n      <td>0</td>\n      <td>0</td>\n      <td>0</td>\n      <td>0</td>\n      <td>1</td>\n      <td>0</td>\n      <td>0</td>\n      <td>0</td>\n    </tr>\n    <tr>\n      <th>3</th>\n      <td>c</td>\n      <td>a</td>\n      <td>[2, 12, 12, 4, 13, 7, 13, 12, 13, 12, 13, 13, ...</td>\n      <td>0</td>\n      <td>0</td>\n      <td>0</td>\n      <td>1</td>\n      <td>0</td>\n      <td>0</td>\n      <td>0</td>\n      <td>...</td>\n      <td>0</td>\n      <td>0</td>\n      <td>0</td>\n      <td>0</td>\n      <td>0</td>\n      <td>1</td>\n      <td>0</td>\n      <td>0</td>\n      <td>0</td>\n      <td>0</td>\n    </tr>\n    <tr>\n      <th>4</th>\n      <td>c</td>\n      <td>a</td>\n      <td>[2, 12, 3, 12, 8, 12, 9, 12, 16]</td>\n      <td>0</td>\n      <td>0</td>\n      <td>1</td>\n      <td>0</td>\n      <td>0</td>\n      <td>0</td>\n      <td>0</td>\n      <td>...</td>\n      <td>0</td>\n      <td>0</td>\n      <td>0</td>\n      <td>0</td>\n      <td>0</td>\n      <td>1</td>\n      <td>0</td>\n      <td>0</td>\n      <td>0</td>\n      <td>0</td>\n    </tr>\n  </tbody>\n</table>\n<p>5 rows × 29 columns</p>\n</div>"
     },
     "execution_count": 5,
     "metadata": {},
     "output_type": "execute_result"
    }
   ],
   "source": [
    "# Convert the compacted context from letters into strings of integers\n",
    "df.context = [list(map(lambda y: str(ascii_letters.index(y)), list(str(x)))) for x in df.context]\n",
    "df.head()"
   ]
  },
  {
   "cell_type": "code",
   "execution_count": 39,
   "outputs": [],
   "source": [
    "# Define X and y\n",
    "X = df.drop([\"location\", \"contains_logging\"], axis=1)\n",
    "# X = df.drop([\"contains_logging\"], axis=1)\n",
    "X = pd.get_dummies(X, columns=[\"type\", \"parent\"])\n",
    "y = df.contains_logging"
   ],
   "metadata": {
    "collapsed": false,
    "pycharm": {
     "name": "#%%\n"
    }
   }
  },
  {
   "cell_type": "code",
   "execution_count": 7,
   "metadata": {
    "pycharm": {
     "name": "#%%\n"
    }
   },
   "outputs": [
    {
     "data": {
      "text/plain": "29"
     },
     "execution_count": 7,
     "metadata": {},
     "output_type": "execute_result"
    }
   ],
   "source": [
    "# Word2Vec Model\n",
    "\n",
    "sentences = MyCorpus(list(df.context))\n",
    "gensim_model = gensim.models.Word2Vec(sentences=sentences, min_count=1)\n",
    "actual_vocab_size = len(gensim_model.wv.key_to_index)\n",
    "actual_vocab_size"
   ]
  },
  {
   "cell_type": "code",
   "execution_count": 44,
   "metadata": {
    "pycharm": {
     "name": "#%%\n"
    }
   },
   "outputs": [
    {
     "data": {
      "text/plain": "         c0        c1        c2        c3        c4        c5        c6  \\\n0 -0.230097  1.357690 -0.054724  0.787381 -0.583491  0.568553 -0.607659   \n1 -0.302136  0.546907 -0.077963  0.603035  0.232146 -0.097231 -0.318668   \n2  0.524284  0.088531 -0.312373 -0.014159  0.199369  0.097940 -0.890064   \n3  0.524284  0.088531 -0.312373 -0.014159  0.199369  0.097940 -0.890064   \n4 -0.317444 -0.103982 -0.407280  0.383974  0.707843 -0.525569  0.244733   \n\n         c7        c8        c9  ...       c90       c91       c92       c93  \\\n0 -0.341705 -0.293219 -0.318684  ...  0.457015 -0.267720  0.402871 -0.184077   \n1 -0.380425  0.481469  0.076474  ... -0.254732 -0.224073  0.276448 -0.332256   \n2  0.571978  0.951072 -0.493446  ... -0.041747 -0.152901  0.009333 -0.089158   \n3  0.571978  0.951072 -0.493446  ... -0.041747 -0.152901  0.009333 -0.089158   \n4 -0.568876  0.461856  0.524103  ... -0.766642 -0.111786  0.252804 -0.325927   \n\n        c94       c95       c96       c97       c98       c99  \n0 -0.225120  0.004844 -0.113994 -1.016737 -0.200488  0.549677  \n1  0.176632 -0.287678 -0.120254  0.141745  0.063738  0.327092  \n2  0.203666 -0.173905 -0.392186 -0.040864 -0.198627  0.650111  \n3  0.203666 -0.173905 -0.392186 -0.040864 -0.198627  0.650111  \n4  0.377132 -0.406103  0.008015  0.982359  0.724123 -0.025433  \n\n[5 rows x 100 columns]",
      "text/html": "<div>\n<style scoped>\n    .dataframe tbody tr th:only-of-type {\n        vertical-align: middle;\n    }\n\n    .dataframe tbody tr th {\n        vertical-align: top;\n    }\n\n    .dataframe thead th {\n        text-align: right;\n    }\n</style>\n<table border=\"1\" class=\"dataframe\">\n  <thead>\n    <tr style=\"text-align: right;\">\n      <th></th>\n      <th>c0</th>\n      <th>c1</th>\n      <th>c2</th>\n      <th>c3</th>\n      <th>c4</th>\n      <th>c5</th>\n      <th>c6</th>\n      <th>c7</th>\n      <th>c8</th>\n      <th>c9</th>\n      <th>...</th>\n      <th>c90</th>\n      <th>c91</th>\n      <th>c92</th>\n      <th>c93</th>\n      <th>c94</th>\n      <th>c95</th>\n      <th>c96</th>\n      <th>c97</th>\n      <th>c98</th>\n      <th>c99</th>\n    </tr>\n  </thead>\n  <tbody>\n    <tr>\n      <th>0</th>\n      <td>-0.230097</td>\n      <td>1.357690</td>\n      <td>-0.054724</td>\n      <td>0.787381</td>\n      <td>-0.583491</td>\n      <td>0.568553</td>\n      <td>-0.607659</td>\n      <td>-0.341705</td>\n      <td>-0.293219</td>\n      <td>-0.318684</td>\n      <td>...</td>\n      <td>0.457015</td>\n      <td>-0.267720</td>\n      <td>0.402871</td>\n      <td>-0.184077</td>\n      <td>-0.225120</td>\n      <td>0.004844</td>\n      <td>-0.113994</td>\n      <td>-1.016737</td>\n      <td>-0.200488</td>\n      <td>0.549677</td>\n    </tr>\n    <tr>\n      <th>1</th>\n      <td>-0.302136</td>\n      <td>0.546907</td>\n      <td>-0.077963</td>\n      <td>0.603035</td>\n      <td>0.232146</td>\n      <td>-0.097231</td>\n      <td>-0.318668</td>\n      <td>-0.380425</td>\n      <td>0.481469</td>\n      <td>0.076474</td>\n      <td>...</td>\n      <td>-0.254732</td>\n      <td>-0.224073</td>\n      <td>0.276448</td>\n      <td>-0.332256</td>\n      <td>0.176632</td>\n      <td>-0.287678</td>\n      <td>-0.120254</td>\n      <td>0.141745</td>\n      <td>0.063738</td>\n      <td>0.327092</td>\n    </tr>\n    <tr>\n      <th>2</th>\n      <td>0.524284</td>\n      <td>0.088531</td>\n      <td>-0.312373</td>\n      <td>-0.014159</td>\n      <td>0.199369</td>\n      <td>0.097940</td>\n      <td>-0.890064</td>\n      <td>0.571978</td>\n      <td>0.951072</td>\n      <td>-0.493446</td>\n      <td>...</td>\n      <td>-0.041747</td>\n      <td>-0.152901</td>\n      <td>0.009333</td>\n      <td>-0.089158</td>\n      <td>0.203666</td>\n      <td>-0.173905</td>\n      <td>-0.392186</td>\n      <td>-0.040864</td>\n      <td>-0.198627</td>\n      <td>0.650111</td>\n    </tr>\n    <tr>\n      <th>3</th>\n      <td>0.524284</td>\n      <td>0.088531</td>\n      <td>-0.312373</td>\n      <td>-0.014159</td>\n      <td>0.199369</td>\n      <td>0.097940</td>\n      <td>-0.890064</td>\n      <td>0.571978</td>\n      <td>0.951072</td>\n      <td>-0.493446</td>\n      <td>...</td>\n      <td>-0.041747</td>\n      <td>-0.152901</td>\n      <td>0.009333</td>\n      <td>-0.089158</td>\n      <td>0.203666</td>\n      <td>-0.173905</td>\n      <td>-0.392186</td>\n      <td>-0.040864</td>\n      <td>-0.198627</td>\n      <td>0.650111</td>\n    </tr>\n    <tr>\n      <th>4</th>\n      <td>-0.317444</td>\n      <td>-0.103982</td>\n      <td>-0.407280</td>\n      <td>0.383974</td>\n      <td>0.707843</td>\n      <td>-0.525569</td>\n      <td>0.244733</td>\n      <td>-0.568876</td>\n      <td>0.461856</td>\n      <td>0.524103</td>\n      <td>...</td>\n      <td>-0.766642</td>\n      <td>-0.111786</td>\n      <td>0.252804</td>\n      <td>-0.325927</td>\n      <td>0.377132</td>\n      <td>-0.406103</td>\n      <td>0.008015</td>\n      <td>0.982359</td>\n      <td>0.724123</td>\n      <td>-0.025433</td>\n    </tr>\n  </tbody>\n</table>\n<p>5 rows × 100 columns</p>\n</div>"
     },
     "execution_count": 44,
     "metadata": {},
     "output_type": "execute_result"
    }
   ],
   "source": [
    "# Build an embedding for each context as the mean of its words' Word2Vec vectors\n",
    "# corpus_embeddings = []\n",
    "# for doc in sentences:\n",
    "#     doc_embedding = np.zeros((len(doc), 100), dtype=np.float32)\n",
    "#     for idx, word in enumerate(doc):\n",
    "#                     doc_embedding[idx] = gensim_model.wv[word]\n",
    "#     doc_embedding = np.mean(doc_embedding, axis=0)\n",
    "#     corpus_embeddings.append(doc_embedding)\n",
    "# corpus_embeddings = np.array(corpus_embeddings)\n",
    "# df_corpus_embeddings = pd.DataFrame(corpus_embeddings, columns=[\"c\"+str(i) for i in range(100)])\n",
    "# df_corpus_embeddings.head()"
   ]
  },
  {
   "cell_type": "code",
   "execution_count": 45,
   "metadata": {
    "pycharm": {
     "name": "#%%\n"
    }
   },
   "outputs": [
    {
     "data": {
      "text/plain": "     0    1   10   11   12   13   14   15        16        17  ...   30   31  \\\n0  0.0  0.0  0.0  0.0  0.0  0.0  0.0  0.0  0.000000  0.288665  ...  0.0  0.0   \n1  0.0  0.0  0.0  0.0  0.0  0.0  0.0  0.0  0.000000  0.731951  ...  0.0  0.0   \n2  0.0  0.0  0.0  0.0  0.0  0.0  0.0  0.0  0.000000  0.452504  ...  0.0  0.0   \n3  0.0  0.0  0.0  0.0  0.0  0.0  0.0  0.0  0.000000  0.452504  ...  0.0  0.0   \n4  0.0  0.0  0.0  0.0  0.0  0.0  0.0  0.0  0.514081  0.684461  ...  0.0  0.0   \n\n    32   33    4         5    6    7    8    9  \n0  0.0  0.0  0.0  0.000000  0.0  0.0  0.0  0.0  \n1  0.0  0.0  0.0  0.000000  0.0  0.0  0.0  0.0  \n2  0.0  0.0  0.0  0.000000  0.0  0.0  0.0  0.0  \n3  0.0  0.0  0.0  0.000000  0.0  0.0  0.0  0.0  \n4  0.0  0.0  0.0  0.471304  0.0  0.0  0.0  0.0  \n\n[5 rows x 34 columns]",
      "text/html": "<div>\n<style scoped>\n    .dataframe tbody tr th:only-of-type {\n        vertical-align: middle;\n    }\n\n    .dataframe tbody tr th {\n        vertical-align: top;\n    }\n\n    .dataframe thead th {\n        text-align: right;\n    }\n</style>\n<table border=\"1\" class=\"dataframe\">\n  <thead>\n    <tr style=\"text-align: right;\">\n      <th></th>\n      <th>0</th>\n      <th>1</th>\n      <th>10</th>\n      <th>11</th>\n      <th>12</th>\n      <th>13</th>\n      <th>14</th>\n      <th>15</th>\n      <th>16</th>\n      <th>17</th>\n      <th>...</th>\n      <th>30</th>\n      <th>31</th>\n      <th>32</th>\n      <th>33</th>\n      <th>4</th>\n      <th>5</th>\n      <th>6</th>\n      <th>7</th>\n      <th>8</th>\n      <th>9</th>\n    </tr>\n  </thead>\n  <tbody>\n    <tr>\n      <th>0</th>\n      <td>0.0</td>\n      <td>0.0</td>\n      <td>0.0</td>\n      <td>0.0</td>\n      <td>0.0</td>\n      <td>0.0</td>\n      <td>0.0</td>\n      <td>0.0</td>\n      <td>0.000000</td>\n      <td>0.288665</td>\n      <td>...</td>\n      <td>0.0</td>\n      <td>0.0</td>\n      <td>0.0</td>\n      <td>0.0</td>\n      <td>0.0</td>\n      <td>0.000000</td>\n      <td>0.0</td>\n      <td>0.0</td>\n      <td>0.0</td>\n      <td>0.0</td>\n    </tr>\n    <tr>\n      <th>1</th>\n      <td>0.0</td>\n      <td>0.0</td>\n      <td>0.0</td>\n      <td>0.0</td>\n      <td>0.0</td>\n      <td>0.0</td>\n      <td>0.0</td>\n      <td>0.0</td>\n      <td>0.000000</td>\n      <td>0.731951</td>\n      <td>...</td>\n      <td>0.0</td>\n      <td>0.0</td>\n      <td>0.0</td>\n      <td>0.0</td>\n      <td>0.0</td>\n      <td>0.000000</td>\n      <td>0.0</td>\n      <td>0.0</td>\n      <td>0.0</td>\n      <td>0.0</td>\n    </tr>\n    <tr>\n      <th>2</th>\n      <td>0.0</td>\n      <td>0.0</td>\n      <td>0.0</td>\n      <td>0.0</td>\n      <td>0.0</td>\n      <td>0.0</td>\n      <td>0.0</td>\n      <td>0.0</td>\n      <td>0.000000</td>\n      <td>0.452504</td>\n      <td>...</td>\n      <td>0.0</td>\n      <td>0.0</td>\n      <td>0.0</td>\n      <td>0.0</td>\n      <td>0.0</td>\n      <td>0.000000</td>\n      <td>0.0</td>\n      <td>0.0</td>\n      <td>0.0</td>\n      <td>0.0</td>\n    </tr>\n    <tr>\n      <th>3</th>\n      <td>0.0</td>\n      <td>0.0</td>\n      <td>0.0</td>\n      <td>0.0</td>\n      <td>0.0</td>\n      <td>0.0</td>\n      <td>0.0</td>\n      <td>0.0</td>\n      <td>0.000000</td>\n      <td>0.452504</td>\n      <td>...</td>\n      <td>0.0</td>\n      <td>0.0</td>\n      <td>0.0</td>\n      <td>0.0</td>\n      <td>0.0</td>\n      <td>0.000000</td>\n      <td>0.0</td>\n      <td>0.0</td>\n      <td>0.0</td>\n      <td>0.0</td>\n    </tr>\n    <tr>\n      <th>4</th>\n      <td>0.0</td>\n      <td>0.0</td>\n      <td>0.0</td>\n      <td>0.0</td>\n      <td>0.0</td>\n      <td>0.0</td>\n      <td>0.0</td>\n      <td>0.0</td>\n      <td>0.514081</td>\n      <td>0.684461</td>\n      <td>...</td>\n      <td>0.0</td>\n      <td>0.0</td>\n      <td>0.0</td>\n      <td>0.0</td>\n      <td>0.0</td>\n      <td>0.471304</td>\n      <td>0.0</td>\n      <td>0.0</td>\n      <td>0.0</td>\n      <td>0.0</td>\n    </tr>\n  </tbody>\n</table>\n<p>5 rows × 34 columns</p>\n</div>"
     },
     "execution_count": 45,
     "metadata": {},
     "output_type": "execute_result"
    }
   ],
   "source": [
    "# TF-IDF\n",
    "# vectorizer = TfidfVectorizer(token_pattern=\"\\w+\")\n",
    "# concat_context = [\" \".join(x) for x in df.context]\n",
    "# vectorize_res = vectorizer.fit_transform(concat_context)\n",
    "# df_tfidf = pd.DataFrame(vectorize_res.toarray(), columns=vectorizer.get_feature_names_out())\n",
    "# df_tfidf.head()"
   ]
  },
  {
   "cell_type": "code",
   "execution_count": 9,
   "metadata": {
    "pycharm": {
     "name": "#%%\n"
    }
   },
   "outputs": [],
   "source": [
    "score_names = [\n",
    "    \"Balanced accuracy score\",\n",
    "    \"Precision score\",\n",
    "    \"Recall score\",\n",
    "    \"F1 Binary\"\n",
    "]"
   ]
  },
  {
   "cell_type": "code",
   "execution_count": 49,
   "metadata": {
    "pycharm": {
     "name": "#%%\n"
    }
   },
   "outputs": [],
   "source": [
    "# Folded Random Forest Run\n",
    "if run_random_forests:\n",
    "    X_rnd = X.drop([\"context\"], axis=1)\n",
    "    rnd_forest_sampling_strategy = 0.05\n",
    "    use_sampling = False\n",
    "    # Hyper Params\n",
    "    n_estimators = 9\n",
    "    min_samples_split = 5\n",
    "    min_samples_leaf = 1\n",
    "    max_depth = None\n",
    "    class_weight = {False: 1, True: 1}\n",
    "\n",
    "    df_regular = df.drop([\"context\"], axis=1)\n",
    "    dataframes = [\n",
    "        (\"regular\", df_regular),\n",
    "        # (\"corpus\", df_corpus_embeddings.join(pd.DataFrame(df.contains_logging))),\n",
    "        # (\"tf-idf\", df_tfidf.join(pd.DataFrame(df.contains_logging))),\n",
    "        # (\"regular+corpus\", df_regular.join(df_corpus_embeddings)),\n",
    "        # (\"regular+tfidf\", df_regular.join(df_tfidf)),\n",
    "        # (\"corpus+tfidf\", df_corpus_embeddings.join(df_tfidf).join(pd.DataFrame(df.contains_logging))),\n",
    "        # (\"regular+corpus+tfidf\", df_regular.join(df_corpus_embeddings).join(df_tfidf)),\n",
    "    ]\n",
    "\n",
    "    # for df_name, df_used in dataframes:\n",
    "    #     print(df_name)\n",
    "    for i in [2,3,3.5,4,4.5,5]:\n",
    "        print(f\"Weight: {i}\")\n",
    "        class_weight = {False: 1, True: i}\n",
    "        all_scores = []\n",
    "        conf_matrices = []\n",
    "        # Split data into train and test sets\n",
    "        # X = df_used.drop([\"contains_logging\", \"location\"], axis=1)\n",
    "        # if \"regular\" in df_name:\n",
    "        #     X = pd.get_dummies(X, columns=[\"type\", \"parent\"])\n",
    "        # y = df_used.contains_logging\n",
    "\n",
    "        # classifier = RandomForestClassifier(n_estimators=200, random_state=0)\n",
    "        # classifier = RandomForestClassifier(n_estimators=9, random_state=0)\n",
    "        skf = StratifiedShuffleSplit(n_splits=5, test_size=0.25, random_state=0)\n",
    "        for k_fold, (train_index, test_index) in enumerate(skf.split(X_rnd, y)):\n",
    "            print(f\"Starting fold {k_fold + 1}.\")\n",
    "            classifier = RandomForestClassifier(n_estimators=n_estimators, n_jobs=-1,\n",
    "                                           min_samples_split=min_samples_split,\n",
    "                                           min_samples_leaf=min_samples_leaf,\n",
    "                                           max_depth=max_depth,\n",
    "                                           class_weight=class_weight)\n",
    "            X_train, X_test = X_rnd.iloc[train_index], X_rnd.iloc[test_index]\n",
    "            y_train, y_test = y.iloc[train_index], y.iloc[test_index]\n",
    "            # Undersample\n",
    "            if use_sampling:\n",
    "                # sampler = RandomUnderSampler(sampling_strategy=rnd_forest_sampling_strategy)\n",
    "                sampler = RandomOverSampler(sampling_strategy=rnd_forest_sampling_strategy)\n",
    "                X_train, y_train = sampler.fit_resample(X_train, y_train)\n",
    "\n",
    "            classifier.fit(X_train, y_train)\n",
    "            y_pred = classifier.predict(X_test)\n",
    "            scores = [\n",
    "                    balanced_accuracy_score(y_test, y_pred),\n",
    "                    precision_score(y_test, y_pred),\n",
    "                    recall_score(y_test, y_pred),\n",
    "                    f1_score(y_test, y_pred, average='binary', pos_label=True)\n",
    "            ]\n",
    "            all_scores.append(scores)\n",
    "            cm = confusion_matrix(y_test, y_pred, labels=classifier.classes_)\n",
    "            conf_matrices.append(cm)\n",
    "        score_df = pd.DataFrame(all_scores, columns=score_names).mean().round(3)\n",
    "        print(score_df)\n",
    "        avg_cm = np.mean(conf_matrices, axis=0).astype(int)\n",
    "        disp = ConfusionMatrixDisplay(confusion_matrix=avg_cm,\n",
    "                                      display_labels=classifier.classes_)\n",
    "        disp.plot(cmap=plt.cm.Blues)\n",
    "        plt.show()\n",
    "        out = open(\"my_approach_rnd_forest_results\", \"a\")\n",
    "        # out.write(\"Name, Timestamp, use_sampling, sampling_strategy, n_estimators, min_samples_split, class_weight, \" + \", \".join(score_names) + \"\\n\")\n",
    "        out.write(f\"{repo_name}_over, {time.ctime()}, {use_sampling}, {rnd_forest_sampling_strategy}, {n_estimators}, {min_samples_split}, {class_weight}, \" +\n",
    "                  \", \".join([str(x) for x in score_df.values]) + \"\\n\")\n",
    "        out.close()"
   ]
  },
  {
   "cell_type": "code",
   "execution_count": 12,
   "metadata": {
    "pycharm": {
     "name": "#%%\n"
    }
   },
   "outputs": [
    {
     "data": {
      "text/plain": "                                                  context  \\\n13978   [2, 13, 13, 12, 12, 3, 13, 20, 13, 12, 12, 12,...   \n142857  [2, 12, 13, 2, 16, 13, 2, 16, 13, 12, 12, 13, ...   \n135386               [2, 12, 12, 13, 3, 12, 13, 3, 3, 16]   \n40611              [2, 12, 13, 12, 13, 5, 12, 13, 13, 13]   \n212407                                         [2, 6, 15]   \n...                                                   ...   \n24097   [2, 12, 12, 13, 12, 13, 12, 13, 12, 13, 13, 13...   \n129510                                     [2, 3, 20, 13]   \n67815   [2, 3, 13, 12, 13, 12, 13, 12, 12, 7, 13, 13, ...   \n148600               [2, 6, 12, 13, 10, 7, 13, 6, 13, 13]   \n207595                                 [2, 3, 13, 12, 13]   \n\n        contains_class_definition  contains_function_definition  \\\n13978                           0                             0   \n142857                          0                             0   \n135386                          0                             0   \n40611                           0                             0   \n212407                          0                             0   \n...                           ...                           ...   \n24097                           0                             0   \n129510                          0                             0   \n67815                           0                             0   \n148600                          0                             0   \n207595                          0                             0   \n\n        contains_if_statement  contains_for_statement  \\\n13978                       0                       0   \n142857                      0                       0   \n135386                      1                       0   \n40611                       0                       0   \n212407                      0                       0   \n...                       ...                     ...   \n24097                       0                       0   \n129510                      0                       0   \n67815                       0                       0   \n148600                      0                       0   \n207595                      0                       0   \n\n        contains_while_statement  contains_try_statement  \\\n13978                          0                       0   \n142857                         0                       0   \n135386                         0                       0   \n40611                          0                       0   \n212407                         0                       0   \n...                          ...                     ...   \n24097                          0                       0   \n129510                         0                       0   \n67815                          0                       0   \n148600                         0                       0   \n207595                         0                       0   \n\n        contains_with_statement  contains_return_statement  \\\n13978                         0                          0   \n142857                        0                          0   \n135386                        0                          0   \n40611                         0                          0   \n212407                        0                          0   \n...                         ...                        ...   \n24097                         0                          1   \n129510                        0                          0   \n67815                         0                          0   \n148600                        0                          0   \n207595                        0                          0   \n\n        contains_assert_statement  ...  parent_c  parent_d  parent_e  \\\n13978                           0  ...         0         0         0   \n142857                          0  ...         1         0         0   \n135386                          0  ...         0         1         0   \n40611                           0  ...         1         0         0   \n212407                          0  ...         1         0         0   \n...                           ...  ...       ...       ...       ...   \n24097                           0  ...         0         0         0   \n129510                          0  ...         1         0         0   \n67815                           0  ...         0         1         0   \n148600                          0  ...         0         0         0   \n207595                          0  ...         1         0         0   \n\n        parent_f  parent_g  parent_h  parent_i  parent_j  parent_k  parent_l  \n13978          0         1         0         0         0         0         0  \n142857         0         0         0         0         0         0         0  \n135386         0         0         0         0         0         0         0  \n40611          0         0         0         0         0         0         0  \n212407         0         0         0         0         0         0         0  \n...          ...       ...       ...       ...       ...       ...       ...  \n24097          0         0         0         0         0         0         0  \n129510         0         0         0         0         0         0         0  \n67815          0         0         0         0         0         0         0  \n148600         0         0         1         0         0         0         0  \n207595         0         0         0         0         0         0         0  \n\n[88302 rows x 47 columns]",
      "text/html": "<div>\n<style scoped>\n    .dataframe tbody tr th:only-of-type {\n        vertical-align: middle;\n    }\n\n    .dataframe tbody tr th {\n        vertical-align: top;\n    }\n\n    .dataframe thead th {\n        text-align: right;\n    }\n</style>\n<table border=\"1\" class=\"dataframe\">\n  <thead>\n    <tr style=\"text-align: right;\">\n      <th></th>\n      <th>context</th>\n      <th>contains_class_definition</th>\n      <th>contains_function_definition</th>\n      <th>contains_if_statement</th>\n      <th>contains_for_statement</th>\n      <th>contains_while_statement</th>\n      <th>contains_try_statement</th>\n      <th>contains_with_statement</th>\n      <th>contains_return_statement</th>\n      <th>contains_assert_statement</th>\n      <th>...</th>\n      <th>parent_c</th>\n      <th>parent_d</th>\n      <th>parent_e</th>\n      <th>parent_f</th>\n      <th>parent_g</th>\n      <th>parent_h</th>\n      <th>parent_i</th>\n      <th>parent_j</th>\n      <th>parent_k</th>\n      <th>parent_l</th>\n    </tr>\n  </thead>\n  <tbody>\n    <tr>\n      <th>13978</th>\n      <td>[2, 13, 13, 12, 12, 3, 13, 20, 13, 12, 12, 12,...</td>\n      <td>0</td>\n      <td>0</td>\n      <td>0</td>\n      <td>0</td>\n      <td>0</td>\n      <td>0</td>\n      <td>0</td>\n      <td>0</td>\n      <td>0</td>\n      <td>...</td>\n      <td>0</td>\n      <td>0</td>\n      <td>0</td>\n      <td>0</td>\n      <td>1</td>\n      <td>0</td>\n      <td>0</td>\n      <td>0</td>\n      <td>0</td>\n      <td>0</td>\n    </tr>\n    <tr>\n      <th>142857</th>\n      <td>[2, 12, 13, 2, 16, 13, 2, 16, 13, 12, 12, 13, ...</td>\n      <td>0</td>\n      <td>0</td>\n      <td>0</td>\n      <td>0</td>\n      <td>0</td>\n      <td>0</td>\n      <td>0</td>\n      <td>0</td>\n      <td>0</td>\n      <td>...</td>\n      <td>1</td>\n      <td>0</td>\n      <td>0</td>\n      <td>0</td>\n      <td>0</td>\n      <td>0</td>\n      <td>0</td>\n      <td>0</td>\n      <td>0</td>\n      <td>0</td>\n    </tr>\n    <tr>\n      <th>135386</th>\n      <td>[2, 12, 12, 13, 3, 12, 13, 3, 3, 16]</td>\n      <td>0</td>\n      <td>0</td>\n      <td>1</td>\n      <td>0</td>\n      <td>0</td>\n      <td>0</td>\n      <td>0</td>\n      <td>0</td>\n      <td>0</td>\n      <td>...</td>\n      <td>0</td>\n      <td>1</td>\n      <td>0</td>\n      <td>0</td>\n      <td>0</td>\n      <td>0</td>\n      <td>0</td>\n      <td>0</td>\n      <td>0</td>\n      <td>0</td>\n    </tr>\n    <tr>\n      <th>40611</th>\n      <td>[2, 12, 13, 12, 13, 5, 12, 13, 13, 13]</td>\n      <td>0</td>\n      <td>0</td>\n      <td>0</td>\n      <td>0</td>\n      <td>0</td>\n      <td>0</td>\n      <td>0</td>\n      <td>0</td>\n      <td>0</td>\n      <td>...</td>\n      <td>1</td>\n      <td>0</td>\n      <td>0</td>\n      <td>0</td>\n      <td>0</td>\n      <td>0</td>\n      <td>0</td>\n      <td>0</td>\n      <td>0</td>\n      <td>0</td>\n    </tr>\n    <tr>\n      <th>212407</th>\n      <td>[2, 6, 15]</td>\n      <td>0</td>\n      <td>0</td>\n      <td>0</td>\n      <td>0</td>\n      <td>0</td>\n      <td>0</td>\n      <td>0</td>\n      <td>0</td>\n      <td>0</td>\n      <td>...</td>\n      <td>1</td>\n      <td>0</td>\n      <td>0</td>\n      <td>0</td>\n      <td>0</td>\n      <td>0</td>\n      <td>0</td>\n      <td>0</td>\n      <td>0</td>\n      <td>0</td>\n    </tr>\n    <tr>\n      <th>...</th>\n      <td>...</td>\n      <td>...</td>\n      <td>...</td>\n      <td>...</td>\n      <td>...</td>\n      <td>...</td>\n      <td>...</td>\n      <td>...</td>\n      <td>...</td>\n      <td>...</td>\n      <td>...</td>\n      <td>...</td>\n      <td>...</td>\n      <td>...</td>\n      <td>...</td>\n      <td>...</td>\n      <td>...</td>\n      <td>...</td>\n      <td>...</td>\n      <td>...</td>\n      <td>...</td>\n    </tr>\n    <tr>\n      <th>24097</th>\n      <td>[2, 12, 12, 13, 12, 13, 12, 13, 12, 13, 13, 13...</td>\n      <td>0</td>\n      <td>0</td>\n      <td>0</td>\n      <td>0</td>\n      <td>0</td>\n      <td>0</td>\n      <td>0</td>\n      <td>1</td>\n      <td>0</td>\n      <td>...</td>\n      <td>0</td>\n      <td>0</td>\n      <td>0</td>\n      <td>0</td>\n      <td>0</td>\n      <td>0</td>\n      <td>0</td>\n      <td>0</td>\n      <td>0</td>\n      <td>0</td>\n    </tr>\n    <tr>\n      <th>129510</th>\n      <td>[2, 3, 20, 13]</td>\n      <td>0</td>\n      <td>0</td>\n      <td>0</td>\n      <td>0</td>\n      <td>0</td>\n      <td>0</td>\n      <td>0</td>\n      <td>0</td>\n      <td>0</td>\n      <td>...</td>\n      <td>1</td>\n      <td>0</td>\n      <td>0</td>\n      <td>0</td>\n      <td>0</td>\n      <td>0</td>\n      <td>0</td>\n      <td>0</td>\n      <td>0</td>\n      <td>0</td>\n    </tr>\n    <tr>\n      <th>67815</th>\n      <td>[2, 3, 13, 12, 13, 12, 13, 12, 12, 7, 13, 13, ...</td>\n      <td>0</td>\n      <td>0</td>\n      <td>0</td>\n      <td>0</td>\n      <td>0</td>\n      <td>0</td>\n      <td>0</td>\n      <td>0</td>\n      <td>0</td>\n      <td>...</td>\n      <td>0</td>\n      <td>1</td>\n      <td>0</td>\n      <td>0</td>\n      <td>0</td>\n      <td>0</td>\n      <td>0</td>\n      <td>0</td>\n      <td>0</td>\n      <td>0</td>\n    </tr>\n    <tr>\n      <th>148600</th>\n      <td>[2, 6, 12, 13, 10, 7, 13, 6, 13, 13]</td>\n      <td>0</td>\n      <td>0</td>\n      <td>0</td>\n      <td>0</td>\n      <td>0</td>\n      <td>0</td>\n      <td>0</td>\n      <td>0</td>\n      <td>0</td>\n      <td>...</td>\n      <td>0</td>\n      <td>0</td>\n      <td>0</td>\n      <td>0</td>\n      <td>0</td>\n      <td>1</td>\n      <td>0</td>\n      <td>0</td>\n      <td>0</td>\n      <td>0</td>\n    </tr>\n    <tr>\n      <th>207595</th>\n      <td>[2, 3, 13, 12, 13]</td>\n      <td>0</td>\n      <td>0</td>\n      <td>0</td>\n      <td>0</td>\n      <td>0</td>\n      <td>0</td>\n      <td>0</td>\n      <td>0</td>\n      <td>0</td>\n      <td>...</td>\n      <td>1</td>\n      <td>0</td>\n      <td>0</td>\n      <td>0</td>\n      <td>0</td>\n      <td>0</td>\n      <td>0</td>\n      <td>0</td>\n      <td>0</td>\n      <td>0</td>\n    </tr>\n  </tbody>\n</table>\n<p>88302 rows × 47 columns</p>\n</div>"
     },
     "execution_count": 12,
     "metadata": {},
     "output_type": "execute_result"
    }
   ],
   "source": [
    "# Data split for Tensorflow\n",
    "# X_train, X_test, y_train, y_test = train_test_split(X, y, test_size = 0.25, stratify=y, random_state=0)\n",
    "# X_train"
   ]
  },
  {
   "cell_type": "code",
   "execution_count": 13,
   "outputs": [
    {
     "name": "stdout",
     "output_type": "stream",
     "text": [
      "Negatives: 84575\n",
      "Positives: 3727\n",
      "Ratio:\t   4.41%\n"
     ]
    }
   ],
   "source": [
    "# print(\"Negatives: \" + str(y_train[y_train == 0].shape[0]))\n",
    "# print(\"Positives: \" + str(y_train[y_train == 1].shape[0]))\n",
    "# print(\"Ratio:\\t   \" + f\"{y_train[y_train == 1].shape[0] / y_train[y_train == 0].shape[0] * 100:.2f}\" + \"%\")"
   ],
   "metadata": {
    "collapsed": false,
    "pycharm": {
     "name": "#%%\n"
    }
   }
  },
  {
   "cell_type": "code",
   "execution_count": 14,
   "outputs": [],
   "source": [
    "# Smote doesn't seem to work with the context column\n",
    "# over = SMOTE(random_state=0, sampling_strategy=0.1)\n",
    "# X_train_resampled, y_train_resampled = over.fit_resample(X_train, y_train)\n",
    "\n",
    "# over = RandomOverSampler(random_state=0, sampling_strategy=0.1)\n",
    "# X_train_resampled, y_train_resampled = over.fit_resample(X_train, y_train)\n",
    "\n",
    "# sampling_strategy = 0.05\n",
    "# Choose one:\n",
    "# sampler = RandomUnderSampler(random_state=0, sampling_strategy=sampling_strategy)\n",
    "# sampler = RandomOverSampler(random_state=0, sampling_strategy=sampling_strategy)\n",
    "\n",
    "# X_train_resampled, y_train_resampled = sampler.fit_resample(X_train, y_train)"
   ],
   "metadata": {
    "collapsed": false,
    "pycharm": {
     "name": "#%%\n"
    }
   }
  },
  {
   "cell_type": "code",
   "execution_count": 15,
   "outputs": [
    {
     "name": "stdout",
     "output_type": "stream",
     "text": [
      "Negatives: 84575\n",
      "Positives: 4228\n",
      "Ratio:\t   5.00%\n"
     ]
    }
   ],
   "source": [
    "# print(\"Negatives: \" + str(y_train_resampled[y_train_resampled == 0].shape[0]))\n",
    "# print(\"Positives: \" + str(y_train_resampled[y_train_resampled == 1].shape[0]))\n",
    "# print(\"Ratio:\\t   \" + f\"{y_train_resampled[y_train_resampled == 1].shape[0] / y_train_resampled[y_train_resampled == 0].shape[0] * 100:.2f}\" + \"%\")"
   ],
   "metadata": {
    "collapsed": false,
    "pycharm": {
     "name": "#%%\n"
    }
   }
  },
  {
   "cell_type": "code",
   "execution_count": 16,
   "outputs": [],
   "source": [
    "# X_train, y_train = X_train_resampled, y_train_resampled"
   ],
   "metadata": {
    "collapsed": false,
    "pycharm": {
     "name": "#%%\n"
    }
   }
  },
  {
   "cell_type": "code",
   "execution_count": 17,
   "metadata": {
    "pycharm": {
     "name": "#%%\n"
    }
   },
   "outputs": [],
   "source": [
    "sampling_strategy = 0.05\n",
    "vocab_size = actual_vocab_size + 1\n",
    "output_dims = 100\n",
    "max_length = 80\n",
    "num_epochs = 20\n",
    "batch_size = 64\n",
    "trainable=True\n",
    "dropout = 0.2\n",
    "val_split = 0.0\n",
    "num_nodes = 128\n",
    "callback = [\"cp\"]\n",
    "callback_monitor = 'val_f1_score'\n",
    "class_weight = \"class_weight_not_supported\"\n",
    "cmpltn_metrics = [tfa.metrics.F1Score(num_classes=1, threshold=0.5)]\n",
    "settings_hash = int((hash(str([sampling_strategy, vocab_size, output_dims, max_length, num_epochs, batch_size, trainable, dropout, val_split, num_nodes, callback, callback_monitor, class_weight, cmpltn_metrics])) ** 2) ** 0.5) # TODO: DEPRECATE\n",
    "\n",
    "# Cross-validation settings\n",
    "n_splits = 2"
   ]
  },
  {
   "cell_type": "code",
   "execution_count": 18,
   "metadata": {
    "pycharm": {
     "name": "#%%\n"
    }
   },
   "outputs": [],
   "source": [
    "# Build embedding matrix\n",
    "embedding_matrix = build_embedding_matrix(vocab_size, output_dims, gensim_model)"
   ]
  },
  {
   "cell_type": "code",
   "execution_count": 41,
   "outputs": [],
   "source": [
    "# DEPRECATED: Not usable with k-fold cross-validation\n",
    "# Pad the context\n",
    "# padded_context = pad_sequences(np.array(X.context), maxlen=max_length, value=0.0)\n",
    "# Prepare the \"other\" input\n",
    "# other_input = X.drop([\"context\"], axis=1)"
   ],
   "metadata": {
    "collapsed": false,
    "pycharm": {
     "name": "#%%\n"
    }
   }
  },
  {
   "cell_type": "code",
   "execution_count": 19,
   "metadata": {
    "pycharm": {
     "name": "#%%\n"
    }
   },
   "outputs": [
    {
     "data": {
      "text/plain": "array([[ 0,  0,  0, ..., 10, 20, 13],\n       [ 0,  0,  0, ..., 12, 12, 13],\n       [ 0,  0,  0, ...,  3,  3, 16],\n       ...,\n       [ 0,  0,  0, ...,  2,  3, 16],\n       [ 0,  0,  0, ..., 13, 13, 13],\n       [ 0,  0,  0, ..., 16,  3, 13]], dtype=int32)"
     },
     "execution_count": 19,
     "metadata": {},
     "output_type": "execute_result"
    }
   ],
   "source": [
    "# DEPRECATED\n",
    "# Pad the context to create the context input\n",
    "# padded_inputs = pad_sequences(np.array(list(X_train.context), dtype=object), maxlen=max_length, value=0.0)  # 0.0 because it corresponds with <PAD>\n",
    "# padded_inputs_test = pad_sequences(np.array(list(X_test.context), dtype=object), maxlen=max_length, value=0.0)  # 0.0 because it corresponds with <PAD>\n",
    "# padded_inputs"
   ]
  },
  {
   "cell_type": "code",
   "execution_count": 45,
   "metadata": {
    "pycharm": {
     "name": "#%%\n"
    }
   },
   "outputs": [
    {
     "data": {
      "text/plain": "(88803, 46)"
     },
     "execution_count": 45,
     "metadata": {},
     "output_type": "execute_result"
    }
   ],
   "source": [
    "# DEPRECATED\n",
    "# Prepare the \"other\" input\n",
    "# regular_inputs = X_train.drop([\"context\", \"location\"], axis=1)\n",
    "# regular_inputs_test = X_test.drop([\"context\", \"location\"], axis=1)\n",
    "# regular_inputs = X_train.drop([\"context\"], axis=1)\n",
    "# regular_inputs_test = X_test.drop([\"context\"], axis=1)\n",
    "# regular_inputs.shape"
   ]
  },
  {
   "cell_type": "code",
   "execution_count": 21,
   "metadata": {
    "pycharm": {
     "name": "#%%\n"
    }
   },
   "outputs": [
    {
     "name": "stdout",
     "output_type": "stream",
     "text": [
      "Hi\n"
     ]
    },
    {
     "ename": "ValueError",
     "evalue": "Data cardinality is ambiguous:\n  x sizes: 88803, 88803\n  y sizes: 88302\nMake sure all arrays contain the same number of samples.",
     "output_type": "error",
     "traceback": [
      "\u001B[0;31m---------------------------------------------------------------------------\u001B[0m",
      "\u001B[0;31mValueError\u001B[0m                                Traceback (most recent call last)",
      "Input \u001B[0;32mIn [21]\u001B[0m, in \u001B[0;36m<cell line: 18>\u001B[0;34m()\u001B[0m\n\u001B[1;32m     25\u001B[0m exit()\n\u001B[1;32m     26\u001B[0m \u001B[38;5;66;03m# Fit the model\u001B[39;00m\n\u001B[0;32m---> 27\u001B[0m history \u001B[38;5;241m=\u001B[39m \u001B[43mmodel\u001B[49m\u001B[38;5;241;43m.\u001B[39;49m\u001B[43mfit\u001B[49m\u001B[43m(\u001B[49m\n\u001B[1;32m     28\u001B[0m \u001B[43m    \u001B[49m\u001B[43mX_train_dict\u001B[49m\u001B[43m,\u001B[49m\n\u001B[1;32m     29\u001B[0m \u001B[43m    \u001B[49m\u001B[43m{\u001B[49m\u001B[38;5;124;43m\"\u001B[39;49m\u001B[38;5;124;43mlogging\u001B[39;49m\u001B[38;5;124;43m\"\u001B[39;49m\u001B[43m:\u001B[49m\u001B[43m \u001B[49m\u001B[43my_train\u001B[49m\u001B[43m}\u001B[49m\u001B[43m,\u001B[49m\n\u001B[1;32m     30\u001B[0m \u001B[43m    \u001B[49m\u001B[43mepochs\u001B[49m\u001B[38;5;241;43m=\u001B[39;49m\u001B[43mnum_epochs\u001B[49m\u001B[43m,\u001B[49m\n\u001B[1;32m     31\u001B[0m \u001B[43m    \u001B[49m\u001B[43mbatch_size\u001B[49m\u001B[38;5;241;43m=\u001B[39;49m\u001B[43mbatch_size\u001B[49m\u001B[43m,\u001B[49m\n\u001B[1;32m     32\u001B[0m \u001B[43m    \u001B[49m\u001B[43mvalidation_data\u001B[49m\u001B[38;5;241;43m=\u001B[39;49m\u001B[43m(\u001B[49m\u001B[43m{\u001B[49m\u001B[38;5;124;43m\"\u001B[39;49m\u001B[38;5;124;43mcontext\u001B[39;49m\u001B[38;5;124;43m\"\u001B[39;49m\u001B[43m:\u001B[49m\u001B[43m \u001B[49m\u001B[43mpadded_inputs_test\u001B[49m\u001B[43m,\u001B[49m\u001B[43m \u001B[49m\u001B[38;5;124;43m\"\u001B[39;49m\u001B[38;5;124;43mother\u001B[39;49m\u001B[38;5;124;43m\"\u001B[39;49m\u001B[43m:\u001B[49m\u001B[43m \u001B[49m\u001B[43mregular_inputs_test\u001B[49m\u001B[43m}\u001B[49m\u001B[43m,\u001B[49m\u001B[43m \u001B[49m\u001B[43my_test\u001B[49m\u001B[43m)\u001B[49m\u001B[43m,\u001B[49m\n\u001B[1;32m     33\u001B[0m \u001B[43m    \u001B[49m\u001B[43mvalidation_split\u001B[49m\u001B[38;5;241;43m=\u001B[39;49m\u001B[43mval_split\u001B[49m\u001B[43m,\u001B[49m\n\u001B[1;32m     34\u001B[0m \u001B[43m    \u001B[49m\u001B[43mcallbacks\u001B[49m\u001B[38;5;241;43m=\u001B[39;49m\u001B[43mcallbacks\u001B[49m\u001B[43m,\u001B[49m\n\u001B[1;32m     35\u001B[0m \u001B[43m\u001B[49m\u001B[43m)\u001B[49m\n\u001B[1;32m     37\u001B[0m \u001B[38;5;66;03m# Predict with final weights\u001B[39;00m\n\u001B[1;32m     38\u001B[0m pred_test\u001B[38;5;241m=\u001B[39m model\u001B[38;5;241m.\u001B[39mpredict(X_test_dict, batch_size\u001B[38;5;241m=\u001B[39mbatch_size)\n",
      "File \u001B[0;32m/usr/local/Cellar/python@3.9/3.9.0_2/Frameworks/Python.framework/Versions/3.9/lib/python3.9/site-packages/keras/utils/traceback_utils.py:67\u001B[0m, in \u001B[0;36mfilter_traceback.<locals>.error_handler\u001B[0;34m(*args, **kwargs)\u001B[0m\n\u001B[1;32m     65\u001B[0m \u001B[38;5;28;01mexcept\u001B[39;00m \u001B[38;5;167;01mException\u001B[39;00m \u001B[38;5;28;01mas\u001B[39;00m e:  \u001B[38;5;66;03m# pylint: disable=broad-except\u001B[39;00m\n\u001B[1;32m     66\u001B[0m   filtered_tb \u001B[38;5;241m=\u001B[39m _process_traceback_frames(e\u001B[38;5;241m.\u001B[39m__traceback__)\n\u001B[0;32m---> 67\u001B[0m   \u001B[38;5;28;01mraise\u001B[39;00m e\u001B[38;5;241m.\u001B[39mwith_traceback(filtered_tb) \u001B[38;5;28;01mfrom\u001B[39;00m \u001B[38;5;28mNone\u001B[39m\n\u001B[1;32m     68\u001B[0m \u001B[38;5;28;01mfinally\u001B[39;00m:\n\u001B[1;32m     69\u001B[0m   \u001B[38;5;28;01mdel\u001B[39;00m filtered_tb\n",
      "File \u001B[0;32m/usr/local/Cellar/python@3.9/3.9.0_2/Frameworks/Python.framework/Versions/3.9/lib/python3.9/site-packages/keras/engine/data_adapter.py:1655\u001B[0m, in \u001B[0;36m_check_data_cardinality\u001B[0;34m(data)\u001B[0m\n\u001B[1;32m   1651\u001B[0m   msg \u001B[38;5;241m+\u001B[39m\u001B[38;5;241m=\u001B[39m \u001B[38;5;124m\"\u001B[39m\u001B[38;5;124m  \u001B[39m\u001B[38;5;132;01m{}\u001B[39;00m\u001B[38;5;124m sizes: \u001B[39m\u001B[38;5;132;01m{}\u001B[39;00m\u001B[38;5;130;01m\\n\u001B[39;00m\u001B[38;5;124m\"\u001B[39m\u001B[38;5;241m.\u001B[39mformat(\n\u001B[1;32m   1652\u001B[0m       label, \u001B[38;5;124m\"\u001B[39m\u001B[38;5;124m, \u001B[39m\u001B[38;5;124m\"\u001B[39m\u001B[38;5;241m.\u001B[39mjoin(\u001B[38;5;28mstr\u001B[39m(i\u001B[38;5;241m.\u001B[39mshape[\u001B[38;5;241m0\u001B[39m])\n\u001B[1;32m   1653\u001B[0m                        \u001B[38;5;28;01mfor\u001B[39;00m i \u001B[38;5;129;01min\u001B[39;00m tf\u001B[38;5;241m.\u001B[39mnest\u001B[38;5;241m.\u001B[39mflatten(single_data)))\n\u001B[1;32m   1654\u001B[0m msg \u001B[38;5;241m+\u001B[39m\u001B[38;5;241m=\u001B[39m \u001B[38;5;124m\"\u001B[39m\u001B[38;5;124mMake sure all arrays contain the same number of samples.\u001B[39m\u001B[38;5;124m\"\u001B[39m\n\u001B[0;32m-> 1655\u001B[0m \u001B[38;5;28;01mraise\u001B[39;00m \u001B[38;5;167;01mValueError\u001B[39;00m(msg)\n",
      "\u001B[0;31mValueError\u001B[0m: Data cardinality is ambiguous:\n  x sizes: 88803, 88803\n  y sizes: 88302\nMake sure all arrays contain the same number of samples."
     ]
    }
   ],
   "source": [
    "# DEBUG\n",
    "# num_epochs = 1\n",
    "# batch_size = 128\n",
    "# /DEBUG\n",
    "\n",
    "start = time.time()\n",
    "\n",
    "# List of (X_test_dict, y_test) of all folds\n",
    "test_sets = []\n",
    "\n",
    "model = build_hybrid_model(vocab_size, output_dims, embedding_matrix, max_length,\n",
    "                       trainable, num_nodes, dropout, X.shape[1] - 1)\n",
    "# model.summary()\n",
    "\n",
    "# Compile the model\n",
    "model.compile(optimizer='adam', loss='binary_crossentropy', metrics=cmpltn_metrics)\n",
    "\n",
    "final_bal_acc_all, final_precision_all, final_recall_all, final_f1_all = [], [], [], []\n",
    "best_bal_acc_all, best_precision_all, best_recall_all, best_f1_all = [], [], [], []\n",
    "# K-fold cross-validation\n",
    "skf = StratifiedShuffleSplit(n_splits=n_splits, test_size=0.25, random_state=0)\n",
    "for k_fold, (train_index, test_index) in enumerate(skf.split(X, y)):\n",
    "    print(f\"Starting fold {k_fold + 1} of {n_splits}.\")\n",
    "    # Split the data into train and test sets\n",
    "    X_train, X_test = X.iloc[train_index], X.iloc[test_index]\n",
    "    y_train, y_test = y.iloc[train_index], y.iloc[test_index]\n",
    "    # Oversample the minority class\n",
    "    sampler = RandomOverSampler(sampling_strategy=sampling_strategy)\n",
    "    X_train, y_train = sampler.fit_resample(X_train, y_train)\n",
    "    # Pad the context to create the context input\n",
    "    padded_inputs = pad_sequences(np.array(list(X_train.context), dtype=object), maxlen=max_length, value=0.0)\n",
    "    padded_inputs_test = pad_sequences(np.array(list(X_test.context), dtype=object), maxlen=max_length, value=0.0)\n",
    "    # Prepare the \"other\" input\n",
    "    regular_inputs = X_train.drop([\"context\"], axis=1)\n",
    "    regular_inputs_test = X_test.drop([\"context\"], axis=1)\n",
    "    # Put both inputs into a dict\n",
    "    X_train_dict = {\"context\": padded_inputs, \"other\": regular_inputs}\n",
    "    X_test_dict = {\"context\": padded_inputs_test, \"other\": regular_inputs_test}\n",
    "    # Append to the list of test sets\n",
    "    test_sets.append((X_test_dict, y_test))\n",
    "    # Build the callbacks\n",
    "    callbacks, model_cp_filepath = build_callbacks(callback, callback_monitor, repo_name, settings_hash, k_fold)\n",
    "    # Fit the model\n",
    "    history = model.fit(\n",
    "        X_train_dict,\n",
    "        {\"logging\": y_train},\n",
    "        epochs=num_epochs,\n",
    "        batch_size=batch_size,\n",
    "        validation_data=(X_test_dict, y_test),\n",
    "        validation_split=val_split,\n",
    "        callbacks=callbacks,\n",
    "    )\n",
    "\n",
    "    # Predict with final weights\n",
    "    pred_test= model.predict(X_test_dict, batch_size=batch_size)\n",
    "    y_pred = np.round(pred_test)\n",
    "    final_bal_acc_all.append(balanced_accuracy_score(y_test, y_pred))\n",
    "    final_precision_all.append(precision_score(y_test, y_pred))\n",
    "    final_recall_all.append(recall_score(y_test, y_pred))\n",
    "    final_f1_all.append(f1_score(y_test, y_pred))\n",
    "    # Now load the best weights and predict on test data again\n",
    "    if \"cp\" in callback:\n",
    "            model.load_weights(model_cp_filepath)\n",
    "            best_pred_test= model.predict(X_test_dict, batch_size=batch_size)\n",
    "            best_y_pred = np.round(best_pred_test)\n",
    "            best_bal_acc_all.append(balanced_accuracy_score(y_test, best_y_pred))\n",
    "            best_precision_all.append(precision_score(y_test, best_y_pred))\n",
    "            best_recall_all.append(recall_score(y_test, best_y_pred))\n",
    "            best_f1_all.append(f1_score(y_test, best_y_pred))\n",
    "\n",
    "best_fold = np.argmax(best_f1_all)\n",
    "\n",
    "end = time.time()\n",
    "execution_time = int(end - start)\n",
    "\n",
    "scores = [\n",
    "    f\"{repo_name[:3]}_min{min_val}_hybrid_cv{n_splits}\",\n",
    "    time.ctime(),\n",
    "    sampling_strategy,\n",
    "    max_length,\n",
    "    vocab_size,\n",
    "    batch_size,\n",
    "    trainable,\n",
    "    dropout,\n",
    "    val_split,\n",
    "    callback,\n",
    "    callback_monitor,\n",
    "    num_nodes,\n",
    "    num_epochs,\n",
    "    class_weight,\n",
    "    list(map(lambda x: x.name if callable(x) else x, cmpltn_metrics)),\n",
    "    settings_hash,\n",
    "    execution_time,\n",
    "    f\"{np.mean(final_bal_acc_all, axis=0):.2f}\"[2:],\n",
    "    f\"{np.mean(final_precision_all, axis=0):.2f}\"[2:],\n",
    "    f\"{np.mean(final_recall_all, axis=0):.2f}\"[2:],\n",
    "    f\"{np.mean(final_f1_all, axis=0):.3f}\"[2:],\n",
    "    f\"{np.mean(best_bal_acc_all, axis=0):.2f}\"[2:],\n",
    "    f\"{np.mean(best_precision_all, axis=0):.2f}\"[2:],\n",
    "    f\"{np.mean(best_recall_all, axis=0):.2f}\"[2:],\n",
    "    f\"{np.mean(best_f1_all, axis=0):.3f}\"[2:],\n",
    "    best_fold,\n",
    "    f\"{best_f1_all[best_fold]:.3f}\"[2:],\n",
    "]\n",
    "out = open(\"results.txt\", \"a\")\n",
    "out.write(iteration_features + \", Final_Bal_Acc, Final_Prec, Final_Recall, Final_F1, Best_Bal_Acc, Best_Prec, Best_Recall, Best_F1, Best_Fold, Best_Fold_F1\\n\")\n",
    "out.write(str(scores).replace(\"'\", \"\")[1:-1] + \"\\n\")\n",
    "out.close()"
   ]
  },
  {
   "cell_type": "code",
   "execution_count": null,
   "metadata": {
    "pycharm": {
     "name": "#%%\n"
    }
   },
   "outputs": [],
   "source": [
    "checkpoint_filepath = 'zhenhao_models/174repos_min50_max1000000/4609183334028858880/fold2'\n",
    "model.load_weights(checkpoint_filepath)"
   ]
  },
  {
   "cell_type": "code",
   "execution_count": null,
   "outputs": [],
   "source": [
    "pred_test= model.predict(X_test_dict, batch_size=batch_size)\n",
    "y_pred = np.round(pred_test)"
   ],
   "metadata": {
    "collapsed": false,
    "pycharm": {
     "name": "#%%\n"
    }
   }
  },
  {
   "cell_type": "code",
   "execution_count": null,
   "outputs": [],
   "source": [
    "print(balanced_accuracy_score(y_test, y_pred))\n",
    "print(precision_score(y_test, y_pred))\n",
    "print(recall_score(y_test, y_pred))\n",
    "print(f1_score(y_test, y_pred))"
   ],
   "metadata": {
    "collapsed": false,
    "pycharm": {
     "name": "#%%\n"
    }
   }
  }
 ],
 "metadata": {
  "kernelspec": {
   "display_name": "Python 3",
   "language": "python",
   "name": "python3"
  },
  "language_info": {
   "codemirror_mode": {
    "name": "ipython",
    "version": 3
   },
   "file_extension": ".py",
   "mimetype": "text/x-python",
   "name": "python",
   "nbconvert_exporter": "python",
   "pygments_lexer": "ipython3",
   "version": "3.7.3"
  }
 },
 "nbformat": 4,
 "nbformat_minor": 1
}